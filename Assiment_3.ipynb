{
  "cells": [
    {
      "cell_type": "markdown",
      "metadata": {
        "id": "H-SHOwe8XBKD"
      },
      "source": [
        "# Import The Libraries"
      ]
    },
    {
      "cell_type": "code",
      "execution_count": 2,
      "metadata": {
        "id": "DSEIBKp_XBKG"
      },
      "outputs": [],
      "source": [
        "import tensorflow as tf\n",
        "import numpy as np\n",
        "from matplotlib import pyplot as plt\n",
        "from tensorflow.keras.models import Sequential\n",
        "from tensorflow.keras.layers import Dense, Conv2D, MaxPooling2D, Dropout, Flatten , Activation"
      ]
    },
    {
      "cell_type": "markdown",
      "metadata": {
        "id": "8M2xhMqWXBKH"
      },
      "source": [
        "# Rearrange the data creating our train and test arrays"
      ]
    },
    {
      "cell_type": "code",
      "execution_count": 3,
      "metadata": {
        "colab": {
          "base_uri": "https://localhost:8080/"
        },
        "id": "vIAUvnJ6XBKI",
        "outputId": "2d260d41-6780-4dc8-f204-983f5cc47832"
      },
      "outputs": [
        {
          "output_type": "execute_result",
          "data": {
            "text/plain": [
              "<module 'keras.api._v2.keras.datasets.mnist' from '/usr/local/lib/python3.7/dist-packages/keras/api/_v2/keras/datasets/mnist/__init__.py'>"
            ]
          },
          "metadata": {},
          "execution_count": 3
        }
      ],
      "source": [
        "mnist = tf.keras.datasets.mnist\n",
        "mnist"
      ]
    },
    {
      "cell_type": "code",
      "execution_count": 4,
      "metadata": {
        "id": "DaXXODqfXBKK",
        "colab": {
          "base_uri": "https://localhost:8080/"
        },
        "outputId": "49fa04f7-4881-4344-ba33-d174ac741061"
      },
      "outputs": [
        {
          "output_type": "stream",
          "name": "stdout",
          "text": [
            "Downloading data from https://storage.googleapis.com/tensorflow/tf-keras-datasets/mnist.npz\n",
            "11493376/11490434 [==============================] - 0s 0us/step\n",
            "11501568/11490434 [==============================] - 0s 0us/step\n"
          ]
        }
      ],
      "source": [
        "#load data\n",
        "(train_images, train_labels), (test_images, test_labels) = mnist.load_data()\n",
        "# train_images=train_images1[:5000,:]\n",
        "# train_labels=train_labels1[:5000]\n",
        "# test_images=test_images1[:500,:]\n",
        "# test_labels=test_labels1[:500]"
      ]
    },
    {
      "cell_type": "code",
      "execution_count": 5,
      "metadata": {
        "id": "UxoLM5TnXBKL"
      },
      "outputs": [],
      "source": [
        "#function to make the labeles as one hot vector\n",
        "def label_reshape(arr_labele):\n",
        "    label_vector=[]\n",
        "    for i in range(len(arr_labele)):\n",
        "        label_vector.append([0 for _ in range(10)])\n",
        "        x = arr_labele[i]\n",
        "        label_vector[i][x] = 1\n",
        "    return label_vector  "
      ]
    },
    {
      "cell_type": "code",
      "execution_count": 6,
      "metadata": {
        "id": "dk3KdqP9XBKL"
      },
      "outputs": [],
      "source": [
        "train_labels = label_reshape(train_labels)\n",
        "test_labels = label_reshape(test_labels)"
      ]
    },
    {
      "cell_type": "code",
      "execution_count": 7,
      "metadata": {
        "colab": {
          "base_uri": "https://localhost:8080/"
        },
        "id": "eBVHPvOxczle",
        "outputId": "95201429-42b6-4ea6-c681-55700928b5f4"
      },
      "outputs": [
        {
          "output_type": "execute_result",
          "data": {
            "text/plain": [
              "[0, 0, 1, 0, 0, 0, 0, 0, 0, 0]"
            ]
          },
          "metadata": {},
          "execution_count": 7
        }
      ],
      "source": [
        "train_labels[5]"
      ]
    },
    {
      "cell_type": "code",
      "execution_count": 8,
      "metadata": {
        "colab": {
          "base_uri": "https://localhost:8080/"
        },
        "id": "7MjSBqEQXBKM",
        "outputId": "2cb7f65d-648c-4247-de6a-5f180448ad46"
      },
      "outputs": [
        {
          "output_type": "execute_result",
          "data": {
            "text/plain": [
              "((60000, 28, 28), numpy.ndarray, (10000, 28, 28), numpy.ndarray)"
            ]
          },
          "metadata": {},
          "execution_count": 8
        }
      ],
      "source": [
        "#checking the arrays\n",
        "train_images.shape , type(train_images) , test_images.shape , type(test_images)"
      ]
    },
    {
      "cell_type": "markdown",
      "metadata": {
        "id": "ByGnC7mQXBKN"
      },
      "source": [
        "# Plotting numbers"
      ]
    },
    {
      "cell_type": "code",
      "execution_count": 9,
      "metadata": {
        "id": "PsZAV8TKXBKO"
      },
      "outputs": [],
      "source": [
        "#function to plot the number\n",
        "def plot_img(mnist_index):\n",
        "    image = mnist_index\n",
        "    image = np.array(image, dtype='float')\n",
        "    pixels = image.reshape((28, 28))\n",
        "    plt.imshow(pixels, cmap='gray')\n",
        "    plt.show()"
      ]
    },
    {
      "cell_type": "code",
      "execution_count": 10,
      "metadata": {
        "colab": {
          "base_uri": "https://localhost:8080/",
          "height": 282
        },
        "id": "gP5rZxgLXBKP",
        "outputId": "6861e243-c18e-4d84-9f05-2aeefadb1d17"
      },
      "outputs": [
        {
          "output_type": "display_data",
          "data": {
            "text/plain": [
              "<Figure size 432x288 with 1 Axes>"
            ],
            "image/png": "[encoded data removed]"
          },
          "metadata": {
            "needs_background": "light"
          }
        },
        {
          "output_type": "execute_result",
          "data": {
            "text/plain": [
              "[1, 0, 0, 0, 0, 0, 0, 0, 0, 0]"
            ]
          },
          "metadata": {},
          "execution_count": 10
        }
      ],
      "source": [
        "#test the function\n",
        "plot_img(train_images[1])\n",
        "train_labels[1]"
      ]
    },
    {
      "cell_type": "code",
      "execution_count": 11,
      "metadata": {
        "colab": {
          "base_uri": "https://localhost:8080/",
          "height": 282
        },
        "id": "tmP_oBlcXBKQ",
        "outputId": "0e920724-129b-4eb6-9bb8-2d804038df2e",
        "scrolled": false
      },
      "outputs": [
        {
          "output_type": "display_data",
          "data": {
            "text/plain": [
              "<Figure size 432x288 with 1 Axes>"
            ],
            "image/png": "[encoded data removed]"
          },
          "metadata": {
            "needs_background": "light"
          }
        },
        {
          "output_type": "execute_result",
          "data": {
            "text/plain": [
              "[0, 0, 0, 0, 0, 0, 0, 1, 0, 0]"
            ]
          },
          "metadata": {},
          "execution_count": 11
        }
      ],
      "source": [
        "#test function\n",
        "plot_img(test_images[0])\n",
        "test_labels[0]"
      ]
    },
    {
      "cell_type": "markdown",
      "metadata": {
        "id": "UJEhYKe_RByZ"
      },
      "source": [
        "#Normalize the Data and Resahpe the img"
      ]
    },
    {
      "cell_type": "code",
      "execution_count": 12,
      "metadata": {
        "id": "BO_uM8PdRF0R"
      },
      "outputs": [],
      "source": [
        "train_images = tf.keras.utils.normalize(train_images,axis = 1)\n",
        "test_images = tf.keras.utils.normalize(test_images,axis = 1)"
      ]
    },
    {
      "cell_type": "markdown",
      "metadata": {
        "id": "qAYaYYcaXQ51"
      },
      "source": [
        "#Resahpe the images to make it suitable"
      ]
    },
    {
      "cell_type": "code",
      "execution_count": 13,
      "metadata": {
        "id": "TFnW6sy-Xbas"
      },
      "outputs": [],
      "source": [
        "#function to reshape\n",
        "def reshape_img(img):\n",
        "  img_size = img.shape[1]\n",
        "  img = img.reshape(-1,img_size,img_size,1)\n",
        "  return img"
      ]
    },
    {
      "cell_type": "code",
      "execution_count": 14,
      "metadata": {
        "colab": {
          "base_uri": "https://localhost:8080/"
        },
        "id": "piZyG-ECX6Ms",
        "outputId": "81d94ddf-6a4f-43f7-96ae-1351ac74d1eb"
      },
      "outputs": [
        {
          "output_type": "stream",
          "name": "stdout",
          "text": [
            "(60000, 28, 28, 1) (10000, 28, 28, 1)\n"
          ]
        }
      ],
      "source": [
        "#increase 1 dim for filter operation\n",
        "train_images = reshape_img(np.array(train_images))\n",
        "test_images = reshape_img(np.array(test_images))\n",
        "\n",
        "print(train_images.shape,test_images.shape)\n",
        "\n",
        "train_images = np.array(train_images)\n",
        "train_labels = np.array(train_labels)\n",
        "test_images = np.array(test_images)\n",
        "test_labels = np.array(test_labels)"
      ]
    },
    {
      "cell_type": "markdown",
      "metadata": {
        "id": "7czscd3caUd8"
      },
      "source": [
        "# **Creat our CNN**\n",
        "\n",
        "\n"
      ]
    },
    {
      "cell_type": "markdown",
      "metadata": {
        "id": "9s5_-5bUarcc"
      },
      "source": [
        "##Model 1"
      ]
    },
    {
      "cell_type": "code",
      "execution_count": null,
      "metadata": {
        "colab": {
          "base_uri": "https://localhost:8080/"
        },
        "id": "Ntjg4Us8aYgU",
        "outputId": "fdf9cfb3-e7fb-4702-fe2a-d7931d359dce"
      },
      "outputs": [
        {
          "output_type": "stream",
          "name": "stdout",
          "text": [
            "Model: \"sequential\"\n",
            "_________________________________________________________________\n",
            " Layer (type)                Output Shape              Param #   \n",
            "=================================================================\n",
            " conv2d (Conv2D)             (None, 27, 27, 16)        80        \n",
            "                                                                 \n",
            " activation (Activation)     (None, 27, 27, 16)        0         \n",
            "                                                                 \n",
            " conv2d_1 (Conv2D)           (None, 26, 26, 32)        2080      \n",
            "                                                                 \n",
            " activation_1 (Activation)   (None, 26, 26, 32)        0         \n",
            "                                                                 \n",
            " max_pooling2d (MaxPooling2D  (None, 13, 13, 32)       0         \n",
            " )                                                               \n",
            "                                                                 \n",
            " flatten (Flatten)           (None, 5408)              0         \n",
            "                                                                 \n",
            " dense (Dense)               (None, 32)                173088    \n",
            "                                                                 \n",
            " activation_2 (Activation)   (None, 32)                0         \n",
            "                                                                 \n",
            " dense_1 (Dense)             (None, 16)                528       \n",
            "                                                                 \n",
            " activation_3 (Activation)   (None, 16)                0         \n",
            "                                                                 \n",
            " dense_2 (Dense)             (None, 10)                170       \n",
            "                                                                 \n",
            " activation_4 (Activation)   (None, 10)                0         \n",
            "                                                                 \n",
            "=================================================================\n",
            "Total params: 175,946\n",
            "Trainable params: 175,946\n",
            "Non-trainable params: 0\n",
            "_________________________________________________________________\n"
          ]
        }
      ],
      "source": [
        "#creat the model\n",
        "model_1 = Sequential()\n",
        "\n",
        "#conv layers\n",
        "\n",
        "##first CNN layer\n",
        "model_1.add(Conv2D(16,(2,2),input_shape = train_images.shape[1:]))\n",
        "model_1.add(Activation(\"relu\"))\n",
        "\n",
        "##second CNN layer\n",
        "model_1.add(Conv2D(32,(2,2)))\n",
        "model_1.add(Activation(\"relu\"))\n",
        "model_1.add(MaxPooling2D(pool_size=(2, 2)))\n",
        "\n",
        "model_1.add(Flatten())\n",
        "\n",
        "#FC layers\n",
        "\n",
        "##first FC layer\n",
        "model_1.add(Dense(32))\n",
        "model_1.add(Activation(\"relu\"))\n",
        "\n",
        "##second FC layer\n",
        "model_1.add(Dense(16))\n",
        "model_1.add(Activation(\"relu\"))\n",
        "\n",
        "# softmax classifier\n",
        "model_1.add(Dense(10))\n",
        "model_1.add(Activation(\"softmax\"))\n",
        "\n",
        "model_1.summary()"
      ]
    },
    {
      "cell_type": "code",
      "execution_count": null,
      "metadata": {
        "colab": {
          "base_uri": "https://localhost:8080/"
        },
        "id": "BFG-JmSWf-J2",
        "outputId": "b27e939f-c773-4407-b511-ccd837211535"
      },
      "outputs": [
        {
          "output_type": "stream",
          "name": "stdout",
          "text": [
            "Epoch 1/10\n",
            "1875/1875 [==============================] - 20s 6ms/step - loss: 0.8557 - accuracy: 0.7446\n",
            "Epoch 2/10\n",
            "1875/1875 [==============================] - 11s 6ms/step - loss: 0.2634 - accuracy: 0.9206\n",
            "Epoch 3/10\n",
            "1875/1875 [==============================] - 11s 6ms/step - loss: 0.2106 - accuracy: 0.9369\n",
            "Epoch 4/10\n",
            "1875/1875 [==============================] - 11s 6ms/step - loss: 0.1804 - accuracy: 0.9451\n",
            "Epoch 5/10\n",
            "1875/1875 [==============================] - 11s 6ms/step - loss: 0.1628 - accuracy: 0.9509\n",
            "Epoch 6/10\n",
            "1875/1875 [==============================] - 11s 6ms/step - loss: 0.1502 - accuracy: 0.9537\n",
            "Epoch 7/10\n",
            "1875/1875 [==============================] - 11s 6ms/step - loss: 0.1405 - accuracy: 0.9562\n",
            "Epoch 8/10\n",
            "1875/1875 [==============================] - 11s 6ms/step - loss: 0.1314 - accuracy: 0.9588\n",
            "Epoch 9/10\n",
            "1875/1875 [==============================] - 11s 6ms/step - loss: 0.1238 - accuracy: 0.9612\n",
            "Epoch 10/10\n",
            "1875/1875 [==============================] - 10s 6ms/step - loss: 0.1174 - accuracy: 0.9639\n"
          ]
        }
      ],
      "source": [
        "model_1.compile(optimizer=tf.keras.optimizers.SGD(learning_rate=0.01), loss=\"categorical_crossentropy\", metrics=['accuracy'])\n",
        "history = model_1.fit(train_images,train_labels,epochs=10,batch_size=32)"
      ]
    },
    {
      "cell_type": "code",
      "source": [
        "loss, acc =model_1.evaluate(test_images , test_labels)\n",
        "print(\"loss =\",loss)\n",
        "print(\"accuracy =\",acc)"
      ],
      "metadata": {
        "colab": {
          "base_uri": "https://localhost:8080/"
        },
        "id": "noPd7kGBngQT",
        "outputId": "b84a15fb-7947-42e9-f42c-f513bd3b3007"
      },
      "execution_count": null,
      "outputs": [
        {
          "output_type": "stream",
          "name": "stdout",
          "text": [
            "313/313 [==============================] - 2s 5ms/step - loss: 0.1162 - accuracy: 0.9646\n",
            "loss = 0.11615519970655441\n",
            "accuracy = 0.9646000266075134\n"
          ]
        }
      ]
    },
    {
      "cell_type": "code",
      "source": [
        "def plot_losses(h):  \n",
        "    plt.plot(h.history['loss'])\n",
        "    plt.title('model loss')\n",
        "    plt.ylabel('loss')\n",
        "    plt.xlabel('epoch')\n",
        "    plt.legend(['train'], loc='upper left')\n",
        "    plt.show()\n",
        "plot_losses(history)"
      ],
      "metadata": {
        "colab": {
          "base_uri": "https://localhost:8080/",
          "height": 294
        },
        "id": "058WOlROpTaZ",
        "outputId": "8185fb56-4388-48f4-b50c-4dcfc3d64144"
      },
      "execution_count": null,
      "outputs": [
        {
          "output_type": "display_data",
          "data": {
            "text/plain": [
              "<Figure size 432x288 with 1 Axes>"
            ],
            "image/png": "[encoded data removed]"
          },
          "metadata": {
            "needs_background": "light"
          }
        }
      ]
    },
    {
      "cell_type": "code",
      "source": [
        "def plot_accuracies(history):  \n",
        "    plt.plot(history.history['accuracy'], label='accuracy')\n",
        "    plt.title('model accuracy')\n",
        "    plt.xlabel('Epoch')\n",
        "    plt.ylabel('Accuracy')\n",
        "    plt.legend(loc='upper right')\n",
        "    plt.show()\n",
        "plot_accuracies(history)"
      ],
      "metadata": {
        "colab": {
          "base_uri": "https://localhost:8080/",
          "height": 294
        },
        "id": "xZkMi-supnNg",
        "outputId": "5fae87f0-5e19-413e-ca23-e8c1acb0c7b6"
      },
      "execution_count": null,
      "outputs": [
        {
          "output_type": "display_data",
          "data": {
            "text/plain": [
              "<Figure size 432x288 with 1 Axes>"
            ],
            "image/png": "[encoded data removed]"
          },
          "metadata": {
            "needs_background": "light"
          }
        }
      ]
    },
    {
      "cell_type": "markdown",
      "metadata": {
        "id": "ST7JMhgoqxlM"
      },
      "source": [
        "##Model 2"
      ]
    },
    {
      "cell_type": "code",
      "execution_count": null,
      "metadata": {
        "colab": {
          "base_uri": "https://localhost:8080/"
        },
        "outputId": "3f8d4852-ab55-4a32-d2b7-aa87887e611c",
        "id": "loC36tb9qxlN"
      },
      "outputs": [
        {
          "output_type": "stream",
          "name": "stdout",
          "text": [
            "Model: \"sequential_1\"\n",
            "_________________________________________________________________\n",
            " Layer (type)                Output Shape              Param #   \n",
            "=================================================================\n",
            " conv2d_2 (Conv2D)           (None, 27, 27, 16)        80        \n",
            "                                                                 \n",
            " activation_5 (Activation)   (None, 27, 27, 16)        0         \n",
            "                                                                 \n",
            " conv2d_3 (Conv2D)           (None, 26, 26, 32)        2080      \n",
            "                                                                 \n",
            " activation_6 (Activation)   (None, 26, 26, 32)        0         \n",
            "                                                                 \n",
            " max_pooling2d_1 (MaxPooling  (None, 13, 13, 32)       0         \n",
            " 2D)                                                             \n",
            "                                                                 \n",
            " flatten_1 (Flatten)         (None, 5408)              0         \n",
            "                                                                 \n",
            " dense_3 (Dense)             (None, 32)                173088    \n",
            "                                                                 \n",
            " activation_7 (Activation)   (None, 32)                0         \n",
            "                                                                 \n",
            " dense_4 (Dense)             (None, 16)                528       \n",
            "                                                                 \n",
            " activation_8 (Activation)   (None, 16)                0         \n",
            "                                                                 \n",
            " dense_5 (Dense)             (None, 10)                170       \n",
            "                                                                 \n",
            " activation_9 (Activation)   (None, 10)                0         \n",
            "                                                                 \n",
            "=================================================================\n",
            "Total params: 175,946\n",
            "Trainable params: 175,946\n",
            "Non-trainable params: 0\n",
            "_________________________________________________________________\n"
          ]
        }
      ],
      "source": [
        "#creat the model\n",
        "model_2 = Sequential()\n",
        "\n",
        "#conv layers\n",
        "\n",
        "##first CNN layer\n",
        "model_2.add(Conv2D(16,(2,2),input_shape = train_images.shape[1:]))\n",
        "model_2.add(Activation(\"relu\"))\n",
        "\n",
        "##second CNN layer\n",
        "model_2.add(Conv2D(32,(2,2)))\n",
        "model_2.add(Activation(\"relu\"))\n",
        "model_2.add(MaxPooling2D(pool_size=(2, 2)))\n",
        "\n",
        "model_2.add(Flatten())\n",
        "\n",
        "#FC layers\n",
        "\n",
        "##first FC layer\n",
        "model_2.add(Dense(32))\n",
        "model_2.add(Activation(\"relu\"))\n",
        "\n",
        "##second FC layer\n",
        "model_2.add(Dense(16))\n",
        "model_2.add(Activation(\"relu\"))\n",
        "\n",
        "# softmax classifier\n",
        "model_2.add(Dense(10))\n",
        "model_2.add(Activation(\"softmax\"))\n",
        "\n",
        "model_2.summary()"
      ]
    },
    {
      "cell_type": "code",
      "execution_count": null,
      "metadata": {
        "colab": {
          "base_uri": "https://localhost:8080/"
        },
        "outputId": "6d4c9af9-e2ac-440f-e5af-d40d7b1026e0",
        "id": "OUJ73DCFqxlN"
      },
      "outputs": [
        {
          "output_type": "stream",
          "name": "stdout",
          "text": [
            "Epoch 1/12\n",
            "1875/1875 [==============================] - 11s 6ms/step - loss: 0.8820 - accuracy: 0.7399\n",
            "Epoch 2/12\n",
            "1875/1875 [==============================] - 10s 6ms/step - loss: 0.2678 - accuracy: 0.9198\n",
            "Epoch 3/12\n",
            "1875/1875 [==============================] - 10s 6ms/step - loss: 0.2131 - accuracy: 0.9359\n",
            "Epoch 4/12\n",
            "1875/1875 [==============================] - 10s 6ms/step - loss: 0.1852 - accuracy: 0.9443\n",
            "Epoch 5/12\n",
            "1875/1875 [==============================] - 11s 6ms/step - loss: 0.1644 - accuracy: 0.9499\n",
            "Epoch 6/12\n",
            "1875/1875 [==============================] - 10s 6ms/step - loss: 0.1481 - accuracy: 0.9548\n",
            "Epoch 7/12\n",
            "1875/1875 [==============================] - 10s 6ms/step - loss: 0.1364 - accuracy: 0.9587\n",
            "Epoch 8/12\n",
            "1875/1875 [==============================] - 11s 6ms/step - loss: 0.1267 - accuracy: 0.9617\n",
            "Epoch 9/12\n",
            "1875/1875 [==============================] - 10s 6ms/step - loss: 0.1186 - accuracy: 0.9632\n",
            "Epoch 10/12\n",
            "1875/1875 [==============================] - 10s 6ms/step - loss: 0.1098 - accuracy: 0.9663\n",
            "Epoch 11/12\n",
            "1875/1875 [==============================] - 10s 6ms/step - loss: 0.1028 - accuracy: 0.9685\n",
            "Epoch 12/12\n",
            "1875/1875 [==============================] - 10s 6ms/step - loss: 0.0977 - accuracy: 0.9694\n"
          ]
        }
      ],
      "source": [
        "model_2.compile(optimizer=tf.keras.optimizers.SGD(learning_rate=0.01), loss=\"categorical_crossentropy\", metrics=['accuracy'])\n",
        "history = model_2.fit(train_images,train_labels,epochs=12,batch_size=32)"
      ]
    },
    {
      "cell_type": "code",
      "source": [
        "loss, acc =model_2.evaluate(test_images , test_labels)\n",
        "print(\"loss =\",loss)\n",
        "print(\"accuracy =\",acc)"
      ],
      "metadata": {
        "colab": {
          "base_uri": "https://localhost:8080/"
        },
        "outputId": "73b5ebce-49b6-45eb-a811-f12a0c20778f",
        "id": "qMYgXpo7qxlN"
      },
      "execution_count": null,
      "outputs": [
        {
          "output_type": "stream",
          "name": "stdout",
          "text": [
            "313/313 [==============================] - 2s 4ms/step - loss: 0.1053 - accuracy: 0.9686\n",
            "loss = 0.1052524521946907\n",
            "accuracy = 0.9685999751091003\n"
          ]
        }
      ]
    },
    {
      "cell_type": "code",
      "source": [
        "def plot_losses(history):  \n",
        "    plt.plot(history.history['loss'])\n",
        "    plt.title('model loss')\n",
        "    plt.ylabel('loss')\n",
        "    plt.xlabel('epoch')\n",
        "    plt.legend(['train'], loc='upper left')\n",
        "    plt.show()\n",
        "plot_losses(history)"
      ],
      "metadata": {
        "colab": {
          "base_uri": "https://localhost:8080/",
          "height": 294
        },
        "outputId": "80b38bd0-1984-47d1-9e54-526a2d5edda0",
        "id": "OXHkP9puqxlO"
      },
      "execution_count": null,
      "outputs": [
        {
          "output_type": "display_data",
          "data": {
            "text/plain": [
              "<Figure size 432x288 with 1 Axes>"
            ],
            "image/png": "[encoded data removed]"
          },
          "metadata": {
            "needs_background": "light"
          }
        }
      ]
    },
    {
      "cell_type": "code",
      "source": [
        "def plot_accuracies(history):  \n",
        "    plt.plot(history.history['accuracy'], label='accuracy')\n",
        "    plt.title('model accuracy')\n",
        "    plt.xlabel('Epoch')\n",
        "    plt.ylabel('Accuracy')\n",
        "    plt.legend(loc='upper right')\n",
        "    plt.show()\n",
        "plot_accuracies(history)"
      ],
      "metadata": {
        "colab": {
          "base_uri": "https://localhost:8080/",
          "height": 294
        },
        "outputId": "ba90fb5b-a2ea-4eb7-979f-071e0026a8fe",
        "id": "1agRVynxqxlO"
      },
      "execution_count": null,
      "outputs": [
        {
          "output_type": "display_data",
          "data": {
            "text/plain": [
              "<Figure size 432x288 with 1 Axes>"
            ],
            "image/png": "[encoded data removed]"
          },
          "metadata": {
            "needs_background": "light"
          }
        }
      ]
    },
    {
      "cell_type": "markdown",
      "source": [
        "##Model 3"
      ],
      "metadata": {
        "id": "zrDFEw3Eubqq"
      }
    },
    {
      "cell_type": "code",
      "execution_count": null,
      "metadata": {
        "colab": {
          "base_uri": "https://localhost:8080/"
        },
        "outputId": "b0d412c2-ba1e-400d-cb21-2771f201f17a",
        "id": "IyHTvFXHu3Xd"
      },
      "outputs": [
        {
          "output_type": "stream",
          "name": "stdout",
          "text": [
            "Model: \"sequential_2\"\n",
            "_________________________________________________________________\n",
            " Layer (type)                Output Shape              Param #   \n",
            "=================================================================\n",
            " conv2d_4 (Conv2D)           (None, 27, 27, 16)        80        \n",
            "                                                                 \n",
            " activation_10 (Activation)  (None, 27, 27, 16)        0         \n",
            "                                                                 \n",
            " conv2d_5 (Conv2D)           (None, 26, 26, 32)        2080      \n",
            "                                                                 \n",
            " activation_11 (Activation)  (None, 26, 26, 32)        0         \n",
            "                                                                 \n",
            " max_pooling2d_2 (MaxPooling  (None, 13, 13, 32)       0         \n",
            " 2D)                                                             \n",
            "                                                                 \n",
            " flatten_2 (Flatten)         (None, 5408)              0         \n",
            "                                                                 \n",
            " dense_6 (Dense)             (None, 32)                173088    \n",
            "                                                                 \n",
            " activation_12 (Activation)  (None, 32)                0         \n",
            "                                                                 \n",
            " dense_7 (Dense)             (None, 16)                528       \n",
            "                                                                 \n",
            " activation_13 (Activation)  (None, 16)                0         \n",
            "                                                                 \n",
            " dense_8 (Dense)             (None, 10)                170       \n",
            "                                                                 \n",
            " activation_14 (Activation)  (None, 10)                0         \n",
            "                                                                 \n",
            "=================================================================\n",
            "Total params: 175,946\n",
            "Trainable params: 175,946\n",
            "Non-trainable params: 0\n",
            "_________________________________________________________________\n"
          ]
        }
      ],
      "source": [
        "#creat the model\n",
        "model_3 = Sequential()\n",
        "\n",
        "#conv layers\n",
        "\n",
        "##first CNN layer\n",
        "model_3.add(Conv2D(16,(2,2),input_shape = train_images.shape[1:]))\n",
        "model_3.add(Activation(\"relu\"))\n",
        "\n",
        "##second CNN layer\n",
        "model_3.add(Conv2D(32,(2,2)))\n",
        "model_3.add(Activation(\"relu\"))\n",
        "model_3.add(MaxPooling2D(pool_size=(2, 2)))\n",
        "\n",
        "model_3.add(Flatten())\n",
        "\n",
        "#FC layers\n",
        "\n",
        "##first FC layer\n",
        "model_3.add(Dense(32))\n",
        "model_3.add(Activation(\"relu\"))\n",
        "\n",
        "##second FC layer\n",
        "model_3.add(Dense(16))\n",
        "model_3.add(Activation(\"relu\"))\n",
        "\n",
        "# softmax classifier\n",
        "model_3.add(Dense(10))\n",
        "model_3.add(Activation(\"softmax\"))\n",
        "\n",
        "model_3.summary()"
      ]
    },
    {
      "cell_type": "code",
      "execution_count": null,
      "metadata": {
        "colab": {
          "base_uri": "https://localhost:8080/"
        },
        "outputId": "ebe15d1c-36c1-43cd-d36d-1c12d7b1539c",
        "id": "fiH2NqNbu3Xk"
      },
      "outputs": [
        {
          "output_type": "stream",
          "name": "stdout",
          "text": [
            "Epoch 1/15\n",
            "1875/1875 [==============================] - 11s 6ms/step - loss: 0.9856 - accuracy: 0.7012\n",
            "Epoch 2/15\n",
            "1875/1875 [==============================] - 10s 6ms/step - loss: 0.2664 - accuracy: 0.9212\n",
            "Epoch 3/15\n",
            "1875/1875 [==============================] - 11s 6ms/step - loss: 0.2076 - accuracy: 0.9375\n",
            "Epoch 4/15\n",
            "1875/1875 [==============================] - 11s 6ms/step - loss: 0.1782 - accuracy: 0.9466\n",
            "Epoch 5/15\n",
            "1875/1875 [==============================] - 11s 6ms/step - loss: 0.1591 - accuracy: 0.9512\n",
            "Epoch 6/15\n",
            "1875/1875 [==============================] - 11s 6ms/step - loss: 0.1425 - accuracy: 0.9555\n",
            "Epoch 7/15\n",
            "1875/1875 [==============================] - 11s 6ms/step - loss: 0.1301 - accuracy: 0.9607\n",
            "Epoch 8/15\n",
            "1875/1875 [==============================] - 11s 6ms/step - loss: 0.1191 - accuracy: 0.9629\n",
            "Epoch 9/15\n",
            "1875/1875 [==============================] - 10s 6ms/step - loss: 0.1107 - accuracy: 0.9661\n",
            "Epoch 10/15\n",
            "1875/1875 [==============================] - 10s 6ms/step - loss: 0.1010 - accuracy: 0.9689\n",
            "Epoch 11/15\n",
            "1875/1875 [==============================] - 10s 6ms/step - loss: 0.0948 - accuracy: 0.9705\n",
            "Epoch 12/15\n",
            "1875/1875 [==============================] - 10s 6ms/step - loss: 0.0880 - accuracy: 0.9724\n",
            "Epoch 13/15\n",
            "1875/1875 [==============================] - 11s 6ms/step - loss: 0.0809 - accuracy: 0.9752\n",
            "Epoch 14/15\n",
            "1875/1875 [==============================] - 11s 6ms/step - loss: 0.0744 - accuracy: 0.9772\n",
            "Epoch 15/15\n",
            "1875/1875 [==============================] - 11s 6ms/step - loss: 0.0715 - accuracy: 0.9773\n"
          ]
        }
      ],
      "source": [
        "model_3.compile(optimizer=tf.keras.optimizers.SGD(learning_rate=0.01), loss=\"categorical_crossentropy\", metrics=['accuracy'])\n",
        "history = model_3.fit(train_images,train_labels,epochs=15,batch_size=32)"
      ]
    },
    {
      "cell_type": "code",
      "source": [
        "loss, acc =model_3.evaluate(test_images , test_labels)\n",
        "print(\"loss =\",loss)\n",
        "print(\"accuracy =\",acc)"
      ],
      "metadata": {
        "colab": {
          "base_uri": "https://localhost:8080/"
        },
        "outputId": "c69abc3d-930b-4ef8-a0a9-caa20d2f51a0",
        "id": "CaGzC9fNu3Xk"
      },
      "execution_count": null,
      "outputs": [
        {
          "output_type": "stream",
          "name": "stdout",
          "text": [
            "313/313 [==============================] - 2s 4ms/step - loss: 0.0813 - accuracy: 0.9744\n",
            "loss = 0.08128124475479126\n",
            "accuracy = 0.974399983882904\n"
          ]
        }
      ]
    },
    {
      "cell_type": "code",
      "source": [
        "def plot_losses(history):  \n",
        "    plt.plot(history.history['loss'])\n",
        "    plt.title('model loss')\n",
        "    plt.ylabel('loss')\n",
        "    plt.xlabel('epoch')\n",
        "    plt.legend(['train'], loc='upper left')\n",
        "    plt.show()\n",
        "plot_losses(history)"
      ],
      "metadata": {
        "colab": {
          "base_uri": "https://localhost:8080/",
          "height": 294
        },
        "outputId": "9efe22e1-21f4-420c-886f-6b6b18983e94",
        "id": "jhqGU1Aiu3Xk"
      },
      "execution_count": null,
      "outputs": [
        {
          "output_type": "display_data",
          "data": {
            "text/plain": [
              "<Figure size 432x288 with 1 Axes>"
            ],
            "image/png": "[encoded data removed]"
          },
          "metadata": {
            "needs_background": "light"
          }
        }
      ]
    },
    {
      "cell_type": "code",
      "source": [
        "def plot_accuracies(history):  \n",
        "    plt.plot(history.history['accuracy'], label='accuracy')\n",
        "    plt.title('model accuracy')\n",
        "    plt.xlabel('Epoch')\n",
        "    plt.ylabel('Accuracy')\n",
        "    plt.legend(loc='upper right')\n",
        "    plt.show()\n",
        "plot_accuracies(history)"
      ],
      "metadata": {
        "colab": {
          "base_uri": "https://localhost:8080/",
          "height": 294
        },
        "outputId": "3dc1f649-1626-457b-8bde-5a913ff56769",
        "id": "Bifo7xHou3Xl"
      },
      "execution_count": null,
      "outputs": [
        {
          "output_type": "display_data",
          "data": {
            "text/plain": [
              "<Figure size 432x288 with 1 Axes>"
            ],
            "image/png": "[encoded data removed]"
          },
          "metadata": {
            "needs_background": "light"
          }
        }
      ]
    },
    {
      "cell_type": "markdown",
      "source": [
        "##Model 4"
      ],
      "metadata": {
        "id": "cdyB8QcozSbl"
      }
    },
    {
      "cell_type": "code",
      "execution_count": null,
      "metadata": {
        "colab": {
          "base_uri": "https://localhost:8080/"
        },
        "outputId": "dcf5ab4d-45c4-4349-9e99-12100f9c1b3c",
        "id": "xgn5ZHuEzSbs"
      },
      "outputs": [
        {
          "output_type": "stream",
          "name": "stdout",
          "text": [
            "Model: \"sequential_3\"\n",
            "_________________________________________________________________\n",
            " Layer (type)                Output Shape              Param #   \n",
            "=================================================================\n",
            " conv2d_6 (Conv2D)           (None, 27, 27, 16)        80        \n",
            "                                                                 \n",
            " activation_15 (Activation)  (None, 27, 27, 16)        0         \n",
            "                                                                 \n",
            " conv2d_7 (Conv2D)           (None, 26, 26, 32)        2080      \n",
            "                                                                 \n",
            " activation_16 (Activation)  (None, 26, 26, 32)        0         \n",
            "                                                                 \n",
            " max_pooling2d_3 (MaxPooling  (None, 13, 13, 32)       0         \n",
            " 2D)                                                             \n",
            "                                                                 \n",
            " flatten_3 (Flatten)         (None, 5408)              0         \n",
            "                                                                 \n",
            " dense_9 (Dense)             (None, 32)                173088    \n",
            "                                                                 \n",
            " activation_17 (Activation)  (None, 32)                0         \n",
            "                                                                 \n",
            " dense_10 (Dense)            (None, 16)                528       \n",
            "                                                                 \n",
            " activation_18 (Activation)  (None, 16)                0         \n",
            "                                                                 \n",
            " dense_11 (Dense)            (None, 10)                170       \n",
            "                                                                 \n",
            " activation_19 (Activation)  (None, 10)                0         \n",
            "                                                                 \n",
            "=================================================================\n",
            "Total params: 175,946\n",
            "Trainable params: 175,946\n",
            "Non-trainable params: 0\n",
            "_________________________________________________________________\n"
          ]
        }
      ],
      "source": [
        "#creat the model\n",
        "model_4 = Sequential()\n",
        "\n",
        "#conv layers\n",
        "\n",
        "##first CNN layer\n",
        "model_4.add(Conv2D(16,(2,2),input_shape = train_images.shape[1:]))\n",
        "model_4.add(Activation(\"relu\"))\n",
        "\n",
        "##second CNN layer\n",
        "model_4.add(Conv2D(32,(2,2)))\n",
        "model_4.add(Activation(\"relu\"))\n",
        "model_4.add(MaxPooling2D(pool_size=(2, 2)))\n",
        "\n",
        "model_4.add(Flatten())\n",
        "\n",
        "#FC layers\n",
        "\n",
        "##first FC layer\n",
        "model_4.add(Dense(32))\n",
        "model_4.add(Activation(\"relu\"))\n",
        "\n",
        "##second FC layer\n",
        "model_4.add(Dense(16))\n",
        "model_4.add(Activation(\"relu\"))\n",
        "\n",
        "# softmax classifier\n",
        "model_4.add(Dense(10))\n",
        "model_4.add(Activation(\"softmax\"))\n",
        "\n",
        "model_4.summary()"
      ]
    },
    {
      "cell_type": "code",
      "execution_count": null,
      "metadata": {
        "colab": {
          "base_uri": "https://localhost:8080/"
        },
        "outputId": "be8655c3-eaef-4c5d-bb61-3d6fd04242a4",
        "id": "g1rMp24lzSbs"
      },
      "outputs": [
        {
          "output_type": "stream",
          "name": "stdout",
          "text": [
            "Epoch 1/15\n",
            "1875/1875 [==============================] - 11s 6ms/step - loss: 0.4098 - accuracy: 0.8736\n",
            "Epoch 2/15\n",
            "1875/1875 [==============================] - 10s 6ms/step - loss: 0.1670 - accuracy: 0.9482\n",
            "Epoch 3/15\n",
            "1875/1875 [==============================] - 10s 6ms/step - loss: 0.1095 - accuracy: 0.9669\n",
            "Epoch 4/15\n",
            "1875/1875 [==============================] - 10s 6ms/step - loss: 0.0816 - accuracy: 0.9750\n",
            "Epoch 5/15\n",
            "1875/1875 [==============================] - 10s 6ms/step - loss: 0.0626 - accuracy: 0.9802\n",
            "Epoch 6/15\n",
            "1875/1875 [==============================] - 10s 6ms/step - loss: 0.0513 - accuracy: 0.9840\n",
            "Epoch 7/15\n",
            "1875/1875 [==============================] - 10s 5ms/step - loss: 0.0429 - accuracy: 0.9866\n",
            "Epoch 8/15\n",
            "1875/1875 [==============================] - 10s 6ms/step - loss: 0.0344 - accuracy: 0.9890\n",
            "Epoch 9/15\n",
            "1875/1875 [==============================] - 10s 6ms/step - loss: 0.0291 - accuracy: 0.9907\n",
            "Epoch 10/15\n",
            "1875/1875 [==============================] - 10s 5ms/step - loss: 0.0246 - accuracy: 0.9923\n",
            "Epoch 11/15\n",
            "1875/1875 [==============================] - 10s 5ms/step - loss: 0.0197 - accuracy: 0.9937\n",
            "Epoch 12/15\n",
            "1875/1875 [==============================] - 10s 5ms/step - loss: 0.0169 - accuracy: 0.9945\n",
            "Epoch 13/15\n",
            "1875/1875 [==============================] - 10s 5ms/step - loss: 0.0131 - accuracy: 0.9960\n",
            "Epoch 14/15\n",
            "1875/1875 [==============================] - 10s 5ms/step - loss: 0.0127 - accuracy: 0.9957\n",
            "Epoch 15/15\n",
            "1875/1875 [==============================] - 10s 5ms/step - loss: 0.0100 - accuracy: 0.9967\n"
          ]
        }
      ],
      "source": [
        "model_4.compile(optimizer=tf.keras.optimizers.SGD(learning_rate=0.05), loss=\"categorical_crossentropy\", metrics=['accuracy'])\n",
        "history = model_4.fit(train_images,train_labels,epochs=15,batch_size=32)"
      ]
    },
    {
      "cell_type": "code",
      "source": [
        "loss, acc =model_4.evaluate(test_images , test_labels)\n",
        "print(\"loss =\",loss)\n",
        "print(\"accuracy =\",acc)"
      ],
      "metadata": {
        "colab": {
          "base_uri": "https://localhost:8080/"
        },
        "outputId": "04397167-aa9f-439a-c856-40332d9775f9",
        "id": "1hSollFKzSbt"
      },
      "execution_count": null,
      "outputs": [
        {
          "output_type": "stream",
          "name": "stdout",
          "text": [
            "313/313 [==============================] - 1s 4ms/step - loss: 0.0800 - accuracy: 0.9815\n",
            "loss = 0.07995688915252686\n",
            "accuracy = 0.9815000295639038\n"
          ]
        }
      ]
    },
    {
      "cell_type": "code",
      "source": [
        "def plot_losses(history):  \n",
        "    plt.plot(history.history['loss'])\n",
        "    plt.title('model loss')\n",
        "    plt.ylabel('loss')\n",
        "    plt.xlabel('epoch')\n",
        "    plt.legend(['train'], loc='upper left')\n",
        "    plt.show()\n",
        "plot_losses(history)"
      ],
      "metadata": {
        "colab": {
          "base_uri": "https://localhost:8080/",
          "height": 294
        },
        "outputId": "225f8eed-60f5-449c-d280-4653d0c79bd1",
        "id": "nst-6aS_zSbt"
      },
      "execution_count": null,
      "outputs": [
        {
          "output_type": "display_data",
          "data": {
            "text/plain": [
              "<Figure size 432x288 with 1 Axes>"
            ],
            "image/png": "[encoded data removed]"
          },
          "metadata": {
            "needs_background": "light"
          }
        }
      ]
    },
    {
      "cell_type": "code",
      "source": [
        "def plot_accuracies(history):  \n",
        "    plt.plot(history.history['accuracy'], label='accuracy')\n",
        "    plt.title('model accuracy')\n",
        "    plt.xlabel('Epoch')\n",
        "    plt.ylabel('Accuracy')\n",
        "    plt.legend(loc='upper right')\n",
        "    plt.show()\n",
        "plot_accuracies(history)"
      ],
      "metadata": {
        "colab": {
          "base_uri": "https://localhost:8080/",
          "height": 294
        },
        "outputId": "df7af8cb-0754-4aee-a5f3-155f55053bd1",
        "id": "kJAbGijpzSbt"
      },
      "execution_count": null,
      "outputs": [
        {
          "output_type": "display_data",
          "data": {
            "text/plain": [
              "<Figure size 432x288 with 1 Axes>"
            ],
            "image/png": "[encoded data removed]"
          },
          "metadata": {
            "needs_background": "light"
          }
        }
      ]
    },
    {
      "cell_type": "markdown",
      "source": [
        "##Model 5"
      ],
      "metadata": {
        "id": "66Qqah8M0wv-"
      }
    },
    {
      "cell_type": "code",
      "execution_count": null,
      "metadata": {
        "colab": {
          "base_uri": "https://localhost:8080/"
        },
        "outputId": "e6d13e78-e89e-4567-ed5d-8f242bc42291",
        "id": "GsjMPDMQ0wwF"
      },
      "outputs": [
        {
          "output_type": "stream",
          "name": "stdout",
          "text": [
            "Model: \"sequential_4\"\n",
            "_________________________________________________________________\n",
            " Layer (type)                Output Shape              Param #   \n",
            "=================================================================\n",
            " conv2d_8 (Conv2D)           (None, 27, 27, 16)        80        \n",
            "                                                                 \n",
            " activation_20 (Activation)  (None, 27, 27, 16)        0         \n",
            "                                                                 \n",
            " conv2d_9 (Conv2D)           (None, 26, 26, 32)        2080      \n",
            "                                                                 \n",
            " activation_21 (Activation)  (None, 26, 26, 32)        0         \n",
            "                                                                 \n",
            " max_pooling2d_4 (MaxPooling  (None, 13, 13, 32)       0         \n",
            " 2D)                                                             \n",
            "                                                                 \n",
            " flatten_4 (Flatten)         (None, 5408)              0         \n",
            "                                                                 \n",
            " dense_12 (Dense)            (None, 32)                173088    \n",
            "                                                                 \n",
            " activation_22 (Activation)  (None, 32)                0         \n",
            "                                                                 \n",
            " dense_13 (Dense)            (None, 16)                528       \n",
            "                                                                 \n",
            " activation_23 (Activation)  (None, 16)                0         \n",
            "                                                                 \n",
            " dense_14 (Dense)            (None, 10)                170       \n",
            "                                                                 \n",
            " activation_24 (Activation)  (None, 10)                0         \n",
            "                                                                 \n",
            "=================================================================\n",
            "Total params: 175,946\n",
            "Trainable params: 175,946\n",
            "Non-trainable params: 0\n",
            "_________________________________________________________________\n"
          ]
        }
      ],
      "source": [
        "#creat the model\n",
        "model_5 = Sequential()\n",
        "\n",
        "#conv layers\n",
        "\n",
        "##first CNN layer\n",
        "model_5.add(Conv2D(16,(2,2),input_shape = train_images.shape[1:]))\n",
        "model_5.add(Activation(\"relu\"))\n",
        "\n",
        "##second CNN layer\n",
        "model_5.add(Conv2D(32,(2,2)))\n",
        "model_5.add(Activation(\"relu\"))\n",
        "model_5.add(MaxPooling2D(pool_size=(2, 2)))\n",
        "\n",
        "model_5.add(Flatten())\n",
        "\n",
        "#FC layers\n",
        "\n",
        "##first FC layer\n",
        "model_5.add(Dense(32))\n",
        "model_5.add(Activation(\"relu\"))\n",
        "\n",
        "##second FC layer\n",
        "model_5.add(Dense(16))\n",
        "model_5.add(Activation(\"relu\"))\n",
        "\n",
        "# softmax classifier\n",
        "model_5.add(Dense(10))\n",
        "model_5.add(Activation(\"softmax\"))\n",
        "\n",
        "model_5.summary()"
      ]
    },
    {
      "cell_type": "code",
      "execution_count": null,
      "metadata": {
        "colab": {
          "base_uri": "https://localhost:8080/"
        },
        "outputId": "8f3a4b83-ec60-4bd4-92e8-2e8b4b3ba03f",
        "id": "zC0zM1JN0wwG"
      },
      "outputs": [
        {
          "output_type": "stream",
          "name": "stdout",
          "text": [
            "Epoch 1/15\n",
            "1875/1875 [==============================] - 11s 6ms/step - loss: 0.3782 - accuracy: 0.8820\n",
            "Epoch 2/15\n",
            "1875/1875 [==============================] - 10s 5ms/step - loss: 0.1529 - accuracy: 0.9536\n",
            "Epoch 3/15\n",
            "1875/1875 [==============================] - 10s 6ms/step - loss: 0.0952 - accuracy: 0.9713\n",
            "Epoch 4/15\n",
            "1875/1875 [==============================] - 10s 6ms/step - loss: 0.0676 - accuracy: 0.9795\n",
            "Epoch 5/15\n",
            "1875/1875 [==============================] - 10s 6ms/step - loss: 0.0513 - accuracy: 0.9844\n",
            "Epoch 6/15\n",
            "1875/1875 [==============================] - 10s 5ms/step - loss: 0.0393 - accuracy: 0.9877\n",
            "Epoch 7/15\n",
            "1875/1875 [==============================] - 10s 5ms/step - loss: 0.0312 - accuracy: 0.9901\n",
            "Epoch 8/15\n",
            "1875/1875 [==============================] - 10s 5ms/step - loss: 0.0244 - accuracy: 0.9919\n",
            "Epoch 9/15\n",
            "1875/1875 [==============================] - 10s 5ms/step - loss: 0.0194 - accuracy: 0.9939\n",
            "Epoch 10/15\n",
            "1875/1875 [==============================] - 10s 5ms/step - loss: 0.0154 - accuracy: 0.9953\n",
            "Epoch 11/15\n",
            "1875/1875 [==============================] - 10s 5ms/step - loss: 0.0137 - accuracy: 0.9955\n",
            "Epoch 12/15\n",
            "1875/1875 [==============================] - 10s 6ms/step - loss: 0.0101 - accuracy: 0.9969\n",
            "Epoch 13/15\n",
            "1875/1875 [==============================] - 10s 6ms/step - loss: 0.0090 - accuracy: 0.9971\n",
            "Epoch 14/15\n",
            "1875/1875 [==============================] - 10s 6ms/step - loss: 0.0092 - accuracy: 0.9971\n",
            "Epoch 15/15\n",
            "1875/1875 [==============================] - 10s 6ms/step - loss: 0.0068 - accuracy: 0.9979\n"
          ]
        }
      ],
      "source": [
        "model_5.compile(optimizer=tf.keras.optimizers.SGD(learning_rate=0.08), loss=\"categorical_crossentropy\", metrics=['accuracy'])\n",
        "history = model_5.fit(train_images,train_labels,epochs=15,batch_size=32)"
      ]
    },
    {
      "cell_type": "code",
      "source": [
        "loss, acc =model_5.evaluate(test_images , test_labels)\n",
        "print(\"loss =\",loss)\n",
        "print(\"accuracy =\",acc)"
      ],
      "metadata": {
        "colab": {
          "base_uri": "https://localhost:8080/"
        },
        "outputId": "5479eea6-b2f4-431b-fb2b-f14bfe27c559",
        "id": "uIkas3560wwG"
      },
      "execution_count": null,
      "outputs": [
        {
          "output_type": "stream",
          "name": "stdout",
          "text": [
            "313/313 [==============================] - 2s 4ms/step - loss: 0.0787 - accuracy: 0.9814\n",
            "loss = 0.07870164513587952\n",
            "accuracy = 0.9814000129699707\n"
          ]
        }
      ]
    },
    {
      "cell_type": "code",
      "source": [
        "def plot_losses(history):  \n",
        "    plt.plot(history.history['loss'])\n",
        "    plt.title('model loss')\n",
        "    plt.ylabel('loss')\n",
        "    plt.xlabel('epoch')\n",
        "    plt.legend(['train'], loc='upper left')\n",
        "    plt.show()\n",
        "plot_losses(history)"
      ],
      "metadata": {
        "colab": {
          "base_uri": "https://localhost:8080/",
          "height": 294
        },
        "outputId": "909e0a8d-823b-4d12-a2e7-2ee2ce0e22c9",
        "id": "vnJOwSKq0wwG"
      },
      "execution_count": null,
      "outputs": [
        {
          "output_type": "display_data",
          "data": {
            "text/plain": [
              "<Figure size 432x288 with 1 Axes>"
            ],
            "image/png": "[encoded data removed]"
          },
          "metadata": {
            "needs_background": "light"
          }
        }
      ]
    },
    {
      "cell_type": "code",
      "source": [
        "def plot_accuracies(history):  \n",
        "    plt.plot(history.history['accuracy'], label='accuracy')\n",
        "    plt.title('model accuracy')\n",
        "    plt.xlabel('Epoch')\n",
        "    plt.ylabel('Accuracy')\n",
        "    plt.legend(loc='upper right')\n",
        "    plt.show()\n",
        "plot_accuracies(history)"
      ],
      "metadata": {
        "colab": {
          "base_uri": "https://localhost:8080/",
          "height": 294
        },
        "outputId": "22c00144-2a7b-4da6-e2ff-ae0f251f734b",
        "id": "ktn5RlBP0wwG"
      },
      "execution_count": null,
      "outputs": [
        {
          "output_type": "display_data",
          "data": {
            "text/plain": [
              "<Figure size 432x288 with 1 Axes>"
            ],
            "image/png": "[encoded data removed]"
          },
          "metadata": {
            "needs_background": "light"
          }
        }
      ]
    },
    {
      "cell_type": "markdown",
      "source": [
        "##Model 6"
      ],
      "metadata": {
        "id": "DWda35Y_3A6o"
      }
    },
    {
      "cell_type": "code",
      "execution_count": null,
      "metadata": {
        "colab": {
          "base_uri": "https://localhost:8080/"
        },
        "outputId": "5780af7e-b3d7-4243-b384-d38abc967342",
        "id": "3tOFgNtj3A6u"
      },
      "outputs": [
        {
          "output_type": "stream",
          "name": "stdout",
          "text": [
            "Model: \"sequential_5\"\n",
            "_________________________________________________________________\n",
            " Layer (type)                Output Shape              Param #   \n",
            "=================================================================\n",
            " conv2d_10 (Conv2D)          (None, 27, 27, 16)        80        \n",
            "                                                                 \n",
            " activation_25 (Activation)  (None, 27, 27, 16)        0         \n",
            "                                                                 \n",
            " conv2d_11 (Conv2D)          (None, 26, 26, 32)        2080      \n",
            "                                                                 \n",
            " activation_26 (Activation)  (None, 26, 26, 32)        0         \n",
            "                                                                 \n",
            " max_pooling2d_5 (MaxPooling  (None, 13, 13, 32)       0         \n",
            " 2D)                                                             \n",
            "                                                                 \n",
            " flatten_5 (Flatten)         (None, 5408)              0         \n",
            "                                                                 \n",
            " dense_15 (Dense)            (None, 32)                173088    \n",
            "                                                                 \n",
            " activation_27 (Activation)  (None, 32)                0         \n",
            "                                                                 \n",
            " dense_16 (Dense)            (None, 16)                528       \n",
            "                                                                 \n",
            " activation_28 (Activation)  (None, 16)                0         \n",
            "                                                                 \n",
            " dense_17 (Dense)            (None, 10)                170       \n",
            "                                                                 \n",
            " activation_29 (Activation)  (None, 10)                0         \n",
            "                                                                 \n",
            "=================================================================\n",
            "Total params: 175,946\n",
            "Trainable params: 175,946\n",
            "Non-trainable params: 0\n",
            "_________________________________________________________________\n"
          ]
        }
      ],
      "source": [
        "#creat the model\n",
        "model_6 = Sequential()\n",
        "\n",
        "#conv layers\n",
        "\n",
        "##first CNN layer\n",
        "model_6.add(Conv2D(16,(2,2),input_shape = train_images.shape[1:]))\n",
        "model_6.add(Activation(\"relu\"))\n",
        "\n",
        "##second CNN layer\n",
        "model_6.add(Conv2D(32,(2,2)))\n",
        "model_6.add(Activation(\"relu\"))\n",
        "model_6.add(MaxPooling2D(pool_size=(2, 2)))\n",
        "\n",
        "model_6.add(Flatten())\n",
        "\n",
        "#FC layers\n",
        "\n",
        "##first FC layer\n",
        "model_6.add(Dense(32))\n",
        "model_6.add(Activation(\"relu\"))\n",
        "\n",
        "##second FC layer\n",
        "model_6.add(Dense(16))\n",
        "model_6.add(Activation(\"relu\"))\n",
        "\n",
        "# softmax classifier\n",
        "model_6.add(Dense(10))\n",
        "model_6.add(Activation(\"softmax\"))\n",
        "\n",
        "model_6.summary()"
      ]
    },
    {
      "cell_type": "code",
      "execution_count": null,
      "metadata": {
        "colab": {
          "base_uri": "https://localhost:8080/"
        },
        "outputId": "6c769340-0232-47ff-f648-01279fe7cf6b",
        "id": "9N_hM6FG3A6v"
      },
      "outputs": [
        {
          "output_type": "stream",
          "name": "stdout",
          "text": [
            "Epoch 1/15\n",
            "1875/1875 [==============================] - 11s 5ms/step - loss: 0.5479 - accuracy: 0.8242\n",
            "Epoch 2/15\n",
            "1875/1875 [==============================] - 10s 6ms/step - loss: 0.2125 - accuracy: 0.9352\n",
            "Epoch 3/15\n",
            "1875/1875 [==============================] - 10s 6ms/step - loss: 0.1690 - accuracy: 0.9485\n",
            "Epoch 4/15\n",
            "1875/1875 [==============================] - 11s 6ms/step - loss: 0.1388 - accuracy: 0.9579\n",
            "Epoch 5/15\n",
            "1875/1875 [==============================] - 11s 6ms/step - loss: 0.1141 - accuracy: 0.9650\n",
            "Epoch 6/15\n",
            "1875/1875 [==============================] - 11s 6ms/step - loss: 0.0927 - accuracy: 0.9718\n",
            "Epoch 7/15\n",
            "1875/1875 [==============================] - 11s 6ms/step - loss: 0.0753 - accuracy: 0.9769\n",
            "Epoch 8/15\n",
            "1875/1875 [==============================] - 11s 6ms/step - loss: 0.0637 - accuracy: 0.9812\n",
            "Epoch 9/15\n",
            "1875/1875 [==============================] - 11s 6ms/step - loss: 0.0536 - accuracy: 0.9838\n",
            "Epoch 10/15\n",
            "1875/1875 [==============================] - 10s 6ms/step - loss: 0.0461 - accuracy: 0.9860\n",
            "Epoch 11/15\n",
            "1875/1875 [==============================] - 10s 6ms/step - loss: 0.0396 - accuracy: 0.9879\n",
            "Epoch 12/15\n",
            "1875/1875 [==============================] - 10s 6ms/step - loss: 0.0347 - accuracy: 0.9894\n",
            "Epoch 13/15\n",
            "1875/1875 [==============================] - 10s 6ms/step - loss: 0.0292 - accuracy: 0.9912\n",
            "Epoch 14/15\n",
            "1875/1875 [==============================] - 11s 6ms/step - loss: 0.0263 - accuracy: 0.9920\n",
            "Epoch 15/15\n",
            "1875/1875 [==============================] - 11s 6ms/step - loss: 0.0216 - accuracy: 0.9934\n"
          ]
        }
      ],
      "source": [
        "model_6.compile(optimizer=tf.keras.optimizers.SGD(learning_rate=0.03), loss=\"categorical_crossentropy\", metrics=['accuracy'])\n",
        "history = model_6.fit(train_images,train_labels,epochs=15,batch_size=32)"
      ]
    },
    {
      "cell_type": "code",
      "source": [
        "loss, acc =model_6.evaluate(test_images , test_labels)\n",
        "print(\"loss =\",loss)\n",
        "print(\"accuracy =\",acc)"
      ],
      "metadata": {
        "colab": {
          "base_uri": "https://localhost:8080/"
        },
        "outputId": "0e05012e-8412-468b-838c-3101e694e460",
        "id": "WApdRQde3A6v"
      },
      "execution_count": null,
      "outputs": [
        {
          "output_type": "stream",
          "name": "stdout",
          "text": [
            "313/313 [==============================] - 2s 5ms/step - loss: 0.0691 - accuracy: 0.9817\n",
            "loss = 0.06914949417114258\n",
            "accuracy = 0.9817000031471252\n"
          ]
        }
      ]
    },
    {
      "cell_type": "code",
      "source": [
        "def plot_losses(history):  \n",
        "    plt.plot(history.history['loss'])\n",
        "    plt.title('model loss')\n",
        "    plt.ylabel('loss')\n",
        "    plt.xlabel('epoch')\n",
        "    plt.legend(['train'], loc='upper left')\n",
        "    plt.show()\n",
        "plot_losses(history)"
      ],
      "metadata": {
        "colab": {
          "base_uri": "https://localhost:8080/",
          "height": 294
        },
        "outputId": "26773dd2-2f21-4e1a-c1a7-69227f1d3853",
        "id": "pVwnMA6y3A6v"
      },
      "execution_count": null,
      "outputs": [
        {
          "output_type": "display_data",
          "data": {
            "text/plain": [
              "<Figure size 432x288 with 1 Axes>"
            ],
            "image/png": "[encoded data removed]"
          },
          "metadata": {
            "needs_background": "light"
          }
        }
      ]
    },
    {
      "cell_type": "code",
      "source": [
        "def plot_accuracies(history):  \n",
        "    plt.plot(history.history['accuracy'], label='accuracy')\n",
        "    plt.title('model accuracy')\n",
        "    plt.xlabel('Epoch')\n",
        "    plt.ylabel('Accuracy')\n",
        "    plt.legend(loc='upper right')\n",
        "    plt.show()\n",
        "plot_accuracies(history)"
      ],
      "metadata": {
        "colab": {
          "base_uri": "https://localhost:8080/",
          "height": 294
        },
        "outputId": "e75b7e22-3c49-4928-93dc-59a5c1587391",
        "id": "E3kjni763A6v"
      },
      "execution_count": null,
      "outputs": [
        {
          "output_type": "display_data",
          "data": {
            "text/plain": [
              "<Figure size 432x288 with 1 Axes>"
            ],
            "image/png": "[encoded data removed]"
          },
          "metadata": {
            "needs_background": "light"
          }
        }
      ]
    },
    {
      "cell_type": "markdown",
      "source": [
        "##Model 7"
      ],
      "metadata": {
        "id": "yozCPPah-fz6"
      }
    },
    {
      "cell_type": "code",
      "execution_count": null,
      "metadata": {
        "colab": {
          "base_uri": "https://localhost:8080/"
        },
        "outputId": "6f06751d-bbf4-4ed9-ec82-fde2fba3ff5d",
        "id": "8spj-rY0-f0A"
      },
      "outputs": [
        {
          "output_type": "stream",
          "name": "stdout",
          "text": [
            "Model: \"sequential_6\"\n",
            "_________________________________________________________________\n",
            " Layer (type)                Output Shape              Param #   \n",
            "=================================================================\n",
            " conv2d_12 (Conv2D)          (None, 27, 27, 16)        80        \n",
            "                                                                 \n",
            " activation_30 (Activation)  (None, 27, 27, 16)        0         \n",
            "                                                                 \n",
            " max_pooling2d_6 (MaxPooling  (None, 13, 13, 16)       0         \n",
            " 2D)                                                             \n",
            "                                                                 \n",
            " flatten_6 (Flatten)         (None, 2704)              0         \n",
            "                                                                 \n",
            " dense_18 (Dense)            (None, 16)                43280     \n",
            "                                                                 \n",
            " activation_31 (Activation)  (None, 16)                0         \n",
            "                                                                 \n",
            " dense_19 (Dense)            (None, 10)                170       \n",
            "                                                                 \n",
            " activation_32 (Activation)  (None, 10)                0         \n",
            "                                                                 \n",
            "=================================================================\n",
            "Total params: 43,530\n",
            "Trainable params: 43,530\n",
            "Non-trainable params: 0\n",
            "_________________________________________________________________\n"
          ]
        }
      ],
      "source": [
        "#creat the model\n",
        "model_7 = Sequential()\n",
        "\n",
        "#conv layers\n",
        "\n",
        "##first CNN layer\n",
        "model_7.add(Conv2D(16,(2,2),input_shape = train_images.shape[1:]))\n",
        "model_7.add(Activation(\"relu\"))\n",
        "model_7.add(MaxPooling2D(pool_size=(2, 2)))\n",
        "\n",
        "model_7.add(Flatten())\n",
        "\n",
        "#FC layers\n",
        "\n",
        "##first FC layer\n",
        "model_7.add(Dense(16))\n",
        "model_7.add(Activation(\"relu\"))\n",
        "\n",
        "# softmax classifier\n",
        "model_7.add(Dense(10))\n",
        "model_7.add(Activation(\"softmax\"))\n",
        "\n",
        "model_7.summary()"
      ]
    },
    {
      "cell_type": "code",
      "execution_count": null,
      "metadata": {
        "colab": {
          "base_uri": "https://localhost:8080/"
        },
        "outputId": "fe347f0d-aa1f-4f3a-8267-6f718e0a2ab4",
        "id": "5ixF4GlE-f0B"
      },
      "outputs": [
        {
          "output_type": "stream",
          "name": "stdout",
          "text": [
            "Epoch 1/15\n",
            "1875/1875 [==============================] - 8s 4ms/step - loss: 0.0898 - accuracy: 0.9733\n",
            "Epoch 2/15\n",
            "1875/1875 [==============================] - 8s 4ms/step - loss: 0.0838 - accuracy: 0.9751\n",
            "Epoch 3/15\n",
            "1875/1875 [==============================] - 8s 5ms/step - loss: 0.0792 - accuracy: 0.9761\n",
            "Epoch 4/15\n",
            "1875/1875 [==============================] - 8s 4ms/step - loss: 0.0742 - accuracy: 0.9778\n",
            "Epoch 5/15\n",
            "1875/1875 [==============================] - 8s 4ms/step - loss: 0.0703 - accuracy: 0.9787\n",
            "Epoch 6/15\n",
            "1875/1875 [==============================] - 8s 4ms/step - loss: 0.0669 - accuracy: 0.9802\n",
            "Epoch 7/15\n",
            "1875/1875 [==============================] - 8s 4ms/step - loss: 0.0634 - accuracy: 0.9809\n",
            "Epoch 8/15\n",
            "1875/1875 [==============================] - 8s 4ms/step - loss: 0.0603 - accuracy: 0.9812\n",
            "Epoch 9/15\n",
            "1875/1875 [==============================] - 8s 4ms/step - loss: 0.0573 - accuracy: 0.9827\n",
            "Epoch 10/15\n",
            "1875/1875 [==============================] - 8s 4ms/step - loss: 0.0553 - accuracy: 0.9835\n",
            "Epoch 11/15\n",
            "1875/1875 [==============================] - 8s 4ms/step - loss: 0.0522 - accuracy: 0.9843\n",
            "Epoch 12/15\n",
            "1875/1875 [==============================] - 8s 4ms/step - loss: 0.0499 - accuracy: 0.9851\n",
            "Epoch 13/15\n",
            "1875/1875 [==============================] - 8s 4ms/step - loss: 0.0477 - accuracy: 0.9858\n",
            "Epoch 14/15\n",
            "1875/1875 [==============================] - 8s 4ms/step - loss: 0.0452 - accuracy: 0.9866\n",
            "Epoch 15/15\n",
            "1875/1875 [==============================] - 8s 4ms/step - loss: 0.0435 - accuracy: 0.9865\n"
          ]
        }
      ],
      "source": [
        "model_7.compile(optimizer=tf.keras.optimizers.SGD(learning_rate=0.03), loss=\"categorical_crossentropy\", metrics=['accuracy'])\n",
        "history = model_7.fit(train_images,train_labels,epochs=15,batch_size=32)"
      ]
    },
    {
      "cell_type": "code",
      "source": [
        "loss, acc =model_7.evaluate(test_images , test_labels)\n",
        "print(\"loss =\",loss)\n",
        "print(\"accuracy =\",acc)"
      ],
      "metadata": {
        "colab": {
          "base_uri": "https://localhost:8080/"
        },
        "outputId": "7f6a7267-0b14-417b-b9bc-e3b7c45500bb",
        "id": "se_6NKzr-f0B"
      },
      "execution_count": null,
      "outputs": [
        {
          "output_type": "stream",
          "name": "stdout",
          "text": [
            "313/313 [==============================] - 1s 4ms/step - loss: 0.0906 - accuracy: 0.9742\n",
            "loss = 0.09055687487125397\n",
            "accuracy = 0.9742000102996826\n"
          ]
        }
      ]
    },
    {
      "cell_type": "code",
      "source": [
        "def plot_losses(history):  \n",
        "    plt.plot(history.history['loss'])\n",
        "    plt.title('model loss')\n",
        "    plt.ylabel('loss')\n",
        "    plt.xlabel('epoch')\n",
        "    plt.legend(['train'], loc='upper left')\n",
        "    plt.show()\n",
        "plot_losses(history)"
      ],
      "metadata": {
        "colab": {
          "base_uri": "https://localhost:8080/",
          "height": 294
        },
        "outputId": "4912cc46-d32a-49f1-efc4-72c5021dabf4",
        "id": "0RRYOG5W-f0B"
      },
      "execution_count": null,
      "outputs": [
        {
          "output_type": "display_data",
          "data": {
            "text/plain": [
              "<Figure size 432x288 with 1 Axes>"
            ],
            "image/png": "[encoded data removed]"
          },
          "metadata": {
            "needs_background": "light"
          }
        }
      ]
    },
    {
      "cell_type": "code",
      "source": [
        "def plot_accuracies(history):  \n",
        "    plt.plot(history.history['accuracy'], label='accuracy')\n",
        "    plt.title('model accuracy')\n",
        "    plt.xlabel('Epoch')\n",
        "    plt.ylabel('Accuracy')\n",
        "    plt.legend(loc='upper right')\n",
        "    plt.show()\n",
        "plot_accuracies(history)"
      ],
      "metadata": {
        "colab": {
          "base_uri": "https://localhost:8080/",
          "height": 294
        },
        "outputId": "0e9ae0be-99b8-4237-91e0-f77bd1ebf339",
        "id": "w9g-f6yW-f0B"
      },
      "execution_count": null,
      "outputs": [
        {
          "output_type": "display_data",
          "data": {
            "text/plain": [
              "<Figure size 432x288 with 1 Axes>"
            ],
            "image/png": "[encoded data removed]"
          },
          "metadata": {
            "needs_background": "light"
          }
        }
      ]
    },
    {
      "cell_type": "markdown",
      "source": [
        "##Model 8"
      ],
      "metadata": {
        "id": "cx3Qu4KxObSd"
      }
    },
    {
      "cell_type": "code",
      "execution_count": null,
      "metadata": {
        "colab": {
          "base_uri": "https://localhost:8080/"
        },
        "outputId": "47e23188-4898-46c7-810c-1c9d1f648226",
        "id": "0xkOwOiIObSj"
      },
      "outputs": [
        {
          "output_type": "stream",
          "name": "stdout",
          "text": [
            "Model: \"sequential_7\"\n",
            "_________________________________________________________________\n",
            " Layer (type)                Output Shape              Param #   \n",
            "=================================================================\n",
            " conv2d_13 (Conv2D)          (None, 27, 27, 32)        160       \n",
            "                                                                 \n",
            " activation_33 (Activation)  (None, 27, 27, 32)        0         \n",
            "                                                                 \n",
            " max_pooling2d_7 (MaxPooling  (None, 13, 13, 32)       0         \n",
            " 2D)                                                             \n",
            "                                                                 \n",
            " flatten_7 (Flatten)         (None, 5408)              0         \n",
            "                                                                 \n",
            " dense_20 (Dense)            (None, 32)                173088    \n",
            "                                                                 \n",
            " activation_34 (Activation)  (None, 32)                0         \n",
            "                                                                 \n",
            " dense_21 (Dense)            (None, 16)                528       \n",
            "                                                                 \n",
            " activation_35 (Activation)  (None, 16)                0         \n",
            "                                                                 \n",
            " dense_22 (Dense)            (None, 10)                170       \n",
            "                                                                 \n",
            " activation_36 (Activation)  (None, 10)                0         \n",
            "                                                                 \n",
            "=================================================================\n",
            "Total params: 173,946\n",
            "Trainable params: 173,946\n",
            "Non-trainable params: 0\n",
            "_________________________________________________________________\n"
          ]
        }
      ],
      "source": [
        "#creat the model\n",
        "model_8 = Sequential()\n",
        "\n",
        "#conv layers\n",
        "\n",
        "##first CNN layer\n",
        "model_8.add(Conv2D(32,(2,2),input_shape = train_images.shape[1:]))\n",
        "model_8.add(Activation(\"relu\"))\n",
        "model_8.add(MaxPooling2D(pool_size=(2, 2)))\n",
        "\n",
        "model_8.add(Flatten())\n",
        "\n",
        "#FC layers\n",
        "\n",
        "##first FC layer\n",
        "model_8.add(Dense(32))\n",
        "model_8.add(Activation(\"relu\"))\n",
        "\n",
        "##second FC layer\n",
        "model_8.add(Dense(16))\n",
        "model_8.add(Activation(\"relu\"))\n",
        "\n",
        "# softmax classifier\n",
        "model_8.add(Dense(10))\n",
        "model_8.add(Activation(\"softmax\"))\n",
        "\n",
        "model_8.summary()"
      ]
    },
    {
      "cell_type": "code",
      "execution_count": null,
      "metadata": {
        "colab": {
          "base_uri": "https://localhost:8080/"
        },
        "outputId": "a3e1e716-d5b1-472a-f2dc-7f1d3ec5bc43",
        "id": "Cchv4TxGObSk"
      },
      "outputs": [
        {
          "output_type": "stream",
          "name": "stdout",
          "text": [
            "Epoch 1/15\n",
            "1875/1875 [==============================] - 9s 4ms/step - loss: 0.5722 - accuracy: 0.8270\n",
            "Epoch 2/15\n",
            "1875/1875 [==============================] - 8s 4ms/step - loss: 0.2455 - accuracy: 0.9252\n",
            "Epoch 3/15\n",
            "1875/1875 [==============================] - 8s 4ms/step - loss: 0.1898 - accuracy: 0.9425\n",
            "Epoch 4/15\n",
            "1875/1875 [==============================] - 8s 4ms/step - loss: 0.1589 - accuracy: 0.9521\n",
            "Epoch 5/15\n",
            "1875/1875 [==============================] - 8s 4ms/step - loss: 0.1388 - accuracy: 0.9584\n",
            "Epoch 6/15\n",
            "1875/1875 [==============================] - 8s 4ms/step - loss: 0.1239 - accuracy: 0.9622\n",
            "Epoch 7/15\n",
            "1875/1875 [==============================] - 8s 4ms/step - loss: 0.1122 - accuracy: 0.9657\n",
            "Epoch 8/15\n",
            "1875/1875 [==============================] - 8s 4ms/step - loss: 0.1023 - accuracy: 0.9687\n",
            "Epoch 9/15\n",
            "1875/1875 [==============================] - 8s 4ms/step - loss: 0.0936 - accuracy: 0.9710\n",
            "Epoch 10/15\n",
            "1875/1875 [==============================] - 8s 4ms/step - loss: 0.0849 - accuracy: 0.9741\n",
            "Epoch 11/15\n",
            "1875/1875 [==============================] - 8s 4ms/step - loss: 0.0773 - accuracy: 0.9761\n",
            "Epoch 12/15\n",
            "1875/1875 [==============================] - 8s 4ms/step - loss: 0.0707 - accuracy: 0.9775\n",
            "Epoch 13/15\n",
            "1875/1875 [==============================] - 8s 4ms/step - loss: 0.0647 - accuracy: 0.9795\n",
            "Epoch 14/15\n",
            "1875/1875 [==============================] - 8s 4ms/step - loss: 0.0589 - accuracy: 0.9817\n",
            "Epoch 15/15\n",
            "1875/1875 [==============================] - 8s 4ms/step - loss: 0.0543 - accuracy: 0.9828\n"
          ]
        }
      ],
      "source": [
        "model_8.compile(optimizer=tf.keras.optimizers.SGD(learning_rate=0.03), loss=\"categorical_crossentropy\", metrics=['accuracy'])\n",
        "history = model_8.fit(train_images,train_labels,epochs=15,batch_size=32)"
      ]
    },
    {
      "cell_type": "code",
      "source": [
        "loss, acc =model_8.evaluate(test_images , test_labels)\n",
        "print(\"loss =\",loss)\n",
        "print(\"accuracy =\",acc)"
      ],
      "metadata": {
        "colab": {
          "base_uri": "https://localhost:8080/"
        },
        "outputId": "3d5ffc9b-a571-4af8-d6c9-110eef8cdca1",
        "id": "ECzPJm7tObSk"
      },
      "execution_count": null,
      "outputs": [
        {
          "output_type": "stream",
          "name": "stdout",
          "text": [
            "313/313 [==============================] - 1s 4ms/step - loss: 0.0871 - accuracy: 0.9734\n",
            "loss = 0.08710829168558121\n",
            "accuracy = 0.9733999967575073\n"
          ]
        }
      ]
    },
    {
      "cell_type": "code",
      "source": [
        "def plot_losses(history):  \n",
        "    plt.plot(history.history['loss'])\n",
        "    plt.title('model loss')\n",
        "    plt.ylabel('loss')\n",
        "    plt.xlabel('epoch')\n",
        "    plt.legend(['train'], loc='upper left')\n",
        "    plt.show()\n",
        "plot_losses(history)"
      ],
      "metadata": {
        "colab": {
          "base_uri": "https://localhost:8080/",
          "height": 294
        },
        "outputId": "6c69d45d-7a2f-4481-b714-b6f489f83a6e",
        "id": "BiTMHoOnObSk"
      },
      "execution_count": null,
      "outputs": [
        {
          "output_type": "display_data",
          "data": {
            "text/plain": [
              "<Figure size 432x288 with 1 Axes>"
            ],
            "image/png": "[encoded data removed]"
          },
          "metadata": {
            "needs_background": "light"
          }
        }
      ]
    },
    {
      "cell_type": "code",
      "source": [
        "def plot_accuracies(history):  \n",
        "    plt.plot(history.history['accuracy'], label='accuracy')\n",
        "    plt.title('model accuracy')\n",
        "    plt.xlabel('Epoch')\n",
        "    plt.ylabel('Accuracy')\n",
        "    plt.legend(loc='upper right')\n",
        "    plt.show()\n",
        "plot_accuracies(history)"
      ],
      "metadata": {
        "colab": {
          "base_uri": "https://localhost:8080/",
          "height": 294
        },
        "outputId": "09cf7c41-83ac-4e37-b7ff-b66b52cc344f",
        "id": "uNDtc3SDObSl"
      },
      "execution_count": null,
      "outputs": [
        {
          "output_type": "display_data",
          "data": {
            "text/plain": [
              "<Figure size 432x288 with 1 Axes>"
            ],
            "image/png": "[encoded data removed]"
          },
          "metadata": {
            "needs_background": "light"
          }
        }
      ]
    },
    {
      "cell_type": "markdown",
      "source": [
        "##Model 9"
      ],
      "metadata": {
        "id": "jBMSVjUHQqZ2"
      }
    },
    {
      "cell_type": "code",
      "execution_count": null,
      "metadata": {
        "colab": {
          "base_uri": "https://localhost:8080/"
        },
        "outputId": "9ab7038d-1a3a-415e-a35c-18be7643dfe3",
        "id": "yIUJw5moQqZ9"
      },
      "outputs": [
        {
          "output_type": "stream",
          "name": "stdout",
          "text": [
            "Model: \"sequential_8\"\n",
            "_________________________________________________________________\n",
            " Layer (type)                Output Shape              Param #   \n",
            "=================================================================\n",
            " conv2d_14 (Conv2D)          (None, 27, 27, 16)        80        \n",
            "                                                                 \n",
            " activation_37 (Activation)  (None, 27, 27, 16)        0         \n",
            "                                                                 \n",
            " conv2d_15 (Conv2D)          (None, 26, 26, 32)        2080      \n",
            "                                                                 \n",
            " activation_38 (Activation)  (None, 26, 26, 32)        0         \n",
            "                                                                 \n",
            " max_pooling2d_8 (MaxPooling  (None, 13, 13, 32)       0         \n",
            " 2D)                                                             \n",
            "                                                                 \n",
            " flatten_8 (Flatten)         (None, 5408)              0         \n",
            "                                                                 \n",
            " dense_23 (Dense)            (None, 32)                173088    \n",
            "                                                                 \n",
            " activation_39 (Activation)  (None, 32)                0         \n",
            "                                                                 \n",
            " dense_24 (Dense)            (None, 10)                330       \n",
            "                                                                 \n",
            " activation_40 (Activation)  (None, 10)                0         \n",
            "                                                                 \n",
            "=================================================================\n",
            "Total params: 175,578\n",
            "Trainable params: 175,578\n",
            "Non-trainable params: 0\n",
            "_________________________________________________________________\n"
          ]
        }
      ],
      "source": [
        "#creat the model\n",
        "model_9 = Sequential()\n",
        "\n",
        "#conv layers\n",
        "\n",
        "##first CNN layer\n",
        "model_9.add(Conv2D(16,(2,2),input_shape = train_images.shape[1:]))\n",
        "model_9.add(Activation(\"relu\"))\n",
        "\n",
        "##second CNN layer\n",
        "model_9.add(Conv2D(32,(2,2)))\n",
        "model_9.add(Activation(\"relu\"))\n",
        "model_9.add(MaxPooling2D(pool_size=(2, 2)))\n",
        "\n",
        "model_9.add(Flatten())\n",
        "\n",
        "#FC layers\n",
        "\n",
        "##first FC layer\n",
        "model_9.add(Dense(32))\n",
        "model_9.add(Activation(\"relu\"))\n",
        "\n",
        "# softmax classifier\n",
        "model_9.add(Dense(10))\n",
        "model_9.add(Activation(\"softmax\"))\n",
        "\n",
        "model_9.summary()"
      ]
    },
    {
      "cell_type": "code",
      "execution_count": null,
      "metadata": {
        "colab": {
          "base_uri": "https://localhost:8080/"
        },
        "outputId": "43408383-8c6a-444d-ce3a-afede37a6f7c",
        "id": "5uASiBndQqZ9"
      },
      "outputs": [
        {
          "output_type": "stream",
          "name": "stdout",
          "text": [
            "Epoch 1/15\n",
            "1875/1875 [==============================] - 11s 5ms/step - loss: 0.4803 - accuracy: 0.8561\n",
            "Epoch 2/15\n",
            "1875/1875 [==============================] - 10s 5ms/step - loss: 0.2062 - accuracy: 0.9383\n",
            "Epoch 3/15\n",
            "1875/1875 [==============================] - 10s 5ms/step - loss: 0.1609 - accuracy: 0.9514\n",
            "Epoch 4/15\n",
            "1875/1875 [==============================] - 10s 5ms/step - loss: 0.1310 - accuracy: 0.9603\n",
            "Epoch 5/15\n",
            "1875/1875 [==============================] - 10s 5ms/step - loss: 0.1076 - accuracy: 0.9672\n",
            "Epoch 6/15\n",
            "1875/1875 [==============================] - 10s 5ms/step - loss: 0.0911 - accuracy: 0.9724\n",
            "Epoch 7/15\n",
            "1875/1875 [==============================] - 10s 5ms/step - loss: 0.0782 - accuracy: 0.9757\n",
            "Epoch 8/15\n",
            "1875/1875 [==============================] - 10s 5ms/step - loss: 0.0683 - accuracy: 0.9792\n",
            "Epoch 9/15\n",
            "1875/1875 [==============================] - 10s 5ms/step - loss: 0.0595 - accuracy: 0.9813\n",
            "Epoch 10/15\n",
            "1875/1875 [==============================] - 10s 5ms/step - loss: 0.0533 - accuracy: 0.9836\n",
            "Epoch 11/15\n",
            "1875/1875 [==============================] - 10s 5ms/step - loss: 0.0465 - accuracy: 0.9854\n",
            "Epoch 12/15\n",
            "1875/1875 [==============================] - 10s 5ms/step - loss: 0.0414 - accuracy: 0.9872\n",
            "Epoch 13/15\n",
            "1875/1875 [==============================] - 10s 5ms/step - loss: 0.0369 - accuracy: 0.9887\n",
            "Epoch 14/15\n",
            "1875/1875 [==============================] - 10s 5ms/step - loss: 0.0338 - accuracy: 0.9893\n",
            "Epoch 15/15\n",
            "1875/1875 [==============================] - 10s 5ms/step - loss: 0.0295 - accuracy: 0.9907\n"
          ]
        }
      ],
      "source": [
        "model_9.compile(optimizer=tf.keras.optimizers.SGD(learning_rate=0.03), loss=\"categorical_crossentropy\", metrics=['accuracy'])\n",
        "history = model_9.fit(train_images,train_labels,epochs=15,batch_size=32)"
      ]
    },
    {
      "cell_type": "code",
      "source": [
        "loss, acc =model_9.evaluate(test_images , test_labels)\n",
        "print(\"loss =\",loss)\n",
        "print(\"accuracy =\",acc)"
      ],
      "metadata": {
        "colab": {
          "base_uri": "https://localhost:8080/"
        },
        "outputId": "ae0100c1-39a7-4910-fb63-04b7e9ab86bb",
        "id": "u2oCHYBwQqZ9"
      },
      "execution_count": null,
      "outputs": [
        {
          "output_type": "stream",
          "name": "stdout",
          "text": [
            "313/313 [==============================] - 2s 4ms/step - loss: 0.0582 - accuracy: 0.9813\n",
            "loss = 0.0582338385283947\n",
            "accuracy = 0.9812999963760376\n"
          ]
        }
      ]
    },
    {
      "cell_type": "code",
      "source": [
        "def plot_losses(history):  \n",
        "    plt.plot(history.history['loss'])\n",
        "    plt.title('model loss')\n",
        "    plt.ylabel('loss')\n",
        "    plt.xlabel('epoch')\n",
        "    plt.legend(['train'], loc='upper left')\n",
        "    plt.show()\n",
        "plot_losses(history)"
      ],
      "metadata": {
        "colab": {
          "base_uri": "https://localhost:8080/",
          "height": 294
        },
        "outputId": "14606e18-8930-4d2d-84f1-593ec20558c5",
        "id": "dFq3LYVpQqZ9"
      },
      "execution_count": null,
      "outputs": [
        {
          "output_type": "display_data",
          "data": {
            "text/plain": [
              "<Figure size 432x288 with 1 Axes>"
            ],
            "image/png": "[encoded data removed]"
          },
          "metadata": {
            "needs_background": "light"
          }
        }
      ]
    },
    {
      "cell_type": "code",
      "source": [
        "def plot_accuracies(history):  \n",
        "    plt.plot(history.history['accuracy'], label='accuracy')\n",
        "    plt.title('model accuracy')\n",
        "    plt.xlabel('Epoch')\n",
        "    plt.ylabel('Accuracy')\n",
        "    plt.legend(loc='upper right')\n",
        "    plt.show()\n",
        "plot_accuracies(history)"
      ],
      "metadata": {
        "colab": {
          "base_uri": "https://localhost:8080/",
          "height": 294
        },
        "outputId": "95498a8f-3809-44d0-a2b9-d5d8fcdfbf43",
        "id": "bBO0xxvYQqZ-"
      },
      "execution_count": null,
      "outputs": [
        {
          "output_type": "display_data",
          "data": {
            "text/plain": [
              "<Figure size 432x288 with 1 Axes>"
            ],
            "image/png": "[encoded data removed]"
          },
          "metadata": {
            "needs_background": "light"
          }
        }
      ]
    },
    {
      "cell_type": "markdown",
      "source": [
        "##Model 10"
      ],
      "metadata": {
        "id": "BMoLQsw7TgCP"
      }
    },
    {
      "cell_type": "code",
      "execution_count": null,
      "metadata": {
        "colab": {
          "base_uri": "https://localhost:8080/"
        },
        "outputId": "f34219cb-4a52-496a-c446-3175f4efb6cb",
        "id": "jvkhe0g9TgCW"
      },
      "outputs": [
        {
          "output_type": "stream",
          "name": "stdout",
          "text": [
            "Model: \"sequential_9\"\n",
            "_________________________________________________________________\n",
            " Layer (type)                Output Shape              Param #   \n",
            "=================================================================\n",
            " conv2d_16 (Conv2D)          (None, 27, 27, 16)        80        \n",
            "                                                                 \n",
            " activation_41 (Activation)  (None, 27, 27, 16)        0         \n",
            "                                                                 \n",
            " conv2d_17 (Conv2D)          (None, 26, 26, 32)        2080      \n",
            "                                                                 \n",
            " activation_42 (Activation)  (None, 26, 26, 32)        0         \n",
            "                                                                 \n",
            " max_pooling2d_9 (MaxPooling  (None, 13, 13, 32)       0         \n",
            " 2D)                                                             \n",
            "                                                                 \n",
            " conv2d_18 (Conv2D)          (None, 12, 12, 64)        8256      \n",
            "                                                                 \n",
            " activation_43 (Activation)  (None, 12, 12, 64)        0         \n",
            "                                                                 \n",
            " max_pooling2d_10 (MaxPoolin  (None, 6, 6, 64)         0         \n",
            " g2D)                                                            \n",
            "                                                                 \n",
            " flatten_9 (Flatten)         (None, 2304)              0         \n",
            "                                                                 \n",
            " dense_25 (Dense)            (None, 64)                147520    \n",
            "                                                                 \n",
            " activation_44 (Activation)  (None, 64)                0         \n",
            "                                                                 \n",
            " dense_26 (Dense)            (None, 32)                2080      \n",
            "                                                                 \n",
            " activation_45 (Activation)  (None, 32)                0         \n",
            "                                                                 \n",
            " dense_27 (Dense)            (None, 10)                330       \n",
            "                                                                 \n",
            " activation_46 (Activation)  (None, 10)                0         \n",
            "                                                                 \n",
            "=================================================================\n",
            "Total params: 160,346\n",
            "Trainable params: 160,346\n",
            "Non-trainable params: 0\n",
            "_________________________________________________________________\n"
          ]
        }
      ],
      "source": [
        "#creat the model\n",
        "model_10 = Sequential()\n",
        "\n",
        "#conv layers\n",
        "\n",
        "##first CNN layer\n",
        "model_10.add(Conv2D(16,(2,2),input_shape = train_images.shape[1:]))\n",
        "model_10.add(Activation(\"relu\"))\n",
        "\n",
        "##second CNN layer\n",
        "model_10.add(Conv2D(32,(2,2)))\n",
        "model_10.add(Activation(\"relu\"))\n",
        "model_10.add(MaxPooling2D(pool_size=(2, 2)))\n",
        "\n",
        "##third CNN layer\n",
        "model_10.add(Conv2D(64,(2,2)))\n",
        "model_10.add(Activation(\"relu\"))\n",
        "model_10.add(MaxPooling2D(pool_size=(2, 2)))\n",
        "\n",
        "model_10.add(Flatten())\n",
        "\n",
        "#FC layers\n",
        "\n",
        "##first FC layer\n",
        "model_10.add(Dense(64))\n",
        "model_10.add(Activation(\"relu\"))\n",
        "\n",
        "##second FC layer\n",
        "model_10.add(Dense(32))\n",
        "model_10.add(Activation(\"relu\"))\n",
        "\n",
        "# softmax classifier\n",
        "model_10.add(Dense(10))\n",
        "model_10.add(Activation(\"softmax\"))\n",
        "\n",
        "model_10.summary()"
      ]
    },
    {
      "cell_type": "code",
      "execution_count": null,
      "metadata": {
        "colab": {
          "base_uri": "https://localhost:8080/"
        },
        "outputId": "82a57e43-2c1d-4e71-86b0-18916e3b454d",
        "id": "zYQNFyg3TgCW"
      },
      "outputs": [
        {
          "output_type": "stream",
          "name": "stdout",
          "text": [
            "Epoch 1/15\n",
            "1875/1875 [==============================] - 14s 7ms/step - loss: 0.5143 - accuracy: 0.8402\n",
            "Epoch 2/15\n",
            "1875/1875 [==============================] - 13s 7ms/step - loss: 0.1232 - accuracy: 0.9614\n",
            "Epoch 3/15\n",
            "1875/1875 [==============================] - 13s 7ms/step - loss: 0.0844 - accuracy: 0.9733\n",
            "Epoch 4/15\n",
            "1875/1875 [==============================] - 13s 7ms/step - loss: 0.0652 - accuracy: 0.9796\n",
            "Epoch 5/15\n",
            "1875/1875 [==============================] - 13s 7ms/step - loss: 0.0540 - accuracy: 0.9828\n",
            "Epoch 6/15\n",
            "1875/1875 [==============================] - 13s 7ms/step - loss: 0.0452 - accuracy: 0.9852\n",
            "Epoch 7/15\n",
            "1875/1875 [==============================] - 13s 7ms/step - loss: 0.0381 - accuracy: 0.9882\n",
            "Epoch 8/15\n",
            "1875/1875 [==============================] - 13s 7ms/step - loss: 0.0324 - accuracy: 0.9896\n",
            "Epoch 9/15\n",
            "1875/1875 [==============================] - 13s 7ms/step - loss: 0.0290 - accuracy: 0.9908\n",
            "Epoch 10/15\n",
            "1875/1875 [==============================] - 13s 7ms/step - loss: 0.0243 - accuracy: 0.9921\n",
            "Epoch 11/15\n",
            "1875/1875 [==============================] - 13s 7ms/step - loss: 0.0205 - accuracy: 0.9936\n",
            "Epoch 12/15\n",
            "1875/1875 [==============================] - 13s 7ms/step - loss: 0.0172 - accuracy: 0.9947\n",
            "Epoch 13/15\n",
            "1875/1875 [==============================] - 13s 7ms/step - loss: 0.0158 - accuracy: 0.9948\n",
            "Epoch 14/15\n",
            "1875/1875 [==============================] - 13s 7ms/step - loss: 0.0133 - accuracy: 0.9958\n",
            "Epoch 15/15\n",
            "1875/1875 [==============================] - 13s 7ms/step - loss: 0.0121 - accuracy: 0.9961\n"
          ]
        }
      ],
      "source": [
        "model_10.compile(optimizer=tf.keras.optimizers.SGD(learning_rate=0.03), loss=\"categorical_crossentropy\", metrics=['accuracy'])\n",
        "history = model_10.fit(train_images,train_labels,epochs=15,batch_size=32)"
      ]
    },
    {
      "cell_type": "code",
      "source": [
        "loss, acc =model_10.evaluate(test_images , test_labels)\n",
        "print(\"loss =\",loss)\n",
        "print(\"accuracy =\",acc)"
      ],
      "metadata": {
        "colab": {
          "base_uri": "https://localhost:8080/"
        },
        "outputId": "404fcb0e-1dae-495d-d454-a466676ed57b",
        "id": "38AhKH74TgCX"
      },
      "execution_count": null,
      "outputs": [
        {
          "output_type": "stream",
          "name": "stdout",
          "text": [
            "313/313 [==============================] - 2s 5ms/step - loss: 0.0534 - accuracy: 0.9845\n",
            "loss = 0.053412292152643204\n",
            "accuracy = 0.984499990940094\n"
          ]
        }
      ]
    },
    {
      "cell_type": "code",
      "source": [
        "def plot_losses(history):  \n",
        "    plt.plot(history.history['loss'])\n",
        "    plt.title('model loss')\n",
        "    plt.ylabel('loss')\n",
        "    plt.xlabel('epoch')\n",
        "    plt.legend(['train'], loc='upper left')\n",
        "    plt.show()\n",
        "plot_losses(history)"
      ],
      "metadata": {
        "colab": {
          "base_uri": "https://localhost:8080/",
          "height": 294
        },
        "outputId": "ebfd3c03-2202-4e7e-823d-bd70fe684fd6",
        "id": "-szsf8FjTgCX"
      },
      "execution_count": null,
      "outputs": [
        {
          "output_type": "display_data",
          "data": {
            "text/plain": [
              "<Figure size 432x288 with 1 Axes>"
            ],
            "image/png": "[encoded data removed]"
          },
          "metadata": {
            "needs_background": "light"
          }
        }
      ]
    },
    {
      "cell_type": "code",
      "source": [
        "def plot_accuracies(history):  \n",
        "    plt.plot(history.history['accuracy'], label='accuracy')\n",
        "    plt.title('model accuracy')\n",
        "    plt.xlabel('Epoch')\n",
        "    plt.ylabel('Accuracy')\n",
        "    plt.legend(loc='upper right')\n",
        "    plt.show()\n",
        "plot_accuracies(history)"
      ],
      "metadata": {
        "colab": {
          "base_uri": "https://localhost:8080/",
          "height": 294
        },
        "outputId": "2194ccd8-c376-454d-838a-0000749a9c5b",
        "id": "dd2kV9KDTgCX"
      },
      "execution_count": null,
      "outputs": [
        {
          "output_type": "display_data",
          "data": {
            "text/plain": [
              "<Figure size 432x288 with 1 Axes>"
            ],
            "image/png": "[encoded data removed]"
          },
          "metadata": {
            "needs_background": "light"
          }
        }
      ]
    },
    {
      "cell_type": "markdown",
      "source": [
        "##Model 11"
      ],
      "metadata": {
        "id": "VXS1qzy8VomP"
      }
    },
    {
      "cell_type": "code",
      "execution_count": null,
      "metadata": {
        "colab": {
          "base_uri": "https://localhost:8080/"
        },
        "outputId": "63fe93b2-ae62-4e3f-c404-338a8337bb68",
        "id": "IdrEQiB3VomW"
      },
      "outputs": [
        {
          "output_type": "stream",
          "name": "stdout",
          "text": [
            "Model: \"sequential_10\"\n",
            "_________________________________________________________________\n",
            " Layer (type)                Output Shape              Param #   \n",
            "=================================================================\n",
            " conv2d_19 (Conv2D)          (None, 27, 27, 16)        80        \n",
            "                                                                 \n",
            " activation_47 (Activation)  (None, 27, 27, 16)        0         \n",
            "                                                                 \n",
            " conv2d_20 (Conv2D)          (None, 26, 26, 32)        2080      \n",
            "                                                                 \n",
            " activation_48 (Activation)  (None, 26, 26, 32)        0         \n",
            "                                                                 \n",
            " max_pooling2d_11 (MaxPoolin  (None, 13, 13, 32)       0         \n",
            " g2D)                                                            \n",
            "                                                                 \n",
            " conv2d_21 (Conv2D)          (None, 12, 12, 64)        8256      \n",
            "                                                                 \n",
            " activation_49 (Activation)  (None, 12, 12, 64)        0         \n",
            "                                                                 \n",
            " max_pooling2d_12 (MaxPoolin  (None, 6, 6, 64)         0         \n",
            " g2D)                                                            \n",
            "                                                                 \n",
            " flatten_10 (Flatten)        (None, 2304)              0         \n",
            "                                                                 \n",
            " dense_28 (Dense)            (None, 64)                147520    \n",
            "                                                                 \n",
            " activation_50 (Activation)  (None, 64)                0         \n",
            "                                                                 \n",
            " dense_29 (Dense)            (None, 32)                2080      \n",
            "                                                                 \n",
            " activation_51 (Activation)  (None, 32)                0         \n",
            "                                                                 \n",
            " dense_30 (Dense)            (None, 16)                528       \n",
            "                                                                 \n",
            " activation_52 (Activation)  (None, 16)                0         \n",
            "                                                                 \n",
            " dense_31 (Dense)            (None, 10)                170       \n",
            "                                                                 \n",
            " activation_53 (Activation)  (None, 10)                0         \n",
            "                                                                 \n",
            "=================================================================\n",
            "Total params: 160,714\n",
            "Trainable params: 160,714\n",
            "Non-trainable params: 0\n",
            "_________________________________________________________________\n"
          ]
        }
      ],
      "source": [
        "#creat the model\n",
        "model_11 = Sequential()\n",
        "\n",
        "#conv layers\n",
        "\n",
        "##first CNN layer\n",
        "model_11.add(Conv2D(16,(2,2),input_shape = train_images.shape[1:]))\n",
        "model_11.add(Activation(\"relu\"))\n",
        "\n",
        "##second CNN layer\n",
        "model_11.add(Conv2D(32,(2,2)))\n",
        "model_11.add(Activation(\"relu\"))\n",
        "model_11.add(MaxPooling2D(pool_size=(2, 2)))\n",
        "\n",
        "##third CNN layer\n",
        "model_11.add(Conv2D(64,(2,2)))\n",
        "model_11.add(Activation(\"relu\"))\n",
        "model_11.add(MaxPooling2D(pool_size=(2, 2)))\n",
        "\n",
        "model_11.add(Flatten())\n",
        "\n",
        "#FC layers\n",
        "\n",
        "##first FC layer\n",
        "model_11.add(Dense(64))\n",
        "model_11.add(Activation(\"relu\"))\n",
        "\n",
        "##second FC layer\n",
        "model_11.add(Dense(32))\n",
        "model_11.add(Activation(\"relu\"))\n",
        "\n",
        "##third FC layer\n",
        "model_11.add(Dense(16))\n",
        "model_11.add(Activation(\"relu\"))\n",
        "\n",
        "# softmax classifier\n",
        "model_11.add(Dense(10))\n",
        "model_11.add(Activation(\"softmax\"))\n",
        "\n",
        "model_11.summary()"
      ]
    },
    {
      "cell_type": "code",
      "execution_count": null,
      "metadata": {
        "colab": {
          "base_uri": "https://localhost:8080/"
        },
        "outputId": "1bc57aec-d626-4016-855b-a39dc60e5ea5",
        "id": "-X82HcRgVomW"
      },
      "outputs": [
        {
          "output_type": "stream",
          "name": "stdout",
          "text": [
            "Epoch 1/15\n",
            "1875/1875 [==============================] - 14s 7ms/step - loss: 0.5615 - accuracy: 0.8207\n",
            "Epoch 2/15\n",
            "1875/1875 [==============================] - 14s 7ms/step - loss: 0.1285 - accuracy: 0.9603\n",
            "Epoch 3/15\n",
            "1875/1875 [==============================] - 14s 7ms/step - loss: 0.0921 - accuracy: 0.9716\n",
            "Epoch 4/15\n",
            "1875/1875 [==============================] - 14s 7ms/step - loss: 0.0709 - accuracy: 0.9772\n",
            "Epoch 5/15\n",
            "1875/1875 [==============================] - 14s 7ms/step - loss: 0.0593 - accuracy: 0.9809\n",
            "Epoch 6/15\n",
            "1875/1875 [==============================] - 14s 7ms/step - loss: 0.0489 - accuracy: 0.9846\n",
            "Epoch 7/15\n",
            "1875/1875 [==============================] - 14s 7ms/step - loss: 0.0426 - accuracy: 0.9865\n",
            "Epoch 8/15\n",
            "1875/1875 [==============================] - 14s 7ms/step - loss: 0.0372 - accuracy: 0.9880\n",
            "Epoch 9/15\n",
            "1875/1875 [==============================] - 14s 7ms/step - loss: 0.0313 - accuracy: 0.9903\n",
            "Epoch 10/15\n",
            "1875/1875 [==============================] - 14s 7ms/step - loss: 0.0265 - accuracy: 0.9914\n",
            "Epoch 11/15\n",
            "1875/1875 [==============================] - 14s 7ms/step - loss: 0.0240 - accuracy: 0.9922\n",
            "Epoch 12/15\n",
            "1875/1875 [==============================] - 14s 7ms/step - loss: 0.0209 - accuracy: 0.9933\n",
            "Epoch 13/15\n",
            "1875/1875 [==============================] - 14s 7ms/step - loss: 0.0181 - accuracy: 0.9941\n",
            "Epoch 14/15\n",
            "1875/1875 [==============================] - 14s 7ms/step - loss: 0.0161 - accuracy: 0.9945\n",
            "Epoch 15/15\n",
            "1875/1875 [==============================] - 14s 7ms/step - loss: 0.0145 - accuracy: 0.9954\n"
          ]
        }
      ],
      "source": [
        "model_11.compile(optimizer=tf.keras.optimizers.SGD(learning_rate=0.03), loss=\"categorical_crossentropy\", metrics=['accuracy'])\n",
        "history = model_11.fit(train_images,train_labels,epochs=15,batch_size=32)"
      ]
    },
    {
      "cell_type": "code",
      "source": [
        "loss, acc =model_11.evaluate(test_images , test_labels)\n",
        "print(\"loss =\",loss)\n",
        "print(\"accuracy =\",acc)"
      ],
      "metadata": {
        "colab": {
          "base_uri": "https://localhost:8080/"
        },
        "outputId": "c33fbe55-6bb0-4f94-eed6-6f2f60989330",
        "id": "Y3taBAzxVomX"
      },
      "execution_count": null,
      "outputs": [
        {
          "output_type": "stream",
          "name": "stdout",
          "text": [
            "313/313 [==============================] - 2s 5ms/step - loss: 0.0572 - accuracy: 0.9849\n",
            "loss = 0.057234711945056915\n",
            "accuracy = 0.9848999977111816\n"
          ]
        }
      ]
    },
    {
      "cell_type": "code",
      "source": [
        "def plot_losses(history):  \n",
        "    plt.plot(history.history['loss'])\n",
        "    plt.title('model loss')\n",
        "    plt.ylabel('loss')\n",
        "    plt.xlabel('epoch')\n",
        "    plt.legend(['train'], loc='upper left')\n",
        "    plt.show()\n",
        "plot_losses(history)"
      ],
      "metadata": {
        "colab": {
          "base_uri": "https://localhost:8080/",
          "height": 294
        },
        "outputId": "eb284681-bdb9-47ad-b88a-5f2d71fa57c7",
        "id": "HMmxdyUFVomX"
      },
      "execution_count": null,
      "outputs": [
        {
          "output_type": "display_data",
          "data": {
            "text/plain": [
              "<Figure size 432x288 with 1 Axes>"
            ],
            "image/png": "[encoded data removed]"
          },
          "metadata": {
            "needs_background": "light"
          }
        }
      ]
    },
    {
      "cell_type": "code",
      "source": [
        "def plot_accuracies(history):  \n",
        "    plt.plot(history.history['accuracy'], label='accuracy')\n",
        "    plt.title('model accuracy')\n",
        "    plt.xlabel('Epoch')\n",
        "    plt.ylabel('Accuracy')\n",
        "    plt.legend(loc='upper right')\n",
        "    plt.show()\n",
        "plot_accuracies(history)"
      ],
      "metadata": {
        "colab": {
          "base_uri": "https://localhost:8080/",
          "height": 294
        },
        "outputId": "a3da190a-35c9-4b4d-8075-e5584d4b1bda",
        "id": "11CMmgtSVomX"
      },
      "execution_count": null,
      "outputs": [
        {
          "output_type": "display_data",
          "data": {
            "text/plain": [
              "<Figure size 432x288 with 1 Axes>"
            ],
            "image/png": "[encoded data removed]"
          },
          "metadata": {
            "needs_background": "light"
          }
        }
      ]
    },
    {
      "cell_type": "markdown",
      "source": [
        "##Model 12"
      ],
      "metadata": {
        "id": "VP7KsMB6X1jw"
      }
    },
    {
      "cell_type": "code",
      "execution_count": null,
      "metadata": {
        "colab": {
          "base_uri": "https://localhost:8080/"
        },
        "outputId": "fc224280-a21f-456e-ebdc-ddbe07809ed8",
        "id": "7bQB_AYAX1j3"
      },
      "outputs": [
        {
          "output_type": "stream",
          "name": "stdout",
          "text": [
            "Model: \"sequential_11\"\n",
            "_________________________________________________________________\n",
            " Layer (type)                Output Shape              Param #   \n",
            "=================================================================\n",
            " conv2d_22 (Conv2D)          (None, 27, 27, 16)        80        \n",
            "                                                                 \n",
            " activation_54 (Activation)  (None, 27, 27, 16)        0         \n",
            "                                                                 \n",
            " conv2d_23 (Conv2D)          (None, 26, 26, 32)        2080      \n",
            "                                                                 \n",
            " activation_55 (Activation)  (None, 26, 26, 32)        0         \n",
            "                                                                 \n",
            " max_pooling2d_13 (MaxPoolin  (None, 13, 13, 32)       0         \n",
            " g2D)                                                            \n",
            "                                                                 \n",
            " conv2d_24 (Conv2D)          (None, 12, 12, 64)        8256      \n",
            "                                                                 \n",
            " activation_56 (Activation)  (None, 12, 12, 64)        0         \n",
            "                                                                 \n",
            " max_pooling2d_14 (MaxPoolin  (None, 6, 6, 64)         0         \n",
            " g2D)                                                            \n",
            "                                                                 \n",
            " flatten_11 (Flatten)        (None, 2304)              0         \n",
            "                                                                 \n",
            " dense_32 (Dense)            (None, 64)                147520    \n",
            "                                                                 \n",
            " activation_57 (Activation)  (None, 64)                0         \n",
            "                                                                 \n",
            " dense_33 (Dense)            (None, 32)                2080      \n",
            "                                                                 \n",
            " activation_58 (Activation)  (None, 32)                0         \n",
            "                                                                 \n",
            " dense_34 (Dense)            (None, 10)                330       \n",
            "                                                                 \n",
            " activation_59 (Activation)  (None, 10)                0         \n",
            "                                                                 \n",
            "=================================================================\n",
            "Total params: 160,346\n",
            "Trainable params: 160,346\n",
            "Non-trainable params: 0\n",
            "_________________________________________________________________\n"
          ]
        }
      ],
      "source": [
        "#creat the model\n",
        "model_12 = Sequential()\n",
        "\n",
        "#conv layers\n",
        "\n",
        "##first CNN layer\n",
        "model_12.add(Conv2D(16,(2,2),input_shape = train_images.shape[1:]))\n",
        "model_12.add(Activation(\"relu\"))\n",
        "\n",
        "##second CNN layer\n",
        "model_12.add(Conv2D(32,(2,2)))\n",
        "model_12.add(Activation(\"relu\"))\n",
        "model_12.add(MaxPooling2D(pool_size=(2, 2)))\n",
        "\n",
        "##third CNN layer\n",
        "model_12.add(Conv2D(64,(2,2)))\n",
        "model_12.add(Activation(\"relu\"))\n",
        "model_12.add(MaxPooling2D(pool_size=(2, 2)))\n",
        "\n",
        "model_12.add(Flatten())\n",
        "\n",
        "#FC layers\n",
        "\n",
        "##first FC layer\n",
        "model_12.add(Dense(64))\n",
        "model_12.add(Activation(\"relu\"))\n",
        "\n",
        "##second FC layer\n",
        "model_12.add(Dense(32))\n",
        "model_12.add(Activation(\"relu\"))\n",
        "\n",
        "# softmax classifier\n",
        "model_12.add(Dense(10))\n",
        "model_12.add(Activation(\"softmax\"))\n",
        "\n",
        "model_12.summary()"
      ]
    },
    {
      "cell_type": "code",
      "execution_count": null,
      "metadata": {
        "colab": {
          "base_uri": "https://localhost:8080/"
        },
        "outputId": "11b1f3aa-7515-4bc2-e383-87f94417d118",
        "id": "R2B66YgxX1j3"
      },
      "outputs": [
        {
          "output_type": "stream",
          "name": "stdout",
          "text": [
            "Epoch 1/15\n",
            "3000/3000 [==============================] - 19s 6ms/step - loss: 0.3888 - accuracy: 0.8787\n",
            "Epoch 2/15\n",
            "3000/3000 [==============================] - 18s 6ms/step - loss: 0.0963 - accuracy: 0.9700\n",
            "Epoch 3/15\n",
            "3000/3000 [==============================] - 18s 6ms/step - loss: 0.0683 - accuracy: 0.9787\n",
            "Epoch 4/15\n",
            "3000/3000 [==============================] - 18s 6ms/step - loss: 0.0529 - accuracy: 0.9832\n",
            "Epoch 5/15\n",
            "3000/3000 [==============================] - 18s 6ms/step - loss: 0.0424 - accuracy: 0.9868\n",
            "Epoch 6/15\n",
            "3000/3000 [==============================] - 18s 6ms/step - loss: 0.0354 - accuracy: 0.9888\n",
            "Epoch 7/15\n",
            "3000/3000 [==============================] - 18s 6ms/step - loss: 0.0293 - accuracy: 0.9904\n",
            "Epoch 8/15\n",
            "3000/3000 [==============================] - 18s 6ms/step - loss: 0.0243 - accuracy: 0.9921\n",
            "Epoch 9/15\n",
            "3000/3000 [==============================] - 18s 6ms/step - loss: 0.0205 - accuracy: 0.9934\n",
            "Epoch 10/15\n",
            "3000/3000 [==============================] - 18s 6ms/step - loss: 0.0170 - accuracy: 0.9947\n",
            "Epoch 11/15\n",
            "3000/3000 [==============================] - 18s 6ms/step - loss: 0.0139 - accuracy: 0.9954\n",
            "Epoch 12/15\n",
            "3000/3000 [==============================] - 18s 6ms/step - loss: 0.0111 - accuracy: 0.9966\n",
            "Epoch 13/15\n",
            "3000/3000 [==============================] - 18s 6ms/step - loss: 0.0111 - accuracy: 0.9964\n",
            "Epoch 14/15\n",
            "3000/3000 [==============================] - 18s 6ms/step - loss: 0.0080 - accuracy: 0.9975\n",
            "Epoch 15/15\n",
            "3000/3000 [==============================] - 18s 6ms/step - loss: 0.0070 - accuracy: 0.9978\n"
          ]
        }
      ],
      "source": [
        "model_12.compile(optimizer=tf.keras.optimizers.SGD(learning_rate=0.03), loss=\"categorical_crossentropy\", metrics=['accuracy'])\n",
        "history = model_12.fit(train_images,train_labels,epochs=15,batch_size=20)"
      ]
    },
    {
      "cell_type": "code",
      "source": [
        "loss, acc =model_12.evaluate(test_images , test_labels)\n",
        "print(\"loss =\",loss)\n",
        "print(\"accuracy =\",acc)"
      ],
      "metadata": {
        "colab": {
          "base_uri": "https://localhost:8080/"
        },
        "outputId": "66d700af-ccc3-4972-944d-65a4269a74b9",
        "id": "fGy_AttkX1j3"
      },
      "execution_count": null,
      "outputs": [
        {
          "output_type": "stream",
          "name": "stdout",
          "text": [
            "313/313 [==============================] - 2s 5ms/step - loss: 0.0620 - accuracy: 0.9879\n",
            "loss = 0.062002167105674744\n",
            "accuracy = 0.9879000186920166\n"
          ]
        }
      ]
    },
    {
      "cell_type": "code",
      "source": [
        "def plot_losses(history):  \n",
        "    plt.plot(history.history['loss'])\n",
        "    plt.title('model loss')\n",
        "    plt.ylabel('loss')\n",
        "    plt.xlabel('epoch')\n",
        "    plt.legend(['train'], loc='upper left')\n",
        "    plt.show()\n",
        "plot_losses(history)"
      ],
      "metadata": {
        "colab": {
          "base_uri": "https://localhost:8080/",
          "height": 294
        },
        "outputId": "464c2288-cd9b-4a17-deaf-6bf73b232469",
        "id": "HvFeeQs-X1j3"
      },
      "execution_count": null,
      "outputs": [
        {
          "output_type": "display_data",
          "data": {
            "text/plain": [
              "<Figure size 432x288 with 1 Axes>"
            ],
            "image/png": "[encoded data removed]"
          },
          "metadata": {
            "needs_background": "light"
          }
        }
      ]
    },
    {
      "cell_type": "code",
      "source": [
        "def plot_accuracies(history):  \n",
        "    plt.plot(history.history['accuracy'], label='accuracy')\n",
        "    plt.title('model accuracy')\n",
        "    plt.xlabel('Epoch')\n",
        "    plt.ylabel('Accuracy')\n",
        "    plt.legend(loc='upper left')\n",
        "    plt.show()\n",
        "plot_accuracies(history)"
      ],
      "metadata": {
        "colab": {
          "base_uri": "https://localhost:8080/",
          "height": 294
        },
        "outputId": "f79391c2-65fa-4346-f56f-6fea00821146",
        "id": "a2iyHNJcX1j4"
      },
      "execution_count": null,
      "outputs": [
        {
          "output_type": "display_data",
          "data": {
            "text/plain": [
              "<Figure size 432x288 with 1 Axes>"
            ],
            "image/png": "[encoded data removed]"
          },
          "metadata": {
            "needs_background": "light"
          }
        }
      ]
    },
    {
      "cell_type": "markdown",
      "source": [
        "##Model 13"
      ],
      "metadata": {
        "id": "PllDKwyvZ63Y"
      }
    },
    {
      "cell_type": "code",
      "execution_count": null,
      "metadata": {
        "colab": {
          "base_uri": "https://localhost:8080/"
        },
        "outputId": "d1d5588f-6c47-4433-e861-55a60d314b83",
        "id": "uG597QwBZ63f"
      },
      "outputs": [
        {
          "output_type": "stream",
          "name": "stdout",
          "text": [
            "Model: \"sequential_12\"\n",
            "_________________________________________________________________\n",
            " Layer (type)                Output Shape              Param #   \n",
            "=================================================================\n",
            " conv2d_25 (Conv2D)          (None, 27, 27, 16)        80        \n",
            "                                                                 \n",
            " activation_60 (Activation)  (None, 27, 27, 16)        0         \n",
            "                                                                 \n",
            " conv2d_26 (Conv2D)          (None, 26, 26, 32)        2080      \n",
            "                                                                 \n",
            " activation_61 (Activation)  (None, 26, 26, 32)        0         \n",
            "                                                                 \n",
            " max_pooling2d_15 (MaxPoolin  (None, 13, 13, 32)       0         \n",
            " g2D)                                                            \n",
            "                                                                 \n",
            " conv2d_27 (Conv2D)          (None, 12, 12, 64)        8256      \n",
            "                                                                 \n",
            " activation_62 (Activation)  (None, 12, 12, 64)        0         \n",
            "                                                                 \n",
            " max_pooling2d_16 (MaxPoolin  (None, 6, 6, 64)         0         \n",
            " g2D)                                                            \n",
            "                                                                 \n",
            " flatten_12 (Flatten)        (None, 2304)              0         \n",
            "                                                                 \n",
            " dense_35 (Dense)            (None, 64)                147520    \n",
            "                                                                 \n",
            " activation_63 (Activation)  (None, 64)                0         \n",
            "                                                                 \n",
            " dense_36 (Dense)            (None, 32)                2080      \n",
            "                                                                 \n",
            " activation_64 (Activation)  (None, 32)                0         \n",
            "                                                                 \n",
            " dense_37 (Dense)            (None, 10)                330       \n",
            "                                                                 \n",
            " activation_65 (Activation)  (None, 10)                0         \n",
            "                                                                 \n",
            "=================================================================\n",
            "Total params: 160,346\n",
            "Trainable params: 160,346\n",
            "Non-trainable params: 0\n",
            "_________________________________________________________________\n"
          ]
        }
      ],
      "source": [
        "#creat the model\n",
        "model_13 = Sequential()\n",
        "\n",
        "#conv layers\n",
        "\n",
        "##first CNN layer\n",
        "model_13.add(Conv2D(16,(2,2),input_shape = train_images.shape[1:]))\n",
        "model_13.add(Activation(\"relu\"))\n",
        "\n",
        "##second CNN layer\n",
        "model_13.add(Conv2D(32,(2,2)))\n",
        "model_13.add(Activation(\"relu\"))\n",
        "model_13.add(MaxPooling2D(pool_size=(2, 2)))\n",
        "\n",
        "##third CNN layer\n",
        "model_13.add(Conv2D(64,(2,2)))\n",
        "model_13.add(Activation(\"relu\"))\n",
        "model_13.add(MaxPooling2D(pool_size=(2, 2)))\n",
        "\n",
        "model_13.add(Flatten())\n",
        "\n",
        "#FC layers\n",
        "\n",
        "##first FC layer\n",
        "model_13.add(Dense(64))\n",
        "model_13.add(Activation(\"relu\"))\n",
        "\n",
        "##second FC layer\n",
        "model_13.add(Dense(32))\n",
        "model_13.add(Activation(\"relu\"))\n",
        "\n",
        "# softmax classifier\n",
        "model_13.add(Dense(10))\n",
        "model_13.add(Activation(\"softmax\"))\n",
        "\n",
        "model_13.summary()"
      ]
    },
    {
      "cell_type": "code",
      "execution_count": null,
      "metadata": {
        "colab": {
          "base_uri": "https://localhost:8080/"
        },
        "outputId": "a2c949f5-25dd-4e43-ccdf-5fba601f8793",
        "id": "2GAv-W73Z63f"
      },
      "outputs": [
        {
          "output_type": "stream",
          "name": "stdout",
          "text": [
            "Epoch 1/15\n",
            "938/938 [==============================] - 9s 8ms/step - loss: 0.7426 - accuracy: 0.7551\n",
            "Epoch 2/15\n",
            "938/938 [==============================] - 8s 8ms/step - loss: 0.1743 - accuracy: 0.9457\n",
            "Epoch 3/15\n",
            "938/938 [==============================] - 8s 8ms/step - loss: 0.1113 - accuracy: 0.9653\n",
            "Epoch 4/15\n",
            "938/938 [==============================] - 8s 8ms/step - loss: 0.0868 - accuracy: 0.9725\n",
            "Epoch 5/15\n",
            "938/938 [==============================] - 8s 8ms/step - loss: 0.0737 - accuracy: 0.9770\n",
            "Epoch 6/15\n",
            "938/938 [==============================] - 8s 8ms/step - loss: 0.0636 - accuracy: 0.9802\n",
            "Epoch 7/15\n",
            "938/938 [==============================] - 8s 8ms/step - loss: 0.0553 - accuracy: 0.9826\n",
            "Epoch 8/15\n",
            "938/938 [==============================] - 8s 8ms/step - loss: 0.0509 - accuracy: 0.9839\n",
            "Epoch 9/15\n",
            "938/938 [==============================] - 8s 8ms/step - loss: 0.0448 - accuracy: 0.9851\n",
            "Epoch 10/15\n",
            "938/938 [==============================] - 8s 8ms/step - loss: 0.0409 - accuracy: 0.9863\n",
            "Epoch 11/15\n",
            "938/938 [==============================] - 8s 8ms/step - loss: 0.0367 - accuracy: 0.9882\n",
            "Epoch 12/15\n",
            "938/938 [==============================] - 8s 8ms/step - loss: 0.0337 - accuracy: 0.9887\n",
            "Epoch 13/15\n",
            "938/938 [==============================] - 8s 8ms/step - loss: 0.0306 - accuracy: 0.9899\n",
            "Epoch 14/15\n",
            "938/938 [==============================] - 8s 8ms/step - loss: 0.0272 - accuracy: 0.9909\n",
            "Epoch 15/15\n",
            "938/938 [==============================] - 8s 8ms/step - loss: 0.0258 - accuracy: 0.9914\n"
          ]
        }
      ],
      "source": [
        "model_13.compile(optimizer=tf.keras.optimizers.SGD(learning_rate=0.03), loss=\"categorical_crossentropy\", metrics=['accuracy'])\n",
        "history = model_13.fit(train_images,train_labels,epochs=15,batch_size=64)"
      ]
    },
    {
      "cell_type": "code",
      "source": [
        "loss, acc =model_13.evaluate(test_images , test_labels)\n",
        "print(\"loss =\",loss)\n",
        "print(\"accuracy =\",acc)"
      ],
      "metadata": {
        "colab": {
          "base_uri": "https://localhost:8080/"
        },
        "outputId": "8997a103-6a89-437e-d6e4-739f89d5cca1",
        "id": "EPl4SLioZ63f"
      },
      "execution_count": null,
      "outputs": [
        {
          "output_type": "stream",
          "name": "stdout",
          "text": [
            "313/313 [==============================] - 2s 5ms/step - loss: 0.0824 - accuracy: 0.9744\n",
            "loss = 0.08243045210838318\n",
            "accuracy = 0.974399983882904\n"
          ]
        }
      ]
    },
    {
      "cell_type": "code",
      "source": [
        "def plot_losses(history):  \n",
        "    plt.plot(history.history['loss'])\n",
        "    plt.title('model loss')\n",
        "    plt.ylabel('loss')\n",
        "    plt.xlabel('epoch')\n",
        "    plt.legend(['train'], loc='upper left')\n",
        "    plt.show()\n",
        "plot_losses(history)"
      ],
      "metadata": {
        "colab": {
          "base_uri": "https://localhost:8080/",
          "height": 294
        },
        "outputId": "e3255101-a960-4d15-e222-002dff068500",
        "id": "Mm4gIHj6Z63g"
      },
      "execution_count": null,
      "outputs": [
        {
          "output_type": "display_data",
          "data": {
            "text/plain": [
              "<Figure size 432x288 with 1 Axes>"
            ],
            "image/png": "[encoded data removed]"
          },
          "metadata": {
            "needs_background": "light"
          }
        }
      ]
    },
    {
      "cell_type": "code",
      "source": [
        "def plot_accuracies(history):  \n",
        "    plt.plot(history.history['accuracy'], label='accuracy')\n",
        "    plt.title('model accuracy')\n",
        "    plt.xlabel('Epoch')\n",
        "    plt.ylabel('Accuracy')\n",
        "    plt.legend(loc='upper left')\n",
        "    plt.show()\n",
        "plot_accuracies(history)"
      ],
      "metadata": {
        "colab": {
          "base_uri": "https://localhost:8080/",
          "height": 294
        },
        "outputId": "35c27b2c-f7c8-4727-8ad1-5c7e6d0df844",
        "id": "6Uqq5L4hZ63g"
      },
      "execution_count": null,
      "outputs": [
        {
          "output_type": "display_data",
          "data": {
            "text/plain": [
              "<Figure size 432x288 with 1 Axes>"
            ],
            "image/png": "[encoded data removed]"
          },
          "metadata": {
            "needs_background": "light"
          }
        }
      ]
    },
    {
      "cell_type": "markdown",
      "source": [
        "##Model 14"
      ],
      "metadata": {
        "id": "W6M6N26jbJnR"
      }
    },
    {
      "cell_type": "code",
      "execution_count": null,
      "metadata": {
        "colab": {
          "base_uri": "https://localhost:8080/"
        },
        "outputId": "b8860411-4755-48fd-cee0-2f96fdea7377",
        "id": "sJ-NYZnEbJnX"
      },
      "outputs": [
        {
          "output_type": "stream",
          "name": "stdout",
          "text": [
            "Model: \"sequential_13\"\n",
            "_________________________________________________________________\n",
            " Layer (type)                Output Shape              Param #   \n",
            "=================================================================\n",
            " conv2d_28 (Conv2D)          (None, 27, 27, 16)        80        \n",
            "                                                                 \n",
            " activation_66 (Activation)  (None, 27, 27, 16)        0         \n",
            "                                                                 \n",
            " conv2d_29 (Conv2D)          (None, 26, 26, 32)        2080      \n",
            "                                                                 \n",
            " activation_67 (Activation)  (None, 26, 26, 32)        0         \n",
            "                                                                 \n",
            " max_pooling2d_17 (MaxPoolin  (None, 13, 13, 32)       0         \n",
            " g2D)                                                            \n",
            "                                                                 \n",
            " conv2d_30 (Conv2D)          (None, 12, 12, 64)        8256      \n",
            "                                                                 \n",
            " activation_68 (Activation)  (None, 12, 12, 64)        0         \n",
            "                                                                 \n",
            " max_pooling2d_18 (MaxPoolin  (None, 6, 6, 64)         0         \n",
            " g2D)                                                            \n",
            "                                                                 \n",
            " flatten_13 (Flatten)        (None, 2304)              0         \n",
            "                                                                 \n",
            " dense_38 (Dense)            (None, 64)                147520    \n",
            "                                                                 \n",
            " activation_69 (Activation)  (None, 64)                0         \n",
            "                                                                 \n",
            " dense_39 (Dense)            (None, 32)                2080      \n",
            "                                                                 \n",
            " activation_70 (Activation)  (None, 32)                0         \n",
            "                                                                 \n",
            " dense_40 (Dense)            (None, 10)                330       \n",
            "                                                                 \n",
            " activation_71 (Activation)  (None, 10)                0         \n",
            "                                                                 \n",
            "=================================================================\n",
            "Total params: 160,346\n",
            "Trainable params: 160,346\n",
            "Non-trainable params: 0\n",
            "_________________________________________________________________\n"
          ]
        }
      ],
      "source": [
        "#creat the model\n",
        "model_14 = Sequential()\n",
        "\n",
        "#conv layers\n",
        "\n",
        "##first CNN layer\n",
        "model_14.add(Conv2D(16,(2,2),input_shape = train_images.shape[1:]))\n",
        "model_14.add(Activation(\"sigmoid\"))\n",
        "\n",
        "##second CNN layer\n",
        "model_14.add(Conv2D(32,(2,2)))\n",
        "model_14.add(Activation(\"sigmoid\"))\n",
        "model_14.add(MaxPooling2D(pool_size=(2, 2)))\n",
        "\n",
        "##third CNN layer\n",
        "model_14.add(Conv2D(64,(2,2)))\n",
        "model_14.add(Activation(\"sigmoid\"))\n",
        "model_14.add(MaxPooling2D(pool_size=(2, 2)))\n",
        "\n",
        "model_14.add(Flatten())\n",
        "\n",
        "#FC layers\n",
        "\n",
        "##first FC layer\n",
        "model_14.add(Dense(64))\n",
        "model_14.add(Activation(\"sigmoid\"))\n",
        "\n",
        "##second FC layer\n",
        "model_14.add(Dense(32))\n",
        "model_14.add(Activation(\"sigmoid\"))\n",
        "\n",
        "# softmax classifier\n",
        "model_14.add(Dense(10))\n",
        "model_14.add(Activation(\"softmax\"))\n",
        "\n",
        "model_14.summary()"
      ]
    },
    {
      "cell_type": "code",
      "execution_count": null,
      "metadata": {
        "colab": {
          "base_uri": "https://localhost:8080/"
        },
        "outputId": "c9ec5dee-3166-4da7-d2e5-ea9be2d5d556",
        "id": "cJrxBwHZbJnY"
      },
      "outputs": [
        {
          "output_type": "stream",
          "name": "stdout",
          "text": [
            "Epoch 1/15\n",
            "3000/3000 [==============================] - 18s 6ms/step - loss: 2.3053 - accuracy: 0.1059\n",
            "Epoch 2/15\n",
            "3000/3000 [==============================] - 17s 6ms/step - loss: 2.3039 - accuracy: 0.1053\n",
            "Epoch 3/15\n",
            "3000/3000 [==============================] - 18s 6ms/step - loss: 2.3035 - accuracy: 0.1074\n",
            "Epoch 4/15\n",
            "3000/3000 [==============================] - 18s 6ms/step - loss: 2.3029 - accuracy: 0.1090\n",
            "Epoch 5/15\n",
            "3000/3000 [==============================] - 17s 6ms/step - loss: 2.3028 - accuracy: 0.1087\n",
            "Epoch 6/15\n",
            "3000/3000 [==============================] - 18s 6ms/step - loss: 2.3026 - accuracy: 0.1084\n",
            "Epoch 7/15\n",
            "3000/3000 [==============================] - 18s 6ms/step - loss: 2.3026 - accuracy: 0.1103\n",
            "Epoch 8/15\n",
            "3000/3000 [==============================] - 18s 6ms/step - loss: 2.3024 - accuracy: 0.1096\n",
            "Epoch 9/15\n",
            "3000/3000 [==============================] - 18s 6ms/step - loss: 2.3022 - accuracy: 0.1102\n",
            "Epoch 10/15\n",
            "3000/3000 [==============================] - 17s 6ms/step - loss: 2.3021 - accuracy: 0.1099\n",
            "Epoch 11/15\n",
            "3000/3000 [==============================] - 17s 6ms/step - loss: 2.3021 - accuracy: 0.1102\n",
            "Epoch 12/15\n",
            "3000/3000 [==============================] - 17s 6ms/step - loss: 2.3021 - accuracy: 0.1108\n",
            "Epoch 13/15\n",
            "3000/3000 [==============================] - 18s 6ms/step - loss: 2.3019 - accuracy: 0.1116\n",
            "Epoch 14/15\n",
            "3000/3000 [==============================] - 18s 6ms/step - loss: 2.3020 - accuracy: 0.1101\n",
            "Epoch 15/15\n",
            "3000/3000 [==============================] - 17s 6ms/step - loss: 2.3019 - accuracy: 0.1112\n"
          ]
        }
      ],
      "source": [
        "model_14.compile(optimizer=tf.keras.optimizers.SGD(learning_rate=0.03), loss=\"categorical_crossentropy\", metrics=['accuracy'])\n",
        "history = model_14.fit(train_images,train_labels,epochs=15,batch_size=20)"
      ]
    },
    {
      "cell_type": "code",
      "source": [
        "loss, acc =model_14.evaluate(test_images , test_labels)\n",
        "print(\"loss =\",loss)\n",
        "print(\"accuracy =\",acc)"
      ],
      "metadata": {
        "colab": {
          "base_uri": "https://localhost:8080/"
        },
        "outputId": "540303f9-ec59-4937-aba6-32fb1df6fc78",
        "id": "SoU0igeobJnY"
      },
      "execution_count": null,
      "outputs": [
        {
          "output_type": "stream",
          "name": "stdout",
          "text": [
            "313/313 [==============================] - 2s 4ms/step - loss: 2.3012 - accuracy: 0.1135\n",
            "loss = 2.3012008666992188\n",
            "accuracy = 0.11349999904632568\n"
          ]
        }
      ]
    },
    {
      "cell_type": "code",
      "source": [
        "def plot_losses(history):  \n",
        "    plt.plot(history.history['loss'])\n",
        "    plt.title('model loss')\n",
        "    plt.ylabel('loss')\n",
        "    plt.xlabel('epoch')\n",
        "    plt.legend(['train'], loc='upper left')\n",
        "    plt.show()\n",
        "plot_losses(history)"
      ],
      "metadata": {
        "colab": {
          "base_uri": "https://localhost:8080/",
          "height": 294
        },
        "outputId": "7aa4458f-d748-491d-e7ce-adbf4b616913",
        "id": "GLC_KdAHbJnY"
      },
      "execution_count": null,
      "outputs": [
        {
          "output_type": "display_data",
          "data": {
            "text/plain": [
              "<Figure size 432x288 with 1 Axes>"
            ],
            "image/png": "[encoded data removed]"
          },
          "metadata": {
            "needs_background": "light"
          }
        }
      ]
    },
    {
      "cell_type": "code",
      "source": [
        "def plot_accuracies(history):  \n",
        "    plt.plot(history.history['accuracy'], label='accuracy')\n",
        "    plt.title('model accuracy')\n",
        "    plt.xlabel('Epoch')\n",
        "    plt.ylabel('Accuracy')\n",
        "    plt.legend(loc='upper left')\n",
        "    plt.show()\n",
        "plot_accuracies(history)"
      ],
      "metadata": {
        "colab": {
          "base_uri": "https://localhost:8080/",
          "height": 294
        },
        "outputId": "aa3474fc-ad04-46b7-efa9-cd03f87d9597",
        "id": "SRQQ0tpwbJnY"
      },
      "execution_count": null,
      "outputs": [
        {
          "output_type": "display_data",
          "data": {
            "text/plain": [
              "<Figure size 432x288 with 1 Axes>"
            ],
            "image/png": "[encoded data removed]"
          },
          "metadata": {
            "needs_background": "light"
          }
        }
      ]
    },
    {
      "cell_type": "markdown",
      "source": [
        "##Model 15"
      ],
      "metadata": {
        "id": "GOVMhSiseR-a"
      }
    },
    {
      "cell_type": "code",
      "execution_count": null,
      "metadata": {
        "colab": {
          "base_uri": "https://localhost:8080/"
        },
        "outputId": "6aa5f614-44dd-46f7-83f2-436f086f94bd",
        "id": "qP8440ySeR-g"
      },
      "outputs": [
        {
          "output_type": "stream",
          "name": "stdout",
          "text": [
            "Model: \"sequential_14\"\n",
            "_________________________________________________________________\n",
            " Layer (type)                Output Shape              Param #   \n",
            "=================================================================\n",
            " conv2d_31 (Conv2D)          (None, 27, 27, 16)        80        \n",
            "                                                                 \n",
            " activation_72 (Activation)  (None, 27, 27, 16)        0         \n",
            "                                                                 \n",
            " conv2d_32 (Conv2D)          (None, 26, 26, 32)        2080      \n",
            "                                                                 \n",
            " activation_73 (Activation)  (None, 26, 26, 32)        0         \n",
            "                                                                 \n",
            " max_pooling2d_19 (MaxPoolin  (None, 13, 13, 32)       0         \n",
            " g2D)                                                            \n",
            "                                                                 \n",
            " conv2d_33 (Conv2D)          (None, 12, 12, 64)        8256      \n",
            "                                                                 \n",
            " activation_74 (Activation)  (None, 12, 12, 64)        0         \n",
            "                                                                 \n",
            " max_pooling2d_20 (MaxPoolin  (None, 6, 6, 64)         0         \n",
            " g2D)                                                            \n",
            "                                                                 \n",
            " flatten_14 (Flatten)        (None, 2304)              0         \n",
            "                                                                 \n",
            " dense_41 (Dense)            (None, 64)                147520    \n",
            "                                                                 \n",
            " activation_75 (Activation)  (None, 64)                0         \n",
            "                                                                 \n",
            " dense_42 (Dense)            (None, 32)                2080      \n",
            "                                                                 \n",
            " activation_76 (Activation)  (None, 32)                0         \n",
            "                                                                 \n",
            " dense_43 (Dense)            (None, 10)                330       \n",
            "                                                                 \n",
            " activation_77 (Activation)  (None, 10)                0         \n",
            "                                                                 \n",
            "=================================================================\n",
            "Total params: 160,346\n",
            "Trainable params: 160,346\n",
            "Non-trainable params: 0\n",
            "_________________________________________________________________\n"
          ]
        }
      ],
      "source": [
        "#creat the model\n",
        "model_15 = Sequential()\n",
        "\n",
        "#conv layers\n",
        "\n",
        "##first CNN layer\n",
        "model_15.add(Conv2D(16,(2,2),input_shape = train_images.shape[1:]))\n",
        "model_15.add(Activation(\"tanh\"))\n",
        "\n",
        "##second CNN layer\n",
        "model_15.add(Conv2D(32,(2,2)))\n",
        "model_15.add(Activation(\"tanh\"))\n",
        "model_15.add(MaxPooling2D(pool_size=(2, 2)))\n",
        "\n",
        "##third CNN layer\n",
        "model_15.add(Conv2D(64,(2,2)))\n",
        "model_15.add(Activation(\"tanh\"))\n",
        "model_15.add(MaxPooling2D(pool_size=(2, 2)))\n",
        "\n",
        "model_15.add(Flatten())\n",
        "\n",
        "#FC layers\n",
        "\n",
        "##first FC layer\n",
        "model_15.add(Dense(64))\n",
        "model_15.add(Activation(\"tanh\"))\n",
        "\n",
        "##second FC layer\n",
        "model_15.add(Dense(32))\n",
        "model_15.add(Activation(\"tanh\"))\n",
        "\n",
        "# softmax classifier\n",
        "model_15.add(Dense(10))\n",
        "model_15.add(Activation(\"softmax\"))\n",
        "\n",
        "model_15.summary()"
      ]
    },
    {
      "cell_type": "code",
      "execution_count": null,
      "metadata": {
        "colab": {
          "base_uri": "https://localhost:8080/"
        },
        "outputId": "15f96955-d6a4-423f-c27c-aea7b46b5329",
        "id": "_7S9Whc7eR-h"
      },
      "outputs": [
        {
          "output_type": "stream",
          "name": "stdout",
          "text": [
            "Epoch 1/15\n",
            "3000/3000 [==============================] - 18s 6ms/step - loss: 0.3274 - accuracy: 0.9060\n",
            "Epoch 2/15\n",
            "3000/3000 [==============================] - 18s 6ms/step - loss: 0.0969 - accuracy: 0.9720\n",
            "Epoch 3/15\n",
            "3000/3000 [==============================] - 17s 6ms/step - loss: 0.0634 - accuracy: 0.9821\n",
            "Epoch 4/15\n",
            "3000/3000 [==============================] - 17s 6ms/step - loss: 0.0472 - accuracy: 0.9866\n",
            "Epoch 5/15\n",
            "3000/3000 [==============================] - 17s 6ms/step - loss: 0.0364 - accuracy: 0.9895\n",
            "Epoch 6/15\n",
            "3000/3000 [==============================] - 17s 6ms/step - loss: 0.0281 - accuracy: 0.9923\n",
            "Epoch 7/15\n",
            "3000/3000 [==============================] - 17s 6ms/step - loss: 0.0229 - accuracy: 0.9937\n",
            "Epoch 8/15\n",
            "3000/3000 [==============================] - 17s 6ms/step - loss: 0.0182 - accuracy: 0.9953\n",
            "Epoch 9/15\n",
            "3000/3000 [==============================] - 17s 6ms/step - loss: 0.0141 - accuracy: 0.9966\n",
            "Epoch 10/15\n",
            "3000/3000 [==============================] - 18s 6ms/step - loss: 0.0112 - accuracy: 0.9976\n",
            "Epoch 11/15\n",
            "3000/3000 [==============================] - 17s 6ms/step - loss: 0.0093 - accuracy: 0.9981\n",
            "Epoch 12/15\n",
            "3000/3000 [==============================] - 17s 6ms/step - loss: 0.0072 - accuracy: 0.9989\n",
            "Epoch 13/15\n",
            "3000/3000 [==============================] - 18s 6ms/step - loss: 0.0055 - accuracy: 0.9995\n",
            "Epoch 14/15\n",
            "3000/3000 [==============================] - 18s 6ms/step - loss: 0.0048 - accuracy: 0.9995\n",
            "Epoch 15/15\n",
            "3000/3000 [==============================] - 18s 6ms/step - loss: 0.0038 - accuracy: 0.9997\n"
          ]
        }
      ],
      "source": [
        "model_15.compile(optimizer=tf.keras.optimizers.SGD(learning_rate=0.03), loss=\"categorical_crossentropy\", metrics=['accuracy'])\n",
        "history = model_15.fit(train_images,train_labels,epochs=15,batch_size=20)"
      ]
    },
    {
      "cell_type": "code",
      "source": [
        "loss, acc =model_15.evaluate(test_images , test_labels)\n",
        "print(\"loss =\",loss)\n",
        "print(\"accuracy =\",acc)"
      ],
      "metadata": {
        "colab": {
          "base_uri": "https://localhost:8080/"
        },
        "id": "8WslIPZ5eR-h",
        "outputId": "ffa25c64-7e68-4ecb-dab9-c3d0e9d25785"
      },
      "execution_count": null,
      "outputs": [
        {
          "output_type": "stream",
          "name": "stdout",
          "text": [
            "313/313 [==============================] - 2s 5ms/step - loss: 0.0379 - accuracy: 0.9886\n",
            "loss = 0.037872325628995895\n",
            "accuracy = 0.9886000156402588\n"
          ]
        }
      ]
    },
    {
      "cell_type": "code",
      "source": [
        "def plot_losses(history):  \n",
        "    plt.plot(history.history['loss'])\n",
        "    plt.title('model loss')\n",
        "    plt.ylabel('loss')\n",
        "    plt.xlabel('epoch')\n",
        "    plt.legend(['train'], loc='upper left')\n",
        "    plt.show()\n",
        "plot_losses(history)"
      ],
      "metadata": {
        "colab": {
          "base_uri": "https://localhost:8080/",
          "height": 294
        },
        "id": "jNf87QZ7eR-h",
        "outputId": "95b19e71-0545-4eb2-c6a0-3dc61369cf7a"
      },
      "execution_count": null,
      "outputs": [
        {
          "output_type": "display_data",
          "data": {
            "text/plain": [
              "<Figure size 432x288 with 1 Axes>"
            ],
            "image/png": "[encoded data removed]"
          },
          "metadata": {
            "needs_background": "light"
          }
        }
      ]
    },
    {
      "cell_type": "code",
      "source": [
        "def plot_accuracies(history):  \n",
        "    plt.plot(history.history['accuracy'], label='accuracy')\n",
        "    plt.title('model accuracy')\n",
        "    plt.xlabel('Epoch')\n",
        "    plt.ylabel('Accuracy')\n",
        "    plt.legend(loc='upper left')\n",
        "    plt.show()\n",
        "plot_accuracies(history)"
      ],
      "metadata": {
        "colab": {
          "base_uri": "https://localhost:8080/",
          "height": 294
        },
        "id": "c-9vNPk7eR-h",
        "outputId": "5b8b529f-e1d9-47cb-f482-bca987b4aeca"
      },
      "execution_count": null,
      "outputs": [
        {
          "output_type": "display_data",
          "data": {
            "text/plain": [
              "<Figure size 432x288 with 1 Axes>"
            ],
            "image/png": "[encoded data removed]"
          },
          "metadata": {
            "needs_background": "light"
          }
        }
      ]
    },
    {
      "cell_type": "markdown",
      "source": [
        "##Model 16"
      ],
      "metadata": {
        "id": "5qBqCflThZqb"
      }
    },
    {
      "cell_type": "code",
      "execution_count": null,
      "metadata": {
        "colab": {
          "base_uri": "https://localhost:8080/"
        },
        "outputId": "1ccef8f6-76e1-4455-ff7b-6079074d5def",
        "id": "2PIQ9yB8hZqh"
      },
      "outputs": [
        {
          "output_type": "stream",
          "name": "stdout",
          "text": [
            "Model: \"sequential_15\"\n",
            "_________________________________________________________________\n",
            " Layer (type)                Output Shape              Param #   \n",
            "=================================================================\n",
            " conv2d_34 (Conv2D)          (None, 27, 27, 16)        80        \n",
            "                                                                 \n",
            " activation_78 (Activation)  (None, 27, 27, 16)        0         \n",
            "                                                                 \n",
            " conv2d_35 (Conv2D)          (None, 26, 26, 32)        2080      \n",
            "                                                                 \n",
            " activation_79 (Activation)  (None, 26, 26, 32)        0         \n",
            "                                                                 \n",
            " max_pooling2d_21 (MaxPoolin  (None, 13, 13, 32)       0         \n",
            " g2D)                                                            \n",
            "                                                                 \n",
            " conv2d_36 (Conv2D)          (None, 12, 12, 64)        8256      \n",
            "                                                                 \n",
            " activation_80 (Activation)  (None, 12, 12, 64)        0         \n",
            "                                                                 \n",
            " max_pooling2d_22 (MaxPoolin  (None, 6, 6, 64)         0         \n",
            " g2D)                                                            \n",
            "                                                                 \n",
            " flatten_15 (Flatten)        (None, 2304)              0         \n",
            "                                                                 \n",
            " dense_44 (Dense)            (None, 64)                147520    \n",
            "                                                                 \n",
            " activation_81 (Activation)  (None, 64)                0         \n",
            "                                                                 \n",
            " dense_45 (Dense)            (None, 32)                2080      \n",
            "                                                                 \n",
            " activation_82 (Activation)  (None, 32)                0         \n",
            "                                                                 \n",
            " dense_46 (Dense)            (None, 10)                330       \n",
            "                                                                 \n",
            " activation_83 (Activation)  (None, 10)                0         \n",
            "                                                                 \n",
            "=================================================================\n",
            "Total params: 160,346\n",
            "Trainable params: 160,346\n",
            "Non-trainable params: 0\n",
            "_________________________________________________________________\n"
          ]
        }
      ],
      "source": [
        "#creat the model\n",
        "model_16 = Sequential()\n",
        "\n",
        "#conv layers\n",
        "\n",
        "##first CNN layer\n",
        "model_16.add(Conv2D(16,(2,2),input_shape = train_images.shape[1:]))\n",
        "model_16.add(Activation(\"softsign\"))\n",
        "\n",
        "##second CNN layer\n",
        "model_16.add(Conv2D(32,(2,2)))\n",
        "model_16.add(Activation(\"softsign\"))\n",
        "model_16.add(MaxPooling2D(pool_size=(2, 2)))\n",
        "\n",
        "##third CNN layer\n",
        "model_16.add(Conv2D(64,(2,2)))\n",
        "model_16.add(Activation(\"softsign\"))\n",
        "model_16.add(MaxPooling2D(pool_size=(2, 2)))\n",
        "\n",
        "model_16.add(Flatten())\n",
        "\n",
        "#FC layers\n",
        "\n",
        "##first FC layer\n",
        "model_16.add(Dense(64))\n",
        "model_16.add(Activation(\"softsign\"))\n",
        "\n",
        "##second FC layer\n",
        "model_16.add(Dense(32))\n",
        "model_16.add(Activation(\"softsign\"))\n",
        "\n",
        "# softmax classifier\n",
        "model_16.add(Dense(10))\n",
        "model_16.add(Activation(\"softmax\"))\n",
        "\n",
        "model_16.summary()"
      ]
    },
    {
      "cell_type": "code",
      "execution_count": null,
      "metadata": {
        "colab": {
          "base_uri": "https://localhost:8080/"
        },
        "outputId": "9be4648a-ebc3-4a03-ceb8-865dd745e390",
        "id": "AIrMwZ8khZqi"
      },
      "outputs": [
        {
          "output_type": "stream",
          "name": "stdout",
          "text": [
            "Epoch 1/15\n",
            "3000/3000 [==============================] - 19s 6ms/step - loss: 0.4959 - accuracy: 0.8732\n",
            "Epoch 2/15\n",
            "3000/3000 [==============================] - 19s 6ms/step - loss: 0.1526 - accuracy: 0.9565\n",
            "Epoch 3/15\n",
            "3000/3000 [==============================] - 19s 6ms/step - loss: 0.1037 - accuracy: 0.9700\n",
            "Epoch 4/15\n",
            "3000/3000 [==============================] - 19s 6ms/step - loss: 0.0795 - accuracy: 0.9772\n",
            "Epoch 5/15\n",
            "3000/3000 [==============================] - 19s 6ms/step - loss: 0.0631 - accuracy: 0.9821\n",
            "Epoch 6/15\n",
            "3000/3000 [==============================] - 19s 6ms/step - loss: 0.0528 - accuracy: 0.9850\n",
            "Epoch 7/15\n",
            "3000/3000 [==============================] - 19s 6ms/step - loss: 0.0447 - accuracy: 0.9874\n",
            "Epoch 8/15\n",
            "3000/3000 [==============================] - 19s 6ms/step - loss: 0.0391 - accuracy: 0.9890\n",
            "Epoch 9/15\n",
            "3000/3000 [==============================] - 19s 6ms/step - loss: 0.0337 - accuracy: 0.9907\n",
            "Epoch 10/15\n",
            "3000/3000 [==============================] - 19s 6ms/step - loss: 0.0295 - accuracy: 0.9922\n",
            "Epoch 11/15\n",
            "3000/3000 [==============================] - 19s 6ms/step - loss: 0.0261 - accuracy: 0.9930\n",
            "Epoch 12/15\n",
            "3000/3000 [==============================] - 19s 6ms/step - loss: 0.0234 - accuracy: 0.9941\n",
            "Epoch 13/15\n",
            "3000/3000 [==============================] - 19s 6ms/step - loss: 0.0205 - accuracy: 0.9949\n",
            "Epoch 14/15\n",
            "3000/3000 [==============================] - 19s 6ms/step - loss: 0.0181 - accuracy: 0.9958\n",
            "Epoch 15/15\n",
            "3000/3000 [==============================] - 18s 6ms/step - loss: 0.0163 - accuracy: 0.9963\n"
          ]
        }
      ],
      "source": [
        "model_16.compile(optimizer=tf.keras.optimizers.SGD(learning_rate=0.03), loss=\"categorical_crossentropy\", metrics=['accuracy'])\n",
        "history = model_16.fit(train_images,train_labels,epochs=15,batch_size=20)"
      ]
    },
    {
      "cell_type": "code",
      "source": [
        "loss, acc =model_16.evaluate(test_images , test_labels)\n",
        "print(\"loss =\",loss)\n",
        "print(\"accuracy =\",acc)"
      ],
      "metadata": {
        "colab": {
          "base_uri": "https://localhost:8080/"
        },
        "outputId": "d6762371-bbbc-44f8-f7a5-ffd6f67066eb",
        "id": "P9VRgIqrhZqi"
      },
      "execution_count": null,
      "outputs": [
        {
          "output_type": "stream",
          "name": "stdout",
          "text": [
            "313/313 [==============================] - 2s 5ms/step - loss: 0.0381 - accuracy: 0.9885\n",
            "loss = 0.03807767480611801\n",
            "accuracy = 0.9884999990463257\n"
          ]
        }
      ]
    },
    {
      "cell_type": "code",
      "source": [
        "def plot_losses(history):  \n",
        "    plt.plot(history.history['loss'])\n",
        "    plt.title('model loss')\n",
        "    plt.ylabel('loss')\n",
        "    plt.xlabel('epoch')\n",
        "    plt.legend(['train'], loc='upper left')\n",
        "    plt.show()\n",
        "plot_losses(history)"
      ],
      "metadata": {
        "colab": {
          "base_uri": "https://localhost:8080/",
          "height": 294
        },
        "outputId": "826e5b35-d127-4523-e484-cbe31ba3e00b",
        "id": "6EjaqNbjhZqi"
      },
      "execution_count": null,
      "outputs": [
        {
          "output_type": "display_data",
          "data": {
            "text/plain": [
              "<Figure size 432x288 with 1 Axes>"
            ],
            "image/png": "[encoded data removed]"
          },
          "metadata": {
            "needs_background": "light"
          }
        }
      ]
    },
    {
      "cell_type": "code",
      "source": [
        "def plot_accuracies(history):  \n",
        "    plt.plot(history.history['accuracy'], label='accuracy')\n",
        "    plt.title('model accuracy')\n",
        "    plt.xlabel('Epoch')\n",
        "    plt.ylabel('Accuracy')\n",
        "    plt.legend(loc='upper left')\n",
        "    plt.show()\n",
        "plot_accuracies(history)"
      ],
      "metadata": {
        "colab": {
          "base_uri": "https://localhost:8080/",
          "height": 294
        },
        "outputId": "939fbfe0-ad32-4775-a895-b68e63015808",
        "id": "ilhwIAzrhZqi"
      },
      "execution_count": null,
      "outputs": [
        {
          "output_type": "display_data",
          "data": {
            "text/plain": [
              "<Figure size 432x288 with 1 Axes>"
            ],
            "image/png": "[encoded data removed]"
          },
          "metadata": {
            "needs_background": "light"
          }
        }
      ]
    },
    {
      "cell_type": "markdown",
      "source": [
        "##Model 17"
      ],
      "metadata": {
        "id": "D4RIAzNDl0hl"
      }
    },
    {
      "cell_type": "code",
      "execution_count": null,
      "metadata": {
        "colab": {
          "base_uri": "https://localhost:8080/"
        },
        "outputId": "157f037a-a7da-4e71-a8cf-2f30f6ebd4b7",
        "id": "61lmVh0El0hr"
      },
      "outputs": [
        {
          "output_type": "stream",
          "name": "stdout",
          "text": [
            "Model: \"sequential_19\"\n",
            "_________________________________________________________________\n",
            " Layer (type)                Output Shape              Param #   \n",
            "=================================================================\n",
            " conv2d_46 (Conv2D)          (None, 27, 27, 16)        80        \n",
            "                                                                 \n",
            " activation_102 (Activation)  (None, 27, 27, 16)       0         \n",
            "                                                                 \n",
            " conv2d_47 (Conv2D)          (None, 26, 26, 32)        2080      \n",
            "                                                                 \n",
            " activation_103 (Activation)  (None, 26, 26, 32)       0         \n",
            "                                                                 \n",
            " max_pooling2d_29 (MaxPoolin  (None, 13, 13, 32)       0         \n",
            " g2D)                                                            \n",
            "                                                                 \n",
            " conv2d_48 (Conv2D)          (None, 12, 12, 64)        8256      \n",
            "                                                                 \n",
            " activation_104 (Activation)  (None, 12, 12, 64)       0         \n",
            "                                                                 \n",
            " max_pooling2d_30 (MaxPoolin  (None, 6, 6, 64)         0         \n",
            " g2D)                                                            \n",
            "                                                                 \n",
            " flatten_19 (Flatten)        (None, 2304)              0         \n",
            "                                                                 \n",
            " dense_56 (Dense)            (None, 64)                147520    \n",
            "                                                                 \n",
            " activation_105 (Activation)  (None, 64)               0         \n",
            "                                                                 \n",
            " dense_57 (Dense)            (None, 32)                2080      \n",
            "                                                                 \n",
            " activation_106 (Activation)  (None, 32)               0         \n",
            "                                                                 \n",
            " dense_58 (Dense)            (None, 10)                330       \n",
            "                                                                 \n",
            " activation_107 (Activation)  (None, 10)               0         \n",
            "                                                                 \n",
            "=================================================================\n",
            "Total params: 160,346\n",
            "Trainable params: 160,346\n",
            "Non-trainable params: 0\n",
            "_________________________________________________________________\n"
          ]
        }
      ],
      "source": [
        "#creat the model\n",
        "model_17 = Sequential()\n",
        "\n",
        "#conv layers\n",
        "\n",
        "##first CNN layer\n",
        "model_17.add(Conv2D(16,(2,2),input_shape = train_images.shape[1:]))\n",
        "model_17.add(Activation(\"tanh\"))\n",
        "\n",
        "##second CNN layer\n",
        "model_17.add(Conv2D(32,(2,2)))\n",
        "model_17.add(Activation(\"tanh\"))\n",
        "model_17.add(MaxPooling2D(pool_size=(2, 2)))\n",
        "\n",
        "##third CNN layer\n",
        "model_17.add(Conv2D(64,(2,2)))\n",
        "model_17.add(Activation(\"tanh\"))\n",
        "model_17.add(MaxPooling2D(pool_size=(2, 2)))\n",
        "\n",
        "model_17.add(Flatten())\n",
        "\n",
        "#FC layers\n",
        "\n",
        "##first FC layer\n",
        "model_17.add(Dense(64))\n",
        "model_17.add(Activation(\"tanh\"))\n",
        "\n",
        "##second FC layer\n",
        "model_17.add(Dense(32))\n",
        "model_17.add(Activation(\"tanh\"))\n",
        "\n",
        "# softmax classifier\n",
        "model_17.add(Dense(10))\n",
        "model_17.add(Activation(\"softmax\"))\n",
        "\n",
        "model_17.summary()"
      ]
    },
    {
      "cell_type": "code",
      "execution_count": null,
      "metadata": {
        "colab": {
          "base_uri": "https://localhost:8080/"
        },
        "outputId": "7d302c88-6b06-4b6c-b7e5-a8e8ae6ffeb8",
        "id": "frt4D8Cbl0hr"
      },
      "outputs": [
        {
          "output_type": "stream",
          "name": "stdout",
          "text": [
            "Epoch 1/15\n",
            "3000/3000 [==============================] - 19s 6ms/step - loss: 0.1565 - accuracy: 0.9556\n",
            "Epoch 2/15\n",
            "3000/3000 [==============================] - 18s 6ms/step - loss: 0.0598 - accuracy: 0.9819\n",
            "Epoch 3/15\n",
            "3000/3000 [==============================] - 18s 6ms/step - loss: 0.0465 - accuracy: 0.9857\n",
            "Epoch 4/15\n",
            "3000/3000 [==============================] - 18s 6ms/step - loss: 0.0375 - accuracy: 0.9882\n",
            "Epoch 5/15\n",
            "3000/3000 [==============================] - 19s 6ms/step - loss: 0.0328 - accuracy: 0.9899\n",
            "Epoch 6/15\n",
            "3000/3000 [==============================] - 19s 6ms/step - loss: 0.0339 - accuracy: 0.9889\n",
            "Epoch 7/15\n",
            "3000/3000 [==============================] - 19s 6ms/step - loss: 0.0282 - accuracy: 0.9908\n",
            "Epoch 8/15\n",
            "3000/3000 [==============================] - 18s 6ms/step - loss: 0.0238 - accuracy: 0.9924\n",
            "Epoch 9/15\n",
            "3000/3000 [==============================] - 19s 6ms/step - loss: 0.0239 - accuracy: 0.9922\n",
            "Epoch 10/15\n",
            "3000/3000 [==============================] - 19s 6ms/step - loss: 0.0238 - accuracy: 0.9925\n",
            "Epoch 11/15\n",
            "3000/3000 [==============================] - 20s 7ms/step - loss: 0.0209 - accuracy: 0.9931\n",
            "Epoch 12/15\n",
            "3000/3000 [==============================] - 19s 6ms/step - loss: 0.0211 - accuracy: 0.9931\n",
            "Epoch 13/15\n",
            "3000/3000 [==============================] - 19s 6ms/step - loss: 0.0222 - accuracy: 0.9927\n",
            "Epoch 14/15\n",
            "3000/3000 [==============================] - 19s 6ms/step - loss: 0.0195 - accuracy: 0.9931\n",
            "Epoch 15/15\n",
            "3000/3000 [==============================] - 19s 6ms/step - loss: 0.0196 - accuracy: 0.9938\n"
          ]
        }
      ],
      "source": [
        "model_17.compile(optimizer='adam', loss=\"categorical_crossentropy\", metrics=['accuracy'])\n",
        "history = model_17.fit(train_images,train_labels,epochs=15,batch_size=20)"
      ]
    },
    {
      "cell_type": "code",
      "source": [
        "loss, acc =model_17.evaluate(test_images , test_labels)\n",
        "print(\"loss =\",loss)\n",
        "print(\"accuracy =\",acc)"
      ],
      "metadata": {
        "id": "XfdOeR9Il0hs",
        "colab": {
          "base_uri": "https://localhost:8080/"
        },
        "outputId": "229dfd69-3d10-47a4-b07d-b4d91c41a4d0"
      },
      "execution_count": null,
      "outputs": [
        {
          "output_type": "stream",
          "name": "stdout",
          "text": [
            "313/313 [==============================] - 2s 5ms/step - loss: 0.0553 - accuracy: 0.9851\n",
            "loss = 0.05533182993531227\n",
            "accuracy = 0.9850999712944031\n"
          ]
        }
      ]
    },
    {
      "cell_type": "code",
      "source": [
        "def plot_losses(history):  \n",
        "    plt.plot(history.history['loss'])\n",
        "    plt.title('model loss')\n",
        "    plt.ylabel('loss')\n",
        "    plt.xlabel('epoch')\n",
        "    plt.legend(['train'], loc='upper left')\n",
        "    plt.show()\n",
        "plot_losses(history)"
      ],
      "metadata": {
        "id": "bB-ZXTkll0hs",
        "colab": {
          "base_uri": "https://localhost:8080/",
          "height": 294
        },
        "outputId": "7307a807-87f2-4d08-f1ef-6f9bca54709e"
      },
      "execution_count": null,
      "outputs": [
        {
          "output_type": "display_data",
          "data": {
            "text/plain": [
              "<Figure size 432x288 with 1 Axes>"
            ],
            "image/png": "[encoded data removed]"
          },
          "metadata": {
            "needs_background": "light"
          }
        }
      ]
    },
    {
      "cell_type": "code",
      "source": [
        "def plot_accuracies(history):  \n",
        "    plt.plot(history.history['accuracy'], label='accuracy')\n",
        "    plt.title('model accuracy')\n",
        "    plt.xlabel('Epoch')\n",
        "    plt.ylabel('Accuracy')\n",
        "    plt.legend(loc='upper left')\n",
        "    plt.show()\n",
        "plot_accuracies(history)"
      ],
      "metadata": {
        "id": "uwyo6qAEl0hs",
        "colab": {
          "base_uri": "https://localhost:8080/",
          "height": 294
        },
        "outputId": "6c5a2fa7-90d8-49ad-e7e7-62b58da21c7a"
      },
      "execution_count": null,
      "outputs": [
        {
          "output_type": "display_data",
          "data": {
            "text/plain": [
              "<Figure size 432x288 with 1 Axes>"
            ],
            "image/png": "[encoded data removed]"
          },
          "metadata": {
            "needs_background": "light"
          }
        }
      ]
    },
    {
      "cell_type": "markdown",
      "source": [
        "##Model 18"
      ],
      "metadata": {
        "id": "1M1EMy1np0ZV"
      }
    },
    {
      "cell_type": "code",
      "execution_count": 20,
      "metadata": {
        "id": "BJszdEWZp0Zb",
        "colab": {
          "base_uri": "https://localhost:8080/"
        },
        "outputId": "986ae45f-45ef-4d69-899a-d6693db8e347"
      },
      "outputs": [
        {
          "output_type": "stream",
          "name": "stdout",
          "text": [
            "Model: \"sequential_1\"\n",
            "_________________________________________________________________\n",
            " Layer (type)                Output Shape              Param #   \n",
            "=================================================================\n",
            " conv2d_3 (Conv2D)           (None, 27, 27, 16)        80        \n",
            "                                                                 \n",
            " activation_6 (Activation)   (None, 27, 27, 16)        0         \n",
            "                                                                 \n",
            " conv2d_4 (Conv2D)           (None, 26, 26, 32)        2080      \n",
            "                                                                 \n",
            " activation_7 (Activation)   (None, 26, 26, 32)        0         \n",
            "                                                                 \n",
            " max_pooling2d_2 (MaxPooling  (None, 13, 13, 32)       0         \n",
            " 2D)                                                             \n",
            "                                                                 \n",
            " conv2d_5 (Conv2D)           (None, 12, 12, 64)        8256      \n",
            "                                                                 \n",
            " activation_8 (Activation)   (None, 12, 12, 64)        0         \n",
            "                                                                 \n",
            " max_pooling2d_3 (MaxPooling  (None, 6, 6, 64)         0         \n",
            " 2D)                                                             \n",
            "                                                                 \n",
            " flatten_1 (Flatten)         (None, 2304)              0         \n",
            "                                                                 \n",
            " dense_3 (Dense)             (None, 64)                147520    \n",
            "                                                                 \n",
            " activation_9 (Activation)   (None, 64)                0         \n",
            "                                                                 \n",
            " dense_4 (Dense)             (None, 32)                2080      \n",
            "                                                                 \n",
            " activation_10 (Activation)  (None, 32)                0         \n",
            "                                                                 \n",
            " dense_5 (Dense)             (None, 10)                330       \n",
            "                                                                 \n",
            " activation_11 (Activation)  (None, 10)                0         \n",
            "                                                                 \n",
            "=================================================================\n",
            "Total params: 160,346\n",
            "Trainable params: 160,346\n",
            "Non-trainable params: 0\n",
            "_________________________________________________________________\n"
          ]
        }
      ],
      "source": [
        "#creat the model\n",
        "model_18 = Sequential()\n",
        "\n",
        "#conv layers\n",
        "\n",
        "##first CNN layer\n",
        "model_18.add(Conv2D(16,(2,2),input_shape = train_images.shape[1:]))\n",
        "model_18.add(Activation(\"tanh\"))\n",
        "\n",
        "##second CNN layer\n",
        "model_18.add(Conv2D(32,(2,2)))\n",
        "model_18.add(Activation(\"tanh\"))\n",
        "model_18.add(MaxPooling2D(pool_size=(2, 2)))\n",
        "\n",
        "##third CNN layer\n",
        "model_18.add(Conv2D(64,(2,2)))\n",
        "model_18.add(Activation(\"tanh\"))\n",
        "model_18.add(MaxPooling2D(pool_size=(2, 2)))\n",
        "\n",
        "model_18.add(Flatten())\n",
        "\n",
        "#FC layers\n",
        "\n",
        "##first FC layer\n",
        "model_18.add(Dense(64))\n",
        "model_18.add(Activation(\"tanh\"))\n",
        "\n",
        "##second FC layer\n",
        "model_18.add(Dense(32))\n",
        "model_18.add(Activation(\"tanh\"))\n",
        "\n",
        "# softmax classifier\n",
        "model_18.add(Dense(10))\n",
        "model_18.add(Activation(\"softmax\"))\n",
        "\n",
        "model_18.summary()"
      ]
    },
    {
      "cell_type": "code",
      "execution_count": 21,
      "metadata": {
        "id": "lhAK5eCFp0Zc",
        "colab": {
          "base_uri": "https://localhost:8080/"
        },
        "outputId": "d891a2c8-e1fa-4e9f-c0c6-60606a33b448"
      },
      "outputs": [
        {
          "output_type": "stream",
          "name": "stdout",
          "text": [
            "Epoch 1/15\n",
            "3000/3000 [==============================] - 25s 8ms/step - loss: 0.1500 - accuracy: 0.9574\n",
            "Epoch 2/15\n",
            "3000/3000 [==============================] - 22s 7ms/step - loss: 0.0550 - accuracy: 0.9832\n",
            "Epoch 3/15\n",
            "3000/3000 [==============================] - 23s 8ms/step - loss: 0.0396 - accuracy: 0.9883\n",
            "Epoch 4/15\n",
            "3000/3000 [==============================] - 22s 7ms/step - loss: 0.0286 - accuracy: 0.9915\n",
            "Epoch 5/15\n",
            "3000/3000 [==============================] - 22s 7ms/step - loss: 0.0233 - accuracy: 0.9930\n",
            "Epoch 6/15\n",
            "3000/3000 [==============================] - 22s 7ms/step - loss: 0.0158 - accuracy: 0.9952\n",
            "Epoch 7/15\n",
            "3000/3000 [==============================] - 22s 7ms/step - loss: 0.0130 - accuracy: 0.9961\n",
            "Epoch 8/15\n",
            "3000/3000 [==============================] - 22s 7ms/step - loss: 0.0104 - accuracy: 0.9968\n",
            "Epoch 9/15\n",
            "3000/3000 [==============================] - 22s 7ms/step - loss: 0.0077 - accuracy: 0.9976\n",
            "Epoch 10/15\n",
            "3000/3000 [==============================] - 22s 7ms/step - loss: 0.0069 - accuracy: 0.9979\n",
            "Epoch 11/15\n",
            "3000/3000 [==============================] - 22s 7ms/step - loss: 0.0050 - accuracy: 0.9985\n",
            "Epoch 12/15\n",
            "3000/3000 [==============================] - 22s 7ms/step - loss: 0.0037 - accuracy: 0.9988\n",
            "Epoch 13/15\n",
            "3000/3000 [==============================] - 22s 7ms/step - loss: 0.0033 - accuracy: 0.9988\n",
            "Epoch 14/15\n",
            "3000/3000 [==============================] - 22s 7ms/step - loss: 0.0029 - accuracy: 0.9992\n",
            "Epoch 15/15\n",
            "3000/3000 [==============================] - 22s 7ms/step - loss: 0.0025 - accuracy: 0.9991\n"
          ]
        }
      ],
      "source": [
        "model_18.compile(optimizer='RMSprop', loss=\"categorical_crossentropy\", metrics=['accuracy'])\n",
        "history = model_18.fit(train_images,train_labels,epochs=15,batch_size=20)"
      ]
    },
    {
      "cell_type": "code",
      "source": [
        "loss, acc =model_18.evaluate(test_images , test_labels)\n",
        "print(\"loss =\",loss)\n",
        "print(\"accuracy =\",acc)"
      ],
      "metadata": {
        "id": "fmkeP-Y3p0Zc",
        "colab": {
          "base_uri": "https://localhost:8080/"
        },
        "outputId": "aea96b59-e44f-4b99-fcf4-bf81c41d2d22"
      },
      "execution_count": 22,
      "outputs": [
        {
          "output_type": "stream",
          "name": "stdout",
          "text": [
            "313/313 [==============================] - 2s 4ms/step - loss: 0.0796 - accuracy: 0.9876\n",
            "loss = 0.07962999492883682\n",
            "accuracy = 0.9876000285148621\n"
          ]
        }
      ]
    },
    {
      "cell_type": "code",
      "source": [
        "def plot_losses(history):  \n",
        "    plt.plot(history.history['loss'])\n",
        "    plt.title('model loss')\n",
        "    plt.ylabel('loss')\n",
        "    plt.xlabel('epoch')\n",
        "    plt.legend(['train'], loc='upper left')\n",
        "    plt.show()\n",
        "plot_losses(history)"
      ],
      "metadata": {
        "id": "XpjRIlKOp0Zc",
        "colab": {
          "base_uri": "https://localhost:8080/",
          "height": 294
        },
        "outputId": "8b2eb6c7-1b0d-4c4d-f86c-f5ef771ee6ad"
      },
      "execution_count": 23,
      "outputs": [
        {
          "output_type": "display_data",
          "data": {
            "text/plain": [
              "<Figure size 432x288 with 1 Axes>"
            ],
            "image/png": "[encoded data removed]"
          },
          "metadata": {
            "needs_background": "light"
          }
        }
      ]
    },
    {
      "cell_type": "code",
      "source": [
        "def plot_accuracies(history):  \n",
        "    plt.plot(history.history['accuracy'], label='accuracy')\n",
        "    plt.title('model accuracy')\n",
        "    plt.xlabel('Epoch')\n",
        "    plt.ylabel('Accuracy')\n",
        "    plt.legend(loc='upper left')\n",
        "    plt.show()\n",
        "plot_accuracies(history)"
      ],
      "metadata": {
        "id": "RbZGKbpyp0Zc",
        "colab": {
          "base_uri": "https://localhost:8080/",
          "height": 294
        },
        "outputId": "ebe9a3c0-0025-48ca-f15f-1d60350e57b4"
      },
      "execution_count": 24,
      "outputs": [
        {
          "output_type": "display_data",
          "data": {
            "text/plain": [
              "<Figure size 432x288 with 1 Axes>"
            ],
            "image/png": "[encoded data removed]"
          },
          "metadata": {
            "needs_background": "light"
          }
        }
      ]
    },
    {
      "cell_type": "markdown",
      "source": [
        "##Model 19"
      ],
      "metadata": {
        "id": "vLwRhcssrjF9"
      }
    },
    {
      "cell_type": "code",
      "execution_count": 25,
      "metadata": {
        "id": "orBDVWj0rjGD",
        "colab": {
          "base_uri": "https://localhost:8080/"
        },
        "outputId": "6ea7793e-56c4-4015-8bcb-cfc1766f03aa"
      },
      "outputs": [
        {
          "output_type": "stream",
          "name": "stdout",
          "text": [
            "Model: \"sequential_2\"\n",
            "_________________________________________________________________\n",
            " Layer (type)                Output Shape              Param #   \n",
            "=================================================================\n",
            " conv2d_6 (Conv2D)           (None, 27, 27, 16)        80        \n",
            "                                                                 \n",
            " activation_12 (Activation)  (None, 27, 27, 16)        0         \n",
            "                                                                 \n",
            " conv2d_7 (Conv2D)           (None, 26, 26, 32)        2080      \n",
            "                                                                 \n",
            " activation_13 (Activation)  (None, 26, 26, 32)        0         \n",
            "                                                                 \n",
            " max_pooling2d_4 (MaxPooling  (None, 13, 13, 32)       0         \n",
            " 2D)                                                             \n",
            "                                                                 \n",
            " conv2d_8 (Conv2D)           (None, 12, 12, 64)        8256      \n",
            "                                                                 \n",
            " activation_14 (Activation)  (None, 12, 12, 64)        0         \n",
            "                                                                 \n",
            " max_pooling2d_5 (MaxPooling  (None, 6, 6, 64)         0         \n",
            " 2D)                                                             \n",
            "                                                                 \n",
            " flatten_2 (Flatten)         (None, 2304)              0         \n",
            "                                                                 \n",
            " dense_6 (Dense)             (None, 64)                147520    \n",
            "                                                                 \n",
            " activation_15 (Activation)  (None, 64)                0         \n",
            "                                                                 \n",
            " dropout_1 (Dropout)         (None, 64)                0         \n",
            "                                                                 \n",
            " dense_7 (Dense)             (None, 32)                2080      \n",
            "                                                                 \n",
            " activation_16 (Activation)  (None, 32)                0         \n",
            "                                                                 \n",
            " dense_8 (Dense)             (None, 10)                330       \n",
            "                                                                 \n",
            " activation_17 (Activation)  (None, 10)                0         \n",
            "                                                                 \n",
            "=================================================================\n",
            "Total params: 160,346\n",
            "Trainable params: 160,346\n",
            "Non-trainable params: 0\n",
            "_________________________________________________________________\n"
          ]
        }
      ],
      "source": [
        "#creat the model\n",
        "model_19 = Sequential()\n",
        "\n",
        "#conv layers\n",
        "\n",
        "##first CNN layer\n",
        "model_19.add(Conv2D(16,(2,2),input_shape = train_images.shape[1:]))\n",
        "model_19.add(Activation(\"tanh\"))\n",
        "\n",
        "##second CNN layer\n",
        "model_19.add(Conv2D(32,(2,2)))\n",
        "model_19.add(Activation(\"tanh\"))\n",
        "model_19.add(MaxPooling2D(pool_size=(2, 2)))\n",
        "\n",
        "##third CNN layer\n",
        "model_19.add(Conv2D(64,(2,2)))\n",
        "model_19.add(Activation(\"tanh\"))\n",
        "model_19.add(MaxPooling2D(pool_size=(2, 2)))\n",
        "\n",
        "model_19.add(Flatten())\n",
        "\n",
        "#FC layers\n",
        "\n",
        "##first FC layer\n",
        "model_19.add(Dense(64))\n",
        "model_19.add(Activation(\"tanh\"))\n",
        "model_19.add(Dropout(0.5))\n",
        "\n",
        "##second FC layer\n",
        "model_19.add(Dense(32))\n",
        "model_19.add(Activation(\"tanh\"))\n",
        "\n",
        "# softmax classifier\n",
        "model_19.add(Dense(10))\n",
        "model_19.add(Activation(\"softmax\"))\n",
        "\n",
        "model_19.summary()"
      ]
    },
    {
      "cell_type": "code",
      "execution_count": 26,
      "metadata": {
        "id": "njLhQhterjGE",
        "colab": {
          "base_uri": "https://localhost:8080/"
        },
        "outputId": "432222a4-a0e8-4e15-96a3-5742778e427a"
      },
      "outputs": [
        {
          "output_type": "stream",
          "name": "stdout",
          "text": [
            "Epoch 1/15\n",
            "3000/3000 [==============================] - 19s 6ms/step - loss: 0.4124 - accuracy: 0.8792\n",
            "Epoch 2/15\n",
            "3000/3000 [==============================] - 19s 6ms/step - loss: 0.1587 - accuracy: 0.9529\n",
            "Epoch 3/15\n",
            "3000/3000 [==============================] - 19s 6ms/step - loss: 0.1154 - accuracy: 0.9661\n",
            "Epoch 4/15\n",
            "3000/3000 [==============================] - 19s 6ms/step - loss: 0.0951 - accuracy: 0.9712\n",
            "Epoch 5/15\n",
            "3000/3000 [==============================] - 19s 6ms/step - loss: 0.0804 - accuracy: 0.9764\n",
            "Epoch 6/15\n",
            "3000/3000 [==============================] - 19s 6ms/step - loss: 0.0715 - accuracy: 0.9786\n",
            "Epoch 7/15\n",
            "3000/3000 [==============================] - 19s 6ms/step - loss: 0.0673 - accuracy: 0.9791\n",
            "Epoch 8/15\n",
            "3000/3000 [==============================] - 19s 6ms/step - loss: 0.0603 - accuracy: 0.9818\n",
            "Epoch 9/15\n",
            "3000/3000 [==============================] - 19s 6ms/step - loss: 0.0552 - accuracy: 0.9830\n",
            "Epoch 10/15\n",
            "3000/3000 [==============================] - 19s 6ms/step - loss: 0.0543 - accuracy: 0.9832\n",
            "Epoch 11/15\n",
            "3000/3000 [==============================] - 19s 6ms/step - loss: 0.0498 - accuracy: 0.9848\n",
            "Epoch 12/15\n",
            "3000/3000 [==============================] - 19s 6ms/step - loss: 0.0484 - accuracy: 0.9855\n",
            "Epoch 13/15\n",
            "3000/3000 [==============================] - 19s 6ms/step - loss: 0.0431 - accuracy: 0.9869\n",
            "Epoch 14/15\n",
            "3000/3000 [==============================] - 19s 6ms/step - loss: 0.0420 - accuracy: 0.9869\n",
            "Epoch 15/15\n",
            "3000/3000 [==============================] - 19s 6ms/step - loss: 0.0386 - accuracy: 0.9884\n"
          ]
        }
      ],
      "source": [
        "model_19.compile(optimizer=tf.keras.optimizers.SGD(learning_rate=0.03), loss=\"categorical_crossentropy\", metrics=['accuracy'])\n",
        "history = model_19.fit(train_images,train_labels,epochs=15,batch_size=20)"
      ]
    },
    {
      "cell_type": "code",
      "source": [
        "loss, acc =model_19.evaluate(test_images , test_labels)\n",
        "print(\"loss =\",loss)\n",
        "print(\"accuracy =\",acc)"
      ],
      "metadata": {
        "id": "B-PIFugNrjGE",
        "colab": {
          "base_uri": "https://localhost:8080/"
        },
        "outputId": "70349cdf-7c5b-41a9-8e70-277e629b3dc4"
      },
      "execution_count": 27,
      "outputs": [
        {
          "output_type": "stream",
          "name": "stdout",
          "text": [
            "313/313 [==============================] - 2s 4ms/step - loss: 0.0444 - accuracy: 0.9866\n",
            "loss = 0.04437783360481262\n",
            "accuracy = 0.9865999817848206\n"
          ]
        }
      ]
    },
    {
      "cell_type": "code",
      "source": [
        "def plot_losses(history):  \n",
        "    plt.plot(history.history['loss'])\n",
        "    plt.title('model loss')\n",
        "    plt.ylabel('loss')\n",
        "    plt.xlabel('epoch')\n",
        "    plt.legend(['train'], loc='upper left')\n",
        "    plt.show()\n",
        "plot_losses(history)"
      ],
      "metadata": {
        "id": "I-fhFZ4wrjGE",
        "colab": {
          "base_uri": "https://localhost:8080/",
          "height": 294
        },
        "outputId": "a476bbae-ab0d-4045-f72e-ed17895abb81"
      },
      "execution_count": 28,
      "outputs": [
        {
          "output_type": "display_data",
          "data": {
            "text/plain": [
              "<Figure size 432x288 with 1 Axes>"
            ],
            "image/png": "[encoded data removed]"
          },
          "metadata": {
            "needs_background": "light"
          }
        }
      ]
    },
    {
      "cell_type": "code",
      "source": [
        "def plot_accuracies(history):  \n",
        "    plt.plot(history.history['accuracy'], label='accuracy')\n",
        "    plt.title('model accuracy')\n",
        "    plt.xlabel('Epoch')\n",
        "    plt.ylabel('Accuracy')\n",
        "    plt.legend(loc='upper left')\n",
        "    plt.show()\n",
        "plot_accuracies(history)"
      ],
      "metadata": {
        "id": "tGHeslqerjGE",
        "colab": {
          "base_uri": "https://localhost:8080/",
          "height": 294
        },
        "outputId": "b4c7070b-b91b-4728-b75c-67b4730650d9"
      },
      "execution_count": 29,
      "outputs": [
        {
          "output_type": "display_data",
          "data": {
            "text/plain": [
              "<Figure size 432x288 with 1 Axes>"
            ],
            "image/png": "[encoded data removed]"
          },
          "metadata": {
            "needs_background": "light"
          }
        }
      ]
    },
    {
      "cell_type": "markdown",
      "source": [
        "##Model 20"
      ],
      "metadata": {
        "id": "F8hRLhxf4Tnr"
      }
    },
    {
      "cell_type": "code",
      "execution_count": 30,
      "metadata": {
        "id": "GsOAiLtj4Tny",
        "colab": {
          "base_uri": "https://localhost:8080/"
        },
        "outputId": "fbf919ca-9714-4029-a903-78dcdd95599a"
      },
      "outputs": [
        {
          "output_type": "stream",
          "name": "stdout",
          "text": [
            "Model: \"sequential_3\"\n",
            "_________________________________________________________________\n",
            " Layer (type)                Output Shape              Param #   \n",
            "=================================================================\n",
            " conv2d_9 (Conv2D)           (None, 27, 27, 16)        80        \n",
            "                                                                 \n",
            " activation_18 (Activation)  (None, 27, 27, 16)        0         \n",
            "                                                                 \n",
            " conv2d_10 (Conv2D)          (None, 26, 26, 32)        2080      \n",
            "                                                                 \n",
            " activation_19 (Activation)  (None, 26, 26, 32)        0         \n",
            "                                                                 \n",
            " max_pooling2d_6 (MaxPooling  (None, 13, 13, 32)       0         \n",
            " 2D)                                                             \n",
            "                                                                 \n",
            " conv2d_11 (Conv2D)          (None, 12, 12, 64)        8256      \n",
            "                                                                 \n",
            " activation_20 (Activation)  (None, 12, 12, 64)        0         \n",
            "                                                                 \n",
            " max_pooling2d_7 (MaxPooling  (None, 6, 6, 64)         0         \n",
            " 2D)                                                             \n",
            "                                                                 \n",
            " flatten_3 (Flatten)         (None, 2304)              0         \n",
            "                                                                 \n",
            " dense_9 (Dense)             (None, 64)                147520    \n",
            "                                                                 \n",
            " activation_21 (Activation)  (None, 64)                0         \n",
            "                                                                 \n",
            " dense_10 (Dense)            (None, 32)                2080      \n",
            "                                                                 \n",
            " activation_22 (Activation)  (None, 32)                0         \n",
            "                                                                 \n",
            " dropout_2 (Dropout)         (None, 32)                0         \n",
            "                                                                 \n",
            " dense_11 (Dense)            (None, 10)                330       \n",
            "                                                                 \n",
            " activation_23 (Activation)  (None, 10)                0         \n",
            "                                                                 \n",
            "=================================================================\n",
            "Total params: 160,346\n",
            "Trainable params: 160,346\n",
            "Non-trainable params: 0\n",
            "_________________________________________________________________\n"
          ]
        }
      ],
      "source": [
        "#creat the model\n",
        "model_20 = Sequential()\n",
        "\n",
        "#conv layers\n",
        "\n",
        "##first CNN layer\n",
        "model_20.add(Conv2D(16,(2,2),input_shape = train_images.shape[1:]))\n",
        "model_20.add(Activation(\"tanh\"))\n",
        "\n",
        "##second CNN layer\n",
        "model_20.add(Conv2D(32,(2,2)))\n",
        "model_20.add(Activation(\"tanh\"))\n",
        "model_20.add(MaxPooling2D(pool_size=(2, 2)))\n",
        "\n",
        "##third CNN layer\n",
        "model_20.add(Conv2D(64,(2,2)))\n",
        "model_20.add(Activation(\"tanh\"))\n",
        "model_20.add(MaxPooling2D(pool_size=(2, 2)))\n",
        "\n",
        "model_20.add(Flatten())\n",
        "\n",
        "#FC layers\n",
        "\n",
        "##first FC layer\n",
        "model_20.add(Dense(64))\n",
        "model_20.add(Activation(\"tanh\"))\n",
        "\n",
        "##second FC layer\n",
        "model_20.add(Dense(32))\n",
        "model_20.add(Activation(\"tanh\"))\n",
        "model_20.add(Dropout(0.5))\n",
        "\n",
        "# softmax classifier\n",
        "model_20.add(Dense(10))\n",
        "model_20.add(Activation(\"softmax\"))\n",
        "\n",
        "model_20.summary()"
      ]
    },
    {
      "cell_type": "code",
      "execution_count": 31,
      "metadata": {
        "id": "ABs0vIw74Tnz",
        "colab": {
          "base_uri": "https://localhost:8080/"
        },
        "outputId": "4062edf2-9313-4e37-f51b-dedef84f8fda"
      },
      "outputs": [
        {
          "output_type": "stream",
          "name": "stdout",
          "text": [
            "Epoch 1/15\n",
            "3000/3000 [==============================] - 19s 6ms/step - loss: 0.4115 - accuracy: 0.8826\n",
            "Epoch 2/15\n",
            "3000/3000 [==============================] - 18s 6ms/step - loss: 0.1454 - accuracy: 0.9609\n",
            "Epoch 3/15\n",
            "3000/3000 [==============================] - 19s 6ms/step - loss: 0.0981 - accuracy: 0.9734\n",
            "Epoch 4/15\n",
            "3000/3000 [==============================] - 18s 6ms/step - loss: 0.0778 - accuracy: 0.9791\n",
            "Epoch 5/15\n",
            "3000/3000 [==============================] - 18s 6ms/step - loss: 0.0622 - accuracy: 0.9830\n",
            "Epoch 6/15\n",
            "3000/3000 [==============================] - 19s 6ms/step - loss: 0.0549 - accuracy: 0.9852\n",
            "Epoch 7/15\n",
            "3000/3000 [==============================] - 18s 6ms/step - loss: 0.0471 - accuracy: 0.9875\n",
            "Epoch 8/15\n",
            "3000/3000 [==============================] - 18s 6ms/step - loss: 0.0407 - accuracy: 0.9896\n",
            "Epoch 9/15\n",
            "3000/3000 [==============================] - 19s 6ms/step - loss: 0.0353 - accuracy: 0.9909\n",
            "Epoch 10/15\n",
            "3000/3000 [==============================] - 19s 6ms/step - loss: 0.0317 - accuracy: 0.9915\n",
            "Epoch 11/15\n",
            "3000/3000 [==============================] - 19s 6ms/step - loss: 0.0257 - accuracy: 0.9934\n",
            "Epoch 12/15\n",
            "3000/3000 [==============================] - 19s 6ms/step - loss: 0.0235 - accuracy: 0.9936\n",
            "Epoch 13/15\n",
            "3000/3000 [==============================] - 19s 6ms/step - loss: 0.0209 - accuracy: 0.9943\n",
            "Epoch 14/15\n",
            "3000/3000 [==============================] - 19s 6ms/step - loss: 0.0195 - accuracy: 0.9948\n",
            "Epoch 15/15\n",
            "3000/3000 [==============================] - 19s 6ms/step - loss: 0.0175 - accuracy: 0.9952\n"
          ]
        }
      ],
      "source": [
        "model_20.compile(optimizer=tf.keras.optimizers.SGD(learning_rate=0.03), loss=\"categorical_crossentropy\", metrics=['accuracy'])\n",
        "history = model_20.fit(train_images,train_labels,epochs=15,batch_size=20)"
      ]
    },
    {
      "cell_type": "code",
      "source": [
        "loss, acc =model_20.evaluate(test_images , test_labels)\n",
        "print(\"loss =\",loss)\n",
        "print(\"accuracy =\",acc)"
      ],
      "metadata": {
        "id": "_-yAapNJ4Tnz",
        "colab": {
          "base_uri": "https://localhost:8080/"
        },
        "outputId": "a072fc08-50b7-46e2-897e-2489520408ce"
      },
      "execution_count": 32,
      "outputs": [
        {
          "output_type": "stream",
          "name": "stdout",
          "text": [
            "313/313 [==============================] - 2s 4ms/step - loss: 0.0433 - accuracy: 0.9883\n",
            "loss = 0.043310072273015976\n",
            "accuracy = 0.9883000254631042\n"
          ]
        }
      ]
    },
    {
      "cell_type": "code",
      "source": [
        "def plot_losses(history):  \n",
        "    plt.plot(history.history['loss'])\n",
        "    plt.title('model loss')\n",
        "    plt.ylabel('loss')\n",
        "    plt.xlabel('epoch')\n",
        "    plt.legend(['train'], loc='upper left')\n",
        "    plt.show()\n",
        "plot_losses(history)"
      ],
      "metadata": {
        "id": "izeLsPQ64Tnz",
        "colab": {
          "base_uri": "https://localhost:8080/",
          "height": 294
        },
        "outputId": "eee56ad8-8726-4883-bdc6-89f12d050423"
      },
      "execution_count": 33,
      "outputs": [
        {
          "output_type": "display_data",
          "data": {
            "text/plain": [
              "<Figure size 432x288 with 1 Axes>"
            ],
            "image/png": "[encoded data removed]"
          },
          "metadata": {
            "needs_background": "light"
          }
        }
      ]
    },
    {
      "cell_type": "code",
      "source": [
        "def plot_accuracies(history):  \n",
        "    plt.plot(history.history['accuracy'], label='accuracy')\n",
        "    plt.title('model accuracy')\n",
        "    plt.xlabel('Epoch')\n",
        "    plt.ylabel('Accuracy')\n",
        "    plt.legend(loc='upper left')\n",
        "    plt.show()\n",
        "plot_accuracies(history)"
      ],
      "metadata": {
        "id": "4xw3NPcm4Tnz",
        "colab": {
          "base_uri": "https://localhost:8080/",
          "height": 294
        },
        "outputId": "df831b8f-876b-44fb-bcfe-2bec10cb11d4"
      },
      "execution_count": 34,
      "outputs": [
        {
          "output_type": "display_data",
          "data": {
            "text/plain": [
              "<Figure size 432x288 with 1 Axes>"
            ],
            "image/png": "[encoded data removed]"
          },
          "metadata": {
            "needs_background": "light"
          }
        }
      ]
    },
    {
      "cell_type": "markdown",
      "source": [
        "##Model 21"
      ],
      "metadata": {
        "id": "v0I15Er74BKp"
      }
    },
    {
      "cell_type": "code",
      "execution_count": 37,
      "metadata": {
        "colab": {
          "base_uri": "https://localhost:8080/"
        },
        "outputId": "c54259ff-4832-4687-ad0d-95fbb6d3b497",
        "id": "ZUICIXyb4BKq"
      },
      "outputs": [
        {
          "output_type": "stream",
          "name": "stdout",
          "text": [
            "Model: \"sequential_5\"\n",
            "_________________________________________________________________\n",
            " Layer (type)                Output Shape              Param #   \n",
            "=================================================================\n",
            " conv2d_15 (Conv2D)          (None, 27, 27, 16)        80        \n",
            "                                                                 \n",
            " activation_30 (Activation)  (None, 27, 27, 16)        0         \n",
            "                                                                 \n",
            " conv2d_16 (Conv2D)          (None, 26, 26, 32)        2080      \n",
            "                                                                 \n",
            " activation_31 (Activation)  (None, 26, 26, 32)        0         \n",
            "                                                                 \n",
            " max_pooling2d_10 (MaxPoolin  (None, 13, 13, 32)       0         \n",
            " g2D)                                                            \n",
            "                                                                 \n",
            " conv2d_17 (Conv2D)          (None, 12, 12, 64)        8256      \n",
            "                                                                 \n",
            " activation_32 (Activation)  (None, 12, 12, 64)        0         \n",
            "                                                                 \n",
            " max_pooling2d_11 (MaxPoolin  (None, 6, 6, 64)         0         \n",
            " g2D)                                                            \n",
            "                                                                 \n",
            " flatten_5 (Flatten)         (None, 2304)              0         \n",
            "                                                                 \n",
            " dense_15 (Dense)            (None, 64)                147520    \n",
            "                                                                 \n",
            " activation_33 (Activation)  (None, 64)                0         \n",
            "                                                                 \n",
            " dense_16 (Dense)            (None, 32)                2080      \n",
            "                                                                 \n",
            " activation_34 (Activation)  (None, 32)                0         \n",
            "                                                                 \n",
            " dropout_4 (Dropout)         (None, 32)                0         \n",
            "                                                                 \n",
            " dense_17 (Dense)            (None, 10)                330       \n",
            "                                                                 \n",
            " activation_35 (Activation)  (None, 10)                0         \n",
            "                                                                 \n",
            "=================================================================\n",
            "Total params: 160,346\n",
            "Trainable params: 160,346\n",
            "Non-trainable params: 0\n",
            "_________________________________________________________________\n"
          ]
        }
      ],
      "source": [
        "#creat the model\n",
        "model_21 = Sequential()\n",
        "\n",
        "#conv layers\n",
        "\n",
        "##first CNN layer\n",
        "model_21.add(Conv2D(16,(2,2),input_shape = train_images.shape[1:]))\n",
        "model_21.add(Activation(\"tanh\"))\n",
        "\n",
        "##second CNN layer\n",
        "model_21.add(Conv2D(32,(2,2)))\n",
        "model_21.add(Activation(\"tanh\"))\n",
        "model_21.add(MaxPooling2D(pool_size=(2, 2)))\n",
        "\n",
        "##third CNN layer\n",
        "model_21.add(Conv2D(64,(2,2)))\n",
        "model_21.add(Activation(\"tanh\"))\n",
        "model_21.add(MaxPooling2D(pool_size=(2, 2)))\n",
        "\n",
        "model_21.add(Flatten())\n",
        "\n",
        "#FC layers\n",
        "\n",
        "##first FC layer\n",
        "model_21.add(Dense(64))\n",
        "model_21.add(Activation(\"tanh\"))\n",
        "\n",
        "##second FC layer\n",
        "model_21.add(Dense(32))\n",
        "model_21.add(Activation(\"tanh\"))\n",
        "model_21.add(Dropout(0.25))\n",
        "\n",
        "# softmax classifier\n",
        "model_21.add(Dense(10))\n",
        "model_21.add(Activation(\"softmax\"))\n",
        "\n",
        "model_21.summary()"
      ]
    },
    {
      "cell_type": "code",
      "execution_count": 39,
      "metadata": {
        "colab": {
          "base_uri": "https://localhost:8080/"
        },
        "outputId": "50b27bc6-84cb-4f6d-b638-68516e1dffa6",
        "id": "L-AJKDYX4BKq"
      },
      "outputs": [
        {
          "output_type": "stream",
          "name": "stdout",
          "text": [
            "Epoch 1/15\n",
            "3000/3000 [==============================] - 21s 7ms/step - loss: 0.0643 - accuracy: 0.9810\n",
            "Epoch 2/15\n",
            "3000/3000 [==============================] - 20s 7ms/step - loss: 0.0491 - accuracy: 0.9860\n",
            "Epoch 3/15\n",
            "3000/3000 [==============================] - 19s 6ms/step - loss: 0.0409 - accuracy: 0.9876\n",
            "Epoch 4/15\n",
            "3000/3000 [==============================] - 19s 6ms/step - loss: 0.0347 - accuracy: 0.9902\n",
            "Epoch 5/15\n",
            "3000/3000 [==============================] - 19s 6ms/step - loss: 0.0283 - accuracy: 0.9915\n",
            "Epoch 6/15\n",
            "3000/3000 [==============================] - 19s 6ms/step - loss: 0.0254 - accuracy: 0.9926\n",
            "Epoch 7/15\n",
            "3000/3000 [==============================] - 19s 6ms/step - loss: 0.0209 - accuracy: 0.9939\n",
            "Epoch 8/15\n",
            "3000/3000 [==============================] - 19s 6ms/step - loss: 0.0174 - accuracy: 0.9949\n",
            "Epoch 9/15\n",
            "3000/3000 [==============================] - 19s 6ms/step - loss: 0.0155 - accuracy: 0.9958\n",
            "Epoch 10/15\n",
            "3000/3000 [==============================] - 19s 6ms/step - loss: 0.0128 - accuracy: 0.9964\n",
            "Epoch 11/15\n",
            "3000/3000 [==============================] - 19s 6ms/step - loss: 0.0114 - accuracy: 0.9970\n",
            "Epoch 12/15\n",
            "3000/3000 [==============================] - 19s 6ms/step - loss: 0.0098 - accuracy: 0.9973\n",
            "Epoch 13/15\n",
            "3000/3000 [==============================] - 19s 6ms/step - loss: 0.0084 - accuracy: 0.9980\n",
            "Epoch 14/15\n",
            "3000/3000 [==============================] - 19s 6ms/step - loss: 0.0072 - accuracy: 0.9985\n",
            "Epoch 15/15\n",
            "3000/3000 [==============================] - 19s 6ms/step - loss: 0.0062 - accuracy: 0.9987\n"
          ]
        }
      ],
      "source": [
        "model_21.compile(optimizer=tf.keras.optimizers.SGD(learning_rate=0.03), loss=\"categorical_crossentropy\", metrics=['accuracy'])\n",
        "history = model_21.fit(train_images,train_labels,epochs=15,batch_size=20)"
      ]
    },
    {
      "cell_type": "code",
      "source": [
        "loss, acc =model_21.evaluate(test_images , test_labels)\n",
        "print(\"loss =\",loss)\n",
        "print(\"accuracy =\",acc)"
      ],
      "metadata": {
        "colab": {
          "base_uri": "https://localhost:8080/"
        },
        "outputId": "bbd53c7d-7574-447b-e28e-235bfe37ccaa",
        "id": "R3N57E_f4BKq"
      },
      "execution_count": 40,
      "outputs": [
        {
          "output_type": "stream",
          "name": "stdout",
          "text": [
            "313/313 [==============================] - 2s 5ms/step - loss: 0.0349 - accuracy: 0.9898\n",
            "loss = 0.034920308738946915\n",
            "accuracy = 0.989799976348877\n"
          ]
        }
      ]
    },
    {
      "cell_type": "code",
      "source": [
        "def plot_losses(history):  \n",
        "    plt.plot(history.history['loss'])\n",
        "    plt.title('model loss')\n",
        "    plt.ylabel('loss')\n",
        "    plt.xlabel('epoch')\n",
        "    plt.legend(['train'], loc='upper left')\n",
        "    plt.show()\n",
        "plot_losses(history)"
      ],
      "metadata": {
        "colab": {
          "base_uri": "https://localhost:8080/",
          "height": 294
        },
        "outputId": "8e593ab0-6162-48a3-97bc-770d95fc60fb",
        "id": "DhZXLqki4BKq"
      },
      "execution_count": 41,
      "outputs": [
        {
          "output_type": "display_data",
          "data": {
            "text/plain": [
              "<Figure size 432x288 with 1 Axes>"
            ],
            "image/png": "[encoded data removed]"
          },
          "metadata": {
            "needs_background": "light"
          }
        }
      ]
    },
    {
      "cell_type": "code",
      "source": [
        "def plot_accuracies(history):  \n",
        "    plt.plot(history.history['accuracy'], label='accuracy')\n",
        "    plt.title('model accuracy')\n",
        "    plt.xlabel('Epoch')\n",
        "    plt.ylabel('Accuracy')\n",
        "    plt.legend(loc='upper left')\n",
        "    plt.show()\n",
        "plot_accuracies(history)"
      ],
      "metadata": {
        "colab": {
          "base_uri": "https://localhost:8080/",
          "height": 294
        },
        "outputId": "17972e94-6cd8-44ed-d389-aac5985d3a25",
        "id": "urpAOOFd4BKr"
      },
      "execution_count": 42,
      "outputs": [
        {
          "output_type": "display_data",
          "data": {
            "text/plain": [
              "<Figure size 432x288 with 1 Axes>"
            ],
            "image/png": "[encoded data removed]"
          },
          "metadata": {
            "needs_background": "light"
          }
        }
      ]
    },
    {
      "cell_type": "markdown",
      "source": [
        "##Model 22"
      ],
      "metadata": {
        "id": "OPCFcMmk9ZLS"
      }
    },
    {
      "cell_type": "code",
      "execution_count": 43,
      "metadata": {
        "colab": {
          "base_uri": "https://localhost:8080/"
        },
        "outputId": "5eb74d5b-fc7c-4942-f05b-a990b84ff54f",
        "id": "yD9HcQrz9ZLT"
      },
      "outputs": [
        {
          "output_type": "stream",
          "name": "stdout",
          "text": [
            "Model: \"sequential_6\"\n",
            "_________________________________________________________________\n",
            " Layer (type)                Output Shape              Param #   \n",
            "=================================================================\n",
            " conv2d_18 (Conv2D)          (None, 27, 27, 16)        80        \n",
            "                                                                 \n",
            " activation_36 (Activation)  (None, 27, 27, 16)        0         \n",
            "                                                                 \n",
            " conv2d_19 (Conv2D)          (None, 26, 26, 32)        2080      \n",
            "                                                                 \n",
            " activation_37 (Activation)  (None, 26, 26, 32)        0         \n",
            "                                                                 \n",
            " max_pooling2d_12 (MaxPoolin  (None, 13, 13, 32)       0         \n",
            " g2D)                                                            \n",
            "                                                                 \n",
            " conv2d_20 (Conv2D)          (None, 12, 12, 64)        8256      \n",
            "                                                                 \n",
            " activation_38 (Activation)  (None, 12, 12, 64)        0         \n",
            "                                                                 \n",
            " max_pooling2d_13 (MaxPoolin  (None, 6, 6, 64)         0         \n",
            " g2D)                                                            \n",
            "                                                                 \n",
            " flatten_6 (Flatten)         (None, 2304)              0         \n",
            "                                                                 \n",
            " dense_18 (Dense)            (None, 64)                147520    \n",
            "                                                                 \n",
            " activation_39 (Activation)  (None, 64)                0         \n",
            "                                                                 \n",
            " dense_19 (Dense)            (None, 32)                2080      \n",
            "                                                                 \n",
            " activation_40 (Activation)  (None, 32)                0         \n",
            "                                                                 \n",
            " dropout_5 (Dropout)         (None, 32)                0         \n",
            "                                                                 \n",
            " dense_20 (Dense)            (None, 10)                330       \n",
            "                                                                 \n",
            " activation_41 (Activation)  (None, 10)                0         \n",
            "                                                                 \n",
            "=================================================================\n",
            "Total params: 160,346\n",
            "Trainable params: 160,346\n",
            "Non-trainable params: 0\n",
            "_________________________________________________________________\n"
          ]
        }
      ],
      "source": [
        "#creat the model\n",
        "model_22 = Sequential()\n",
        "\n",
        "#conv layers\n",
        "\n",
        "##first CNN layer\n",
        "model_22.add(Conv2D(16,(2,2),input_shape = train_images.shape[1:]))\n",
        "model_22.add(Activation(\"tanh\"))\n",
        "\n",
        "##second CNN layer\n",
        "model_22.add(Conv2D(32,(2,2)))\n",
        "model_22.add(Activation(\"tanh\"))\n",
        "model_22.add(MaxPooling2D(pool_size=(2, 2)))\n",
        "\n",
        "##third CNN layer\n",
        "model_22.add(Conv2D(64,(2,2)))\n",
        "model_22.add(Activation(\"tanh\"))\n",
        "model_22.add(MaxPooling2D(pool_size=(2, 2)))\n",
        "\n",
        "model_22.add(Flatten())\n",
        "\n",
        "#FC layers\n",
        "\n",
        "##first FC layer\n",
        "model_22.add(Dense(64))\n",
        "model_22.add(Activation(\"tanh\"))\n",
        "\n",
        "##second FC layer\n",
        "model_22.add(Dense(32))\n",
        "model_22.add(Activation(\"tanh\"))\n",
        "model_22.add(Dropout(0.7))\n",
        "\n",
        "# softmax classifier\n",
        "model_22.add(Dense(10))\n",
        "model_22.add(Activation(\"softmax\"))\n",
        "\n",
        "model_22.summary()"
      ]
    },
    {
      "cell_type": "code",
      "execution_count": 44,
      "metadata": {
        "colab": {
          "base_uri": "https://localhost:8080/"
        },
        "outputId": "295890bf-28b5-44ee-f6ed-1344f470e44a",
        "id": "6V1wla2D9ZLT"
      },
      "outputs": [
        {
          "output_type": "stream",
          "name": "stdout",
          "text": [
            "Epoch 1/15\n",
            "3000/3000 [==============================] - 19s 6ms/step - loss: 0.5388 - accuracy: 0.8404\n",
            "Epoch 2/15\n",
            "3000/3000 [==============================] - 19s 6ms/step - loss: 0.2307 - accuracy: 0.9362\n",
            "Epoch 3/15\n",
            "3000/3000 [==============================] - 19s 6ms/step - loss: 0.1648 - accuracy: 0.9554\n",
            "Epoch 4/15\n",
            "3000/3000 [==============================] - 19s 6ms/step - loss: 0.1388 - accuracy: 0.9611\n",
            "Epoch 5/15\n",
            "3000/3000 [==============================] - 19s 6ms/step - loss: 0.1217 - accuracy: 0.9654\n",
            "Epoch 6/15\n",
            "3000/3000 [==============================] - 18s 6ms/step - loss: 0.1067 - accuracy: 0.9682\n",
            "Epoch 7/15\n",
            "3000/3000 [==============================] - 19s 6ms/step - loss: 0.1018 - accuracy: 0.9689\n",
            "Epoch 8/15\n",
            "3000/3000 [==============================] - 19s 6ms/step - loss: 0.0872 - accuracy: 0.9731\n",
            "Epoch 9/15\n",
            "3000/3000 [==============================] - 19s 6ms/step - loss: 0.0837 - accuracy: 0.9729\n",
            "Epoch 10/15\n",
            "3000/3000 [==============================] - 18s 6ms/step - loss: 0.0767 - accuracy: 0.9746\n",
            "Epoch 11/15\n",
            "3000/3000 [==============================] - 18s 6ms/step - loss: 0.0735 - accuracy: 0.9753\n",
            "Epoch 12/15\n",
            "3000/3000 [==============================] - 19s 6ms/step - loss: 0.0680 - accuracy: 0.9767\n",
            "Epoch 13/15\n",
            "3000/3000 [==============================] - 18s 6ms/step - loss: 0.0663 - accuracy: 0.9768\n",
            "Epoch 14/15\n",
            "3000/3000 [==============================] - 18s 6ms/step - loss: 0.0561 - accuracy: 0.9795\n",
            "Epoch 15/15\n",
            "3000/3000 [==============================] - 18s 6ms/step - loss: 0.0581 - accuracy: 0.9794\n"
          ]
        }
      ],
      "source": [
        "model_22.compile(optimizer=tf.keras.optimizers.SGD(learning_rate=0.03), loss=\"categorical_crossentropy\", metrics=['accuracy'])\n",
        "history = model_22.fit(train_images,train_labels,epochs=15,batch_size=20)"
      ]
    },
    {
      "cell_type": "code",
      "source": [
        "loss, acc =model_22.evaluate(test_images , test_labels)\n",
        "print(\"loss =\",loss)\n",
        "print(\"accuracy =\",acc)"
      ],
      "metadata": {
        "colab": {
          "base_uri": "https://localhost:8080/"
        },
        "id": "LutztQ679ZLU",
        "outputId": "77d3b36d-d85d-4153-98c4-0616a921fb5c"
      },
      "execution_count": 45,
      "outputs": [
        {
          "output_type": "stream",
          "name": "stdout",
          "text": [
            "313/313 [==============================] - 2s 5ms/step - loss: 0.0648 - accuracy: 0.9859\n",
            "loss = 0.06482134759426117\n",
            "accuracy = 0.9858999848365784\n"
          ]
        }
      ]
    },
    {
      "cell_type": "code",
      "source": [
        "def plot_losses(history):  \n",
        "    plt.plot(history.history['loss'])\n",
        "    plt.title('model loss')\n",
        "    plt.ylabel('loss')\n",
        "    plt.xlabel('epoch')\n",
        "    plt.legend(['train'], loc='upper left')\n",
        "    plt.show()\n",
        "plot_losses(history)"
      ],
      "metadata": {
        "colab": {
          "base_uri": "https://localhost:8080/",
          "height": 294
        },
        "id": "R91NKP0f9ZLU",
        "outputId": "1981500e-d09c-4914-ae94-f3a7d6f6c4af"
      },
      "execution_count": 46,
      "outputs": [
        {
          "output_type": "display_data",
          "data": {
            "text/plain": [
              "<Figure size 432x288 with 1 Axes>"
            ],
            "image/png": "[encoded data removed]"
          },
          "metadata": {
            "needs_background": "light"
          }
        }
      ]
    },
    {
      "cell_type": "code",
      "source": [
        "def plot_accuracies(history):  \n",
        "    plt.plot(history.history['accuracy'], label='accuracy')\n",
        "    plt.title('model accuracy')\n",
        "    plt.xlabel('Epoch')\n",
        "    plt.ylabel('Accuracy')\n",
        "    plt.legend(loc='upper left')\n",
        "    plt.show()\n",
        "plot_accuracies(history)"
      ],
      "metadata": {
        "colab": {
          "base_uri": "https://localhost:8080/",
          "height": 294
        },
        "id": "eQxlsPlg9ZLU",
        "outputId": "a2ec5dc3-9f80-47e2-c0ca-612914d8c81e"
      },
      "execution_count": 47,
      "outputs": [
        {
          "output_type": "display_data",
          "data": {
            "text/plain": [
              "<Figure size 432x288 with 1 Axes>"
            ],
            "image/png": "[encoded data removed]"
          },
          "metadata": {
            "needs_background": "light"
          }
        }
      ]
    },
    {
      "cell_type": "markdown",
      "source": [
        "##Model 23"
      ],
      "metadata": {
        "id": "bdAKeWAVAU1i"
      }
    },
    {
      "cell_type": "code",
      "execution_count": 63,
      "metadata": {
        "colab": {
          "base_uri": "https://localhost:8080/"
        },
        "outputId": "83759c92-fdc6-41d7-e13f-506d2aff808f",
        "id": "bFzz5Yy9AU1j"
      },
      "outputs": [
        {
          "output_type": "stream",
          "name": "stdout",
          "text": [
            "Model: \"sequential_10\"\n",
            "_________________________________________________________________\n",
            " Layer (type)                Output Shape              Param #   \n",
            "=================================================================\n",
            " conv2d_30 (Conv2D)          (None, 27, 27, 16)        80        \n",
            "                                                                 \n",
            " activation_60 (Activation)  (None, 27, 27, 16)        0         \n",
            "                                                                 \n",
            " conv2d_31 (Conv2D)          (None, 26, 26, 32)        2080      \n",
            "                                                                 \n",
            " activation_61 (Activation)  (None, 26, 26, 32)        0         \n",
            "                                                                 \n",
            " max_pooling2d_20 (MaxPoolin  (None, 13, 13, 32)       0         \n",
            " g2D)                                                            \n",
            "                                                                 \n",
            " conv2d_32 (Conv2D)          (None, 12, 12, 64)        8256      \n",
            "                                                                 \n",
            " activation_62 (Activation)  (None, 12, 12, 64)        0         \n",
            "                                                                 \n",
            " max_pooling2d_21 (MaxPoolin  (None, 6, 6, 64)         0         \n",
            " g2D)                                                            \n",
            "                                                                 \n",
            " flatten_10 (Flatten)        (None, 2304)              0         \n",
            "                                                                 \n",
            " dense_30 (Dense)            (None, 64)                147520    \n",
            "                                                                 \n",
            " activation_63 (Activation)  (None, 64)                0         \n",
            "                                                                 \n",
            " dense_31 (Dense)            (None, 32)                2080      \n",
            "                                                                 \n",
            " activation_64 (Activation)  (None, 32)                0         \n",
            "                                                                 \n",
            " dropout_9 (Dropout)         (None, 32)                0         \n",
            "                                                                 \n",
            " dense_32 (Dense)            (None, 10)                330       \n",
            "                                                                 \n",
            " activation_65 (Activation)  (None, 10)                0         \n",
            "                                                                 \n",
            "=================================================================\n",
            "Total params: 160,346\n",
            "Trainable params: 160,346\n",
            "Non-trainable params: 0\n",
            "_________________________________________________________________\n"
          ]
        }
      ],
      "source": [
        "#creat the model\n",
        "model_23 = Sequential()\n",
        "\n",
        "#conv layers\n",
        "\n",
        "##first CNN layer\n",
        "model_23.add(Conv2D(16,(2,2),input_shape = train_images.shape[1:]))\n",
        "model_23.add(Activation(\"tanh\"))\n",
        "\n",
        "##second CNN layer\n",
        "model_23.add(Conv2D(32,(2,2)))\n",
        "model_23.add(Activation(\"tanh\"))\n",
        "model_23.add(MaxPooling2D(pool_size=(2, 2)))\n",
        "\n",
        "##third CNN layer\n",
        "model_23.add(Conv2D(64,(2,2)))\n",
        "model_23.add(Activation(\"tanh\"))\n",
        "model_23.add(MaxPooling2D(pool_size=(2, 2)))\n",
        "\n",
        "model_23.add(Flatten())\n",
        "\n",
        "#FC layers\n",
        "\n",
        "##first FC layer\n",
        "model_23.add(Dense(64))\n",
        "model_23.add(Activation(\"tanh\"))\n",
        "\n",
        "##second FC layer\n",
        "model_23.add(Dense(32))\n",
        "model_23.add(Activation(\"tanh\"))\n",
        "model_23.add(Dropout(0.27))\n",
        "\n",
        "# softmax classifier\n",
        "model_23.add(Dense(10))\n",
        "model_23.add(Activation(\"softmax\"))\n",
        "\n",
        "model_23.summary()"
      ]
    },
    {
      "cell_type": "code",
      "execution_count": 64,
      "metadata": {
        "colab": {
          "base_uri": "https://localhost:8080/"
        },
        "outputId": "fae1465e-8b5c-485c-d699-77d322d412ce",
        "id": "V5ZYZWyFAU1j"
      },
      "outputs": [
        {
          "output_type": "stream",
          "name": "stdout",
          "text": [
            "Epoch 1/15\n",
            "3000/3000 [==============================] - 19s 6ms/step - loss: 0.3555 - accuracy: 0.8995\n",
            "Epoch 2/15\n",
            "3000/3000 [==============================] - 19s 6ms/step - loss: 0.1234 - accuracy: 0.9646\n",
            "Epoch 3/15\n",
            "3000/3000 [==============================] - 18s 6ms/step - loss: 0.0840 - accuracy: 0.9756\n",
            "Epoch 4/15\n",
            "3000/3000 [==============================] - 18s 6ms/step - loss: 0.0642 - accuracy: 0.9818\n",
            "Epoch 5/15\n",
            "3000/3000 [==============================] - 18s 6ms/step - loss: 0.0492 - accuracy: 0.9858\n",
            "Epoch 6/15\n",
            "3000/3000 [==============================] - 19s 6ms/step - loss: 0.0420 - accuracy: 0.9877\n",
            "Epoch 7/15\n",
            "3000/3000 [==============================] - 19s 6ms/step - loss: 0.0344 - accuracy: 0.9898\n",
            "Epoch 8/15\n",
            "3000/3000 [==============================] - 18s 6ms/step - loss: 0.0283 - accuracy: 0.9920\n",
            "Epoch 9/15\n",
            "3000/3000 [==============================] - 18s 6ms/step - loss: 0.0231 - accuracy: 0.9939\n",
            "Epoch 10/15\n",
            "3000/3000 [==============================] - 18s 6ms/step - loss: 0.0194 - accuracy: 0.9948\n",
            "Epoch 11/15\n",
            "3000/3000 [==============================] - 18s 6ms/step - loss: 0.0190 - accuracy: 0.9945\n",
            "Epoch 12/15\n",
            "3000/3000 [==============================] - 18s 6ms/step - loss: 0.0153 - accuracy: 0.9957\n",
            "Epoch 13/15\n",
            "3000/3000 [==============================] - 18s 6ms/step - loss: 0.0126 - accuracy: 0.9967\n",
            "Epoch 14/15\n",
            "3000/3000 [==============================] - 18s 6ms/step - loss: 0.0108 - accuracy: 0.9973\n",
            "Epoch 15/15\n",
            "3000/3000 [==============================] - 18s 6ms/step - loss: 0.0106 - accuracy: 0.9970\n"
          ]
        }
      ],
      "source": [
        "model_23.compile(optimizer=tf.keras.optimizers.SGD(learning_rate=0.03), loss=\"categorical_crossentropy\", metrics=['accuracy'])\n",
        "history = model_23.fit(train_images,train_labels,epochs=15,batch_size=20)"
      ]
    },
    {
      "cell_type": "code",
      "source": [
        "loss, acc =model_23.evaluate(test_images , test_labels)\n",
        "print(\"loss =\",loss)\n",
        "print(\"accuracy =\",acc)"
      ],
      "metadata": {
        "colab": {
          "base_uri": "https://localhost:8080/"
        },
        "outputId": "cba40b08-ded5-45ff-bf40-88d99a79d29d",
        "id": "XOpb6V_OAU1j"
      },
      "execution_count": 65,
      "outputs": [
        {
          "output_type": "stream",
          "name": "stdout",
          "text": [
            "313/313 [==============================] - 2s 4ms/step - loss: 0.0407 - accuracy: 0.9879\n",
            "loss = 0.040682438760995865\n",
            "accuracy = 0.9879000186920166\n"
          ]
        }
      ]
    },
    {
      "cell_type": "code",
      "source": [
        "def plot_losses(history):  \n",
        "    plt.plot(history.history['loss'])\n",
        "    plt.title('model loss')\n",
        "    plt.ylabel('loss')\n",
        "    plt.xlabel('epoch')\n",
        "    plt.legend(['train'], loc='upper left')\n",
        "    plt.show()\n",
        "plot_losses(history)"
      ],
      "metadata": {
        "colab": {
          "base_uri": "https://localhost:8080/",
          "height": 294
        },
        "outputId": "adb0f995-4c14-40e0-83d6-b3f406e34312",
        "id": "laBrsLeVAU1j"
      },
      "execution_count": 66,
      "outputs": [
        {
          "output_type": "display_data",
          "data": {
            "text/plain": [
              "<Figure size 432x288 with 1 Axes>"
            ],
            "image/png": "[encoded data removed]"
          },
          "metadata": {
            "needs_background": "light"
          }
        }
      ]
    },
    {
      "cell_type": "code",
      "source": [
        "def plot_accuracies(history):  \n",
        "    plt.plot(history.history['accuracy'], label='accuracy')\n",
        "    plt.title('model accuracy')\n",
        "    plt.xlabel('Epoch')\n",
        "    plt.ylabel('Accuracy')\n",
        "    plt.legend(loc='upper left')\n",
        "    plt.show()\n",
        "plot_accuracies(history)"
      ],
      "metadata": {
        "colab": {
          "base_uri": "https://localhost:8080/",
          "height": 294
        },
        "outputId": "021a535f-cc46-4abc-8ee8-c9fe65d69351",
        "id": "BHSYzCBNAU1k"
      },
      "execution_count": 67,
      "outputs": [
        {
          "output_type": "display_data",
          "data": {
            "text/plain": [
              "<Figure size 432x288 with 1 Axes>"
            ],
            "image/png": "[encoded data removed]"
          },
          "metadata": {
            "needs_background": "light"
          }
        }
      ]
    },
    {
      "cell_type": "markdown",
      "source": [
        "###best model is 21"
      ],
      "metadata": {
        "id": "DEI1kQs6D8Ax"
      }
    },
    {
      "cell_type": "markdown",
      "source": [
        "#Test model by draw of number we make it"
      ],
      "metadata": {
        "id": "ZztjCydTGLMc"
      }
    },
    {
      "cell_type": "code",
      "source": [
        "import cv2 "
      ],
      "metadata": {
        "id": "t0KHg4IlGVo3"
      },
      "execution_count": 87,
      "outputs": []
    },
    {
      "cell_type": "code",
      "source": [
        "test_img = cv2.imread('/content/5.png')"
      ],
      "metadata": {
        "id": "00l5F7n1HeKW"
      },
      "execution_count": 95,
      "outputs": []
    },
    {
      "cell_type": "code",
      "source": [
        "plt.imshow(test_img)\n",
        "test_img.shape"
      ],
      "metadata": {
        "colab": {
          "base_uri": "https://localhost:8080/",
          "height": 286
        },
        "id": "gPakWDzLH1OG",
        "outputId": "57a2939c-419d-46c1-80e8-e387b1672b9f"
      },
      "execution_count": 96,
      "outputs": [
        {
          "output_type": "execute_result",
          "data": {
            "text/plain": [
              "(405, 362, 3)"
            ]
          },
          "metadata": {},
          "execution_count": 96
        },
        {
          "output_type": "display_data",
          "data": {
            "text/plain": [
              "<Figure size 432x288 with 1 Axes>"
            ],
            "image/png": "[encoded data removed]"
          },
          "metadata": {
            "needs_background": "light"
          }
        }
      ]
    },
    {
      "cell_type": "code",
      "source": [
        "test_img = cv2.cvtColor(test_img, cv2.COLOR_BGR2GRAY)\n",
        "test_img.shape"
      ],
      "metadata": {
        "colab": {
          "base_uri": "https://localhost:8080/"
        },
        "id": "PibLaGmVIRQX",
        "outputId": "1751717c-fb83-4ffa-8ce8-7d449cd7b2c0"
      },
      "execution_count": 97,
      "outputs": [
        {
          "output_type": "execute_result",
          "data": {
            "text/plain": [
              "(405, 362)"
            ]
          },
          "metadata": {},
          "execution_count": 97
        }
      ]
    },
    {
      "cell_type": "code",
      "source": [
        "test_img = cv2.resize(test_img, (28,28), interpolation = cv2.INTER_AREA )\n",
        "test_img.shape"
      ],
      "metadata": {
        "colab": {
          "base_uri": "https://localhost:8080/"
        },
        "id": "F5CY8N7EJOp0",
        "outputId": "3a8240c6-ef01-467f-b853-52b29646ffe4"
      },
      "execution_count": 98,
      "outputs": [
        {
          "output_type": "execute_result",
          "data": {
            "text/plain": [
              "(28, 28)"
            ]
          },
          "metadata": {},
          "execution_count": 98
        }
      ]
    },
    {
      "cell_type": "code",
      "source": [
        "test_img = tf.keras.utils.normalize(test_img,axis = 1)\n",
        "plot_img(test_img)"
      ],
      "metadata": {
        "colab": {
          "base_uri": "https://localhost:8080/",
          "height": 265
        },
        "id": "9NTZed_pKqEm",
        "outputId": "9c8d97ba-3cc9-4801-f747-94314d35065a"
      },
      "execution_count": 99,
      "outputs": [
        {
          "output_type": "display_data",
          "data": {
            "text/plain": [
              "<Figure size 432x288 with 1 Axes>"
            ],
            "image/png": "[encoded data removed]"
          },
          "metadata": {
            "needs_background": "light"
          }
        }
      ]
    },
    {
      "cell_type": "code",
      "source": [
        "test_img = reshape_img(np.array(test_img))\n",
        "test_img.shape"
      ],
      "metadata": {
        "colab": {
          "base_uri": "https://localhost:8080/"
        },
        "id": "2qwVCs0ALErJ",
        "outputId": "003fc904-431f-48e8-d823-3c44e0ad4497"
      },
      "execution_count": 100,
      "outputs": [
        {
          "output_type": "execute_result",
          "data": {
            "text/plain": [
              "(1, 28, 28, 1)"
            ]
          },
          "metadata": {},
          "execution_count": 100
        }
      ]
    },
    {
      "cell_type": "code",
      "source": [
        "p = model_21.predict(test_img)\n",
        "print(np.argmax(p))"
      ],
      "metadata": {
        "colab": {
          "base_uri": "https://localhost:8080/"
        },
        "id": "vEnTS7kaLfkf",
        "outputId": "74f40220-aa40-4b42-8c2c-95c3ad93f451"
      },
      "execution_count": 101,
      "outputs": [
        {
          "output_type": "stream",
          "name": "stdout",
          "text": [
            "5\n"
          ]
        }
      ]
    }
  ],
  "metadata": {
    "accelerator": "GPU",
    "colab": {
      "name": "Assiment_3.ipynb",
      "provenance": [],
      "collapsed_sections": []
    },
    "kernelspec": {
      "display_name": "Python 3",
      "name": "python3"
    },
    "language_info": {
      "name": "python"
    }
  },
  "nbformat": 4,
  "nbformat_minor": 0
}